{
 "cells": [
  {
   "cell_type": "code",
   "execution_count": 1,
   "id": "1d62c5c8-9af5-4fda-bd75-bb1d0d5f380f",
   "metadata": {},
   "outputs": [],
   "source": [
    "import os\n",
    "import json\n",
    "\n",
    "from pathlib import Path\n",
    "from collections import defaultdict, Counter\n",
    "from itertools import chain, starmap\n",
    "\n",
    "import numpy as np\n",
    "import pandas as pd\n",
    "import matplotlib.pyplot as plt"
   ]
  },
  {
   "cell_type": "code",
   "execution_count": 178,
   "id": "ccbf5a2c-6dd0-4136-ab0f-1dc194051d28",
   "metadata": {},
   "outputs": [],
   "source": [
    "df_15 = df_15_bu.copy()\n",
    "df_15[df_15.columns[-7:-1]] = df_15[df_15.columns[-6:]]\n",
    "df_15.drop(\"Station\", axis=1, inplace=True)"
   ]
  },
  {
   "cell_type": "code",
   "execution_count": 179,
   "id": "fb2ceb7e-1315-43d3-b8c3-8e03a02be14c",
   "metadata": {},
   "outputs": [
    {
     "data": {
      "text/html": [
       "<div>\n",
       "<style scoped>\n",
       "    .dataframe tbody tr th:only-of-type {\n",
       "        vertical-align: middle;\n",
       "    }\n",
       "\n",
       "    .dataframe tbody tr th {\n",
       "        vertical-align: top;\n",
       "    }\n",
       "\n",
       "    .dataframe thead th {\n",
       "        text-align: right;\n",
       "    }\n",
       "</style>\n",
       "<table border=\"1\" class=\"dataframe\">\n",
       "  <thead>\n",
       "    <tr style=\"text-align: right;\">\n",
       "      <th></th>\n",
       "      <th>Status</th>\n",
       "      <th>Mnet_Id</th>\n",
       "      <th>Elevation</th>\n",
       "      <th>Name</th>\n",
       "      <th>Stid</th>\n",
       "      <th>Elev_Dem</th>\n",
       "      <th>Longitude</th>\n",
       "      <th>State</th>\n",
       "      <th>Restricted</th>\n",
       "      <th>Qc_Flagged</th>\n",
       "      <th>Latitude</th>\n",
       "      <th>Timezone</th>\n",
       "      <th>Id</th>\n",
       "      <th>Period_Of_Record.Start</th>\n",
       "      <th>Period_Of_Record.End</th>\n",
       "      <th>Observations.Date_Time</th>\n",
       "      <th>Observations.Relative_Humidity_Set_1</th>\n",
       "      <th>Observations.Wind_Speed_Set_1</th>\n",
       "      <th>Observations.Wind_Gust_Set_1</th>\n",
       "    </tr>\n",
       "  </thead>\n",
       "  <tbody>\n",
       "    <tr>\n",
       "      <th>0</th>\n",
       "      <td>ACTIVE</td>\n",
       "      <td>231</td>\n",
       "      <td>6388</td>\n",
       "      <td>SCE Marion Ridge</td>\n",
       "      <td>SE001</td>\n",
       "      <td>6400.9</td>\n",
       "      <td>-116.73432</td>\n",
       "      <td>CA</td>\n",
       "      <td>False</td>\n",
       "      <td>False</td>\n",
       "      <td>33.76594</td>\n",
       "      <td>America/Los_Angeles</td>\n",
       "      <td>70844</td>\n",
       "      <td>2018-06-11T20:11:00Z</td>\n",
       "      <td>2021-06-09T17:50:00Z</td>\n",
       "      <td>2021-01-15T00:00:00Z</td>\n",
       "      <td>22.64</td>\n",
       "      <td>3.33</td>\n",
       "      <td>6.72</td>\n",
       "    </tr>\n",
       "    <tr>\n",
       "      <th>1</th>\n",
       "      <td>ACTIVE</td>\n",
       "      <td>231</td>\n",
       "      <td>6388</td>\n",
       "      <td>SCE Marion Ridge</td>\n",
       "      <td>SE001</td>\n",
       "      <td>6400.9</td>\n",
       "      <td>-116.73432</td>\n",
       "      <td>CA</td>\n",
       "      <td>False</td>\n",
       "      <td>False</td>\n",
       "      <td>33.76594</td>\n",
       "      <td>America/Los_Angeles</td>\n",
       "      <td>70844</td>\n",
       "      <td>2018-06-11T20:11:00Z</td>\n",
       "      <td>2021-06-09T17:50:00Z</td>\n",
       "      <td>2021-01-15T00:10:00Z</td>\n",
       "      <td>24.48</td>\n",
       "      <td>4.06</td>\n",
       "      <td>10.45</td>\n",
       "    </tr>\n",
       "    <tr>\n",
       "      <th>2</th>\n",
       "      <td>ACTIVE</td>\n",
       "      <td>231</td>\n",
       "      <td>6388</td>\n",
       "      <td>SCE Marion Ridge</td>\n",
       "      <td>SE001</td>\n",
       "      <td>6400.9</td>\n",
       "      <td>-116.73432</td>\n",
       "      <td>CA</td>\n",
       "      <td>False</td>\n",
       "      <td>False</td>\n",
       "      <td>33.76594</td>\n",
       "      <td>America/Los_Angeles</td>\n",
       "      <td>70844</td>\n",
       "      <td>2018-06-11T20:11:00Z</td>\n",
       "      <td>2021-06-09T17:50:00Z</td>\n",
       "      <td>2021-01-15T00:20:00Z</td>\n",
       "      <td>25.66</td>\n",
       "      <td>0.78</td>\n",
       "      <td>2.34</td>\n",
       "    </tr>\n",
       "    <tr>\n",
       "      <th>3</th>\n",
       "      <td>ACTIVE</td>\n",
       "      <td>231</td>\n",
       "      <td>6388</td>\n",
       "      <td>SCE Marion Ridge</td>\n",
       "      <td>SE001</td>\n",
       "      <td>6400.9</td>\n",
       "      <td>-116.73432</td>\n",
       "      <td>CA</td>\n",
       "      <td>False</td>\n",
       "      <td>False</td>\n",
       "      <td>33.76594</td>\n",
       "      <td>America/Los_Angeles</td>\n",
       "      <td>70844</td>\n",
       "      <td>2018-06-11T20:11:00Z</td>\n",
       "      <td>2021-06-09T17:50:00Z</td>\n",
       "      <td>2021-01-15T00:30:00Z</td>\n",
       "      <td>25.29</td>\n",
       "      <td>1.46</td>\n",
       "      <td>4.89</td>\n",
       "    </tr>\n",
       "    <tr>\n",
       "      <th>4</th>\n",
       "      <td>ACTIVE</td>\n",
       "      <td>231</td>\n",
       "      <td>6388</td>\n",
       "      <td>SCE Marion Ridge</td>\n",
       "      <td>SE001</td>\n",
       "      <td>6400.9</td>\n",
       "      <td>-116.73432</td>\n",
       "      <td>CA</td>\n",
       "      <td>False</td>\n",
       "      <td>False</td>\n",
       "      <td>33.76594</td>\n",
       "      <td>America/Los_Angeles</td>\n",
       "      <td>70844</td>\n",
       "      <td>2018-06-11T20:11:00Z</td>\n",
       "      <td>2021-06-09T17:50:00Z</td>\n",
       "      <td>2021-01-15T00:40:00Z</td>\n",
       "      <td>25.61</td>\n",
       "      <td>1.72</td>\n",
       "      <td>3.43</td>\n",
       "    </tr>\n",
       "  </tbody>\n",
       "</table>\n",
       "</div>"
      ],
      "text/plain": [
       "   Status  Mnet_Id  Elevation              Name   Stid  Elev_Dem  Longitude  \\\n",
       "0  ACTIVE      231       6388  SCE Marion Ridge  SE001    6400.9 -116.73432   \n",
       "1  ACTIVE      231       6388  SCE Marion Ridge  SE001    6400.9 -116.73432   \n",
       "2  ACTIVE      231       6388  SCE Marion Ridge  SE001    6400.9 -116.73432   \n",
       "3  ACTIVE      231       6388  SCE Marion Ridge  SE001    6400.9 -116.73432   \n",
       "4  ACTIVE      231       6388  SCE Marion Ridge  SE001    6400.9 -116.73432   \n",
       "\n",
       "  State  Restricted  Qc_Flagged  Latitude             Timezone     Id  \\\n",
       "0    CA       False       False  33.76594  America/Los_Angeles  70844   \n",
       "1    CA       False       False  33.76594  America/Los_Angeles  70844   \n",
       "2    CA       False       False  33.76594  America/Los_Angeles  70844   \n",
       "3    CA       False       False  33.76594  America/Los_Angeles  70844   \n",
       "4    CA       False       False  33.76594  America/Los_Angeles  70844   \n",
       "\n",
       "  Period_Of_Record.Start  Period_Of_Record.End Observations.Date_Time  \\\n",
       "0   2018-06-11T20:11:00Z  2021-06-09T17:50:00Z   2021-01-15T00:00:00Z   \n",
       "1   2018-06-11T20:11:00Z  2021-06-09T17:50:00Z   2021-01-15T00:10:00Z   \n",
       "2   2018-06-11T20:11:00Z  2021-06-09T17:50:00Z   2021-01-15T00:20:00Z   \n",
       "3   2018-06-11T20:11:00Z  2021-06-09T17:50:00Z   2021-01-15T00:30:00Z   \n",
       "4   2018-06-11T20:11:00Z  2021-06-09T17:50:00Z   2021-01-15T00:40:00Z   \n",
       "\n",
       "  Observations.Relative_Humidity_Set_1 Observations.Wind_Speed_Set_1  \\\n",
       "0                                22.64                          3.33   \n",
       "1                                24.48                          4.06   \n",
       "2                                25.66                          0.78   \n",
       "3                                25.29                          1.46   \n",
       "4                                25.61                          1.72   \n",
       "\n",
       "  Observations.Wind_Gust_Set_1  \n",
       "0                         6.72  \n",
       "1                        10.45  \n",
       "2                         2.34  \n",
       "3                         4.89  \n",
       "4                         3.43  "
      ]
     },
     "execution_count": 179,
     "metadata": {},
     "output_type": "execute_result"
    }
   ],
   "source": [
    "df_15.head()"
   ]
  },
  {
   "cell_type": "code",
   "execution_count": 182,
   "id": "4901c033-e706-49a9-b91d-88f4f1cae457",
   "metadata": {},
   "outputs": [],
   "source": [
    "dfs = [df_12, df_15, df_18]"
   ]
  },
  {
   "cell_type": "code",
   "execution_count": 183,
   "id": "32d9f277-c5de-4f8d-bb77-c10aba5e994b",
   "metadata": {},
   "outputs": [],
   "source": [
    "df = pd.concat(dfs)"
   ]
  },
  {
   "cell_type": "code",
   "execution_count": 184,
   "id": "51fac3a1-d6b1-472f-a93b-70a89d0f491b",
   "metadata": {},
   "outputs": [],
   "source": [
    "df[\"Station\"] = df.Stid.str.replace(\"SE\", \"\").apply(lambda i: int(i))"
   ]
  },
  {
   "cell_type": "code",
   "execution_count": 195,
   "id": "57dd6f22-fab6-47b2-b88f-e8254b3395ec",
   "metadata": {},
   "outputs": [],
   "source": [
    "df = df.rename(columns = {\"Observations.Date_Time\":\"Time\", \"Observations.Relative_Humidity_Set_1\":\"RelHum\", \"Observations.Wind_Speed_Set_1\":\"WindSpd\", \"Observations.Wind_Gust_Set_1\":\"GustSpd\"})"
   ]
  },
  {
   "cell_type": "code",
   "execution_count": 186,
   "id": "0194abac-29e3-482d-ac2b-ad0dcf805ea7",
   "metadata": {},
   "outputs": [],
   "source": [
    "df.reset_index(drop=True, inplace=True)"
   ]
  },
  {
   "cell_type": "code",
   "execution_count": 196,
   "id": "b0faf2d5-3e45-403f-a6ca-ef7ba4387efb",
   "metadata": {},
   "outputs": [],
   "source": [
    "df.to_csv(\"./sce.csv\", index=False)"
   ]
  },
  {
   "cell_type": "code",
   "execution_count": 162,
   "id": "352db1e3-0e5c-4dc1-b2fe-205940002e51",
   "metadata": {},
   "outputs": [
    {
     "data": {
      "text/plain": [
       "1013946"
      ]
     },
     "execution_count": 162,
     "metadata": {},
     "output_type": "execute_result"
    }
   ],
   "source": [
    "len(df.index)"
   ]
  },
  {
   "cell_type": "code",
   "execution_count": 188,
   "id": "1b49211c-4025-4783-8968-da1dc54d81db",
   "metadata": {},
   "outputs": [],
   "source": [
    "sce = pd.read_csv(\"sce.csv\", parse_dates = [\"Time\", \"Period_Of_Record.Start\", \"Period_Of_Record.End\"])"
   ]
  },
  {
   "cell_type": "code",
   "execution_count": 210,
   "id": "e0ba927c-79cd-48e1-9045-d33b02f940de",
   "metadata": {},
   "outputs": [
    {
     "data": {
      "text/plain": [
       "Status                                 object\n",
       "Mnet_Id                                 int64\n",
       "Elevation                               int64\n",
       "Name                                   object\n",
       "Stid                                   object\n",
       "Elev_Dem                              float64\n",
       "Longitude                             float64\n",
       "State                                  object\n",
       "Restricted                               bool\n",
       "Qc_Flagged                               bool\n",
       "Latitude                              float64\n",
       "Timezone                               object\n",
       "Id                                      int64\n",
       "Period_Of_Record.Start    datetime64[ns, UTC]\n",
       "Period_Of_Record.End      datetime64[ns, UTC]\n",
       "Time                      datetime64[ns, UTC]\n",
       "RelHum                                float64\n",
       "WindSpeed                             float64\n",
       "GustSpeed                             float64\n",
       "Station                                 int64\n",
       "dtype: object"
      ]
     },
     "execution_count": 210,
     "metadata": {},
     "output_type": "execute_result"
    }
   ],
   "source": [
    "sce.dtypes"
   ]
  },
  {
   "cell_type": "code",
   "execution_count": 206,
   "id": "c6e7ecd3-92e6-4b0c-b0fa-dda5917cfddb",
   "metadata": {},
   "outputs": [
    {
     "data": {
      "text/plain": [
       "count    1.013935e+06\n",
       "mean     2.881012e+01\n",
       "std      1.654797e+01\n",
       "min      8.800000e-01\n",
       "0%       8.800000e-01\n",
       "1%       9.050000e+00\n",
       "2%       1.003000e+01\n",
       "3%       1.074000e+01\n",
       "4%       1.130000e+01\n",
       "5%       1.175000e+01\n",
       "6%       1.213000e+01\n",
       "7%       1.249000e+01\n",
       "8%       1.282000e+01\n",
       "9%       1.312000e+01\n",
       "10%      1.341000e+01\n",
       "11%      1.370000e+01\n",
       "12%      1.398000e+01\n",
       "13%      1.428000e+01\n",
       "14%      1.456000e+01\n",
       "Name: RelHum, dtype: float64"
      ]
     },
     "execution_count": 206,
     "metadata": {},
     "output_type": "execute_result"
    }
   ],
   "source": [
    "sce.RelHum.describe(percentiles=np.arange(0,1,.01)).iloc[:19]"
   ]
  },
  {
   "cell_type": "code",
   "execution_count": 209,
   "id": "87bc7466-1ac8-4e31-82fc-78266c42673c",
   "metadata": {},
   "outputs": [
    {
     "data": {
      "text/plain": [
       "0          2021-01-12\n",
       "1          2021-01-12\n",
       "2          2021-01-12\n",
       "3          2021-01-12\n",
       "4          2021-01-12\n",
       "              ...    \n",
       "1013941    2021-01-20\n",
       "1013942    2021-01-20\n",
       "1013943    2021-01-20\n",
       "1013944    2021-01-20\n",
       "1013945    2021-01-21\n",
       "Name: Time, Length: 1013946, dtype: object"
      ]
     },
     "execution_count": 209,
     "metadata": {},
     "output_type": "execute_result"
    }
   ],
   "source": [
    "sce[\"Date\"] = sce.Time.dt.date"
   ]
  },
  {
   "cell_type": "code",
   "execution_count": null,
   "id": "19d6474b-a6d3-468a-9d51-316de36df767",
   "metadata": {},
   "outputs": [],
   "source": []
  }
 ],
 "metadata": {
  "kernelspec": {
   "display_name": "Python 3",
   "language": "python",
   "name": "python3"
  },
  "language_info": {
   "codemirror_mode": {
    "name": "ipython",
    "version": 3
   },
   "file_extension": ".py",
   "mimetype": "text/x-python",
   "name": "python",
   "nbconvert_exporter": "python",
   "pygments_lexer": "ipython3",
   "version": "3.7.10"
  }
 },
 "nbformat": 4,
 "nbformat_minor": 5
}
