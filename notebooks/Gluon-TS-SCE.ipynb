{
 "cells": [
  {
   "cell_type": "code",
   "execution_count": 178,
   "id": "2890e807",
   "metadata": {},
   "outputs": [],
   "source": [
    "import os\n",
    "import json\n",
    "\n",
    "from pathlib import Path\n",
    "from collections import defaultdict, Counter\n",
    "from itertools import chain, starmap\n",
    "\n",
    "import numpy as np\n",
    "import pandas as pd\n",
    "import matplotlib.pyplot as plt"
   ]
  },
  {
   "cell_type": "markdown",
   "id": "c51a6445-8b6f-4c78-ae8c-7ede634bfc9b",
   "metadata": {},
   "source": [
    "### Load Weather Report data\n",
    "\n",
    "Covers January 12 to 21 2021, with readings every 10 minutes\n",
    "\n",
    "- \"Time\" column contains timestamps in format yyyy-mm-dd hh:mm:ss\n",
    "- Time series features for training are Relative Humidity (\"RelHum\"), Wind and Gust Speed (\"WindSpd\", \"GustSpd\")\n",
    "- Categorical features for the model include the (integer) station id, and (float) latitude and longitude"
   ]
  },
  {
   "cell_type": "code",
   "execution_count": 180,
   "id": "1954dcd8",
   "metadata": {
    "tags": []
   },
   "outputs": [
    {
     "data": {
      "text/html": [
       "<div>\n",
       "<style scoped>\n",
       "    .dataframe tbody tr th:only-of-type {\n",
       "        vertical-align: middle;\n",
       "    }\n",
       "\n",
       "    .dataframe tbody tr th {\n",
       "        vertical-align: top;\n",
       "    }\n",
       "\n",
       "    .dataframe thead th {\n",
       "        text-align: right;\n",
       "    }\n",
       "</style>\n",
       "<table border=\"1\" class=\"dataframe\">\n",
       "  <thead>\n",
       "    <tr style=\"text-align: right;\">\n",
       "      <th></th>\n",
       "      <th>Status</th>\n",
       "      <th>Mnet_Id</th>\n",
       "      <th>Elevation</th>\n",
       "      <th>Name</th>\n",
       "      <th>Elev_Dem</th>\n",
       "      <th>Longitude</th>\n",
       "      <th>State</th>\n",
       "      <th>Restricted</th>\n",
       "      <th>Qc_Flagged</th>\n",
       "      <th>Latitude</th>\n",
       "      <th>Timezone</th>\n",
       "      <th>Id</th>\n",
       "      <th>Period_Of_Record.Start</th>\n",
       "      <th>Period_Of_Record.End</th>\n",
       "      <th>Time</th>\n",
       "      <th>RelHum</th>\n",
       "      <th>WindSpd</th>\n",
       "      <th>GustSpd</th>\n",
       "      <th>Date</th>\n",
       "      <th>Station</th>\n",
       "    </tr>\n",
       "  </thead>\n",
       "  <tbody>\n",
       "    <tr>\n",
       "      <th>0</th>\n",
       "      <td>ACTIVE</td>\n",
       "      <td>231</td>\n",
       "      <td>6388</td>\n",
       "      <td>SCE Marion Ridge</td>\n",
       "      <td>6400.9</td>\n",
       "      <td>-116.73432</td>\n",
       "      <td>CA</td>\n",
       "      <td>False</td>\n",
       "      <td>False</td>\n",
       "      <td>33.76594</td>\n",
       "      <td>America/Los_Angeles</td>\n",
       "      <td>70844</td>\n",
       "      <td>2018-06-11 20:11:00+00:00</td>\n",
       "      <td>2021-06-09 17:50:00+00:00</td>\n",
       "      <td>2021-01-12 00:00:00</td>\n",
       "      <td>30.89</td>\n",
       "      <td>2.87</td>\n",
       "      <td>6.43</td>\n",
       "      <td>2021-01-12</td>\n",
       "      <td>SE001</td>\n",
       "    </tr>\n",
       "    <tr>\n",
       "      <th>1</th>\n",
       "      <td>ACTIVE</td>\n",
       "      <td>231</td>\n",
       "      <td>6388</td>\n",
       "      <td>SCE Marion Ridge</td>\n",
       "      <td>6400.9</td>\n",
       "      <td>-116.73432</td>\n",
       "      <td>CA</td>\n",
       "      <td>False</td>\n",
       "      <td>False</td>\n",
       "      <td>33.76594</td>\n",
       "      <td>America/Los_Angeles</td>\n",
       "      <td>70844</td>\n",
       "      <td>2018-06-11 20:11:00+00:00</td>\n",
       "      <td>2021-06-09 17:50:00+00:00</td>\n",
       "      <td>2021-01-12 00:10:00</td>\n",
       "      <td>30.83</td>\n",
       "      <td>3.27</td>\n",
       "      <td>8.26</td>\n",
       "      <td>2021-01-12</td>\n",
       "      <td>SE001</td>\n",
       "    </tr>\n",
       "    <tr>\n",
       "      <th>2</th>\n",
       "      <td>ACTIVE</td>\n",
       "      <td>231</td>\n",
       "      <td>6388</td>\n",
       "      <td>SCE Marion Ridge</td>\n",
       "      <td>6400.9</td>\n",
       "      <td>-116.73432</td>\n",
       "      <td>CA</td>\n",
       "      <td>False</td>\n",
       "      <td>False</td>\n",
       "      <td>33.76594</td>\n",
       "      <td>America/Los_Angeles</td>\n",
       "      <td>70844</td>\n",
       "      <td>2018-06-11 20:11:00+00:00</td>\n",
       "      <td>2021-06-09 17:50:00+00:00</td>\n",
       "      <td>2021-01-12 00:20:00</td>\n",
       "      <td>31.16</td>\n",
       "      <td>2.16</td>\n",
       "      <td>6.06</td>\n",
       "      <td>2021-01-12</td>\n",
       "      <td>SE001</td>\n",
       "    </tr>\n",
       "    <tr>\n",
       "      <th>3</th>\n",
       "      <td>ACTIVE</td>\n",
       "      <td>231</td>\n",
       "      <td>6388</td>\n",
       "      <td>SCE Marion Ridge</td>\n",
       "      <td>6400.9</td>\n",
       "      <td>-116.73432</td>\n",
       "      <td>CA</td>\n",
       "      <td>False</td>\n",
       "      <td>False</td>\n",
       "      <td>33.76594</td>\n",
       "      <td>America/Los_Angeles</td>\n",
       "      <td>70844</td>\n",
       "      <td>2018-06-11 20:11:00+00:00</td>\n",
       "      <td>2021-06-09 17:50:00+00:00</td>\n",
       "      <td>2021-01-12 00:30:00</td>\n",
       "      <td>32.43</td>\n",
       "      <td>1.29</td>\n",
       "      <td>4.38</td>\n",
       "      <td>2021-01-12</td>\n",
       "      <td>SE001</td>\n",
       "    </tr>\n",
       "    <tr>\n",
       "      <th>4</th>\n",
       "      <td>ACTIVE</td>\n",
       "      <td>231</td>\n",
       "      <td>6388</td>\n",
       "      <td>SCE Marion Ridge</td>\n",
       "      <td>6400.9</td>\n",
       "      <td>-116.73432</td>\n",
       "      <td>CA</td>\n",
       "      <td>False</td>\n",
       "      <td>False</td>\n",
       "      <td>33.76594</td>\n",
       "      <td>America/Los_Angeles</td>\n",
       "      <td>70844</td>\n",
       "      <td>2018-06-11 20:11:00+00:00</td>\n",
       "      <td>2021-06-09 17:50:00+00:00</td>\n",
       "      <td>2021-01-12 00:40:00</td>\n",
       "      <td>32.18</td>\n",
       "      <td>1.32</td>\n",
       "      <td>3.58</td>\n",
       "      <td>2021-01-12</td>\n",
       "      <td>SE001</td>\n",
       "    </tr>\n",
       "  </tbody>\n",
       "</table>\n",
       "</div>"
      ],
      "text/plain": [
       "   Status  Mnet_Id  Elevation              Name  Elev_Dem  Longitude State  \\\n",
       "0  ACTIVE      231       6388  SCE Marion Ridge    6400.9 -116.73432    CA   \n",
       "1  ACTIVE      231       6388  SCE Marion Ridge    6400.9 -116.73432    CA   \n",
       "2  ACTIVE      231       6388  SCE Marion Ridge    6400.9 -116.73432    CA   \n",
       "3  ACTIVE      231       6388  SCE Marion Ridge    6400.9 -116.73432    CA   \n",
       "4  ACTIVE      231       6388  SCE Marion Ridge    6400.9 -116.73432    CA   \n",
       "\n",
       "   Restricted  Qc_Flagged  Latitude             Timezone     Id  \\\n",
       "0       False       False  33.76594  America/Los_Angeles  70844   \n",
       "1       False       False  33.76594  America/Los_Angeles  70844   \n",
       "2       False       False  33.76594  America/Los_Angeles  70844   \n",
       "3       False       False  33.76594  America/Los_Angeles  70844   \n",
       "4       False       False  33.76594  America/Los_Angeles  70844   \n",
       "\n",
       "      Period_Of_Record.Start       Period_Of_Record.End                Time  \\\n",
       "0  2018-06-11 20:11:00+00:00  2021-06-09 17:50:00+00:00 2021-01-12 00:00:00   \n",
       "1  2018-06-11 20:11:00+00:00  2021-06-09 17:50:00+00:00 2021-01-12 00:10:00   \n",
       "2  2018-06-11 20:11:00+00:00  2021-06-09 17:50:00+00:00 2021-01-12 00:20:00   \n",
       "3  2018-06-11 20:11:00+00:00  2021-06-09 17:50:00+00:00 2021-01-12 00:30:00   \n",
       "4  2018-06-11 20:11:00+00:00  2021-06-09 17:50:00+00:00 2021-01-12 00:40:00   \n",
       "\n",
       "   RelHum  WindSpd  GustSpd       Date Station  \n",
       "0   30.89     2.87     6.43 2021-01-12   SE001  \n",
       "1   30.83     3.27     8.26 2021-01-12   SE001  \n",
       "2   31.16     2.16     6.06 2021-01-12   SE001  \n",
       "3   32.43     1.29     4.38 2021-01-12   SE001  \n",
       "4   32.18     1.32     3.58 2021-01-12   SE001  "
      ]
     },
     "execution_count": 180,
     "metadata": {},
     "output_type": "execute_result"
    }
   ],
   "source": [
    "wr = pd.read_csv(\"../data/sce.csv\", parse_dates=[\"Time\", \"Date\"])\n",
    "wr.head()"
   ]
  },
  {
   "cell_type": "code",
   "execution_count": 181,
   "id": "d1cfabb9-2333-4f05-a092-0cbe0befa42d",
   "metadata": {},
   "outputs": [
    {
     "data": {
      "text/plain": [
       "Index(['Status', 'Mnet_Id', 'Elevation', 'Name', 'Elev_Dem', 'Longitude',\n",
       "       'State', 'Restricted', 'Qc_Flagged', 'Latitude', 'Timezone', 'Id',\n",
       "       'Period_Of_Record.Start', 'Period_Of_Record.End', 'Time', 'RelHum',\n",
       "       'WindSpd', 'GustSpd', 'Date', 'Station'],\n",
       "      dtype='object')"
      ]
     },
     "execution_count": 181,
     "metadata": {},
     "output_type": "execute_result"
    }
   ],
   "source": [
    "wr_dt_columns = [\"Date\", \"Time\"]\n",
    "wr_ts_columns = [\"RelHum\", \"WindSpd\", \"GustSpd\"]\n",
    "wr_cat_columns = [\"Station\"]\n",
    "wr_cat_real_columns = [\"Latitude\", \"Longitude\"]"
   ]
  },
  {
   "cell_type": "markdown",
   "id": "067e4249-eee4-473c-8b4f-1e1b3ad89425",
   "metadata": {},
   "source": [
    "We identify the extreme values in humidity and wind by percentile, and filter those stations that recorded these values for later inspection.  Note that the thresholds used by SCE are 31 and 46 mph for wind and gust, respectively, which roughly corresponds to the 99th percentile"
   ]
  },
  {
   "cell_type": "code",
   "execution_count": 182,
   "id": "028433e6-fe54-45ef-bf30-a7cfd25b1150",
   "metadata": {},
   "outputs": [
    {
     "data": {
      "text/html": [
       "<div>\n",
       "<style scoped>\n",
       "    .dataframe tbody tr th:only-of-type {\n",
       "        vertical-align: middle;\n",
       "    }\n",
       "\n",
       "    .dataframe tbody tr th {\n",
       "        vertical-align: top;\n",
       "    }\n",
       "\n",
       "    .dataframe thead th {\n",
       "        text-align: right;\n",
       "    }\n",
       "</style>\n",
       "<table border=\"1\" class=\"dataframe\">\n",
       "  <thead>\n",
       "    <tr style=\"text-align: right;\">\n",
       "      <th></th>\n",
       "      <th>WindSpd</th>\n",
       "      <th>GustSpd</th>\n",
       "    </tr>\n",
       "  </thead>\n",
       "  <tbody>\n",
       "    <tr>\n",
       "      <th>91%</th>\n",
       "      <td>14.91</td>\n",
       "      <td>26.96</td>\n",
       "    </tr>\n",
       "    <tr>\n",
       "      <th>92%</th>\n",
       "      <td>15.66</td>\n",
       "      <td>28.12</td>\n",
       "    </tr>\n",
       "    <tr>\n",
       "      <th>93%</th>\n",
       "      <td>16.51</td>\n",
       "      <td>29.37</td>\n",
       "    </tr>\n",
       "    <tr>\n",
       "      <th>94%</th>\n",
       "      <td>17.45</td>\n",
       "      <td>30.83</td>\n",
       "    </tr>\n",
       "    <tr>\n",
       "      <th>95%</th>\n",
       "      <td>18.61</td>\n",
       "      <td>32.44</td>\n",
       "    </tr>\n",
       "    <tr>\n",
       "      <th>96%</th>\n",
       "      <td>20.01</td>\n",
       "      <td>34.34</td>\n",
       "    </tr>\n",
       "    <tr>\n",
       "      <th>97%</th>\n",
       "      <td>21.81</td>\n",
       "      <td>36.74</td>\n",
       "    </tr>\n",
       "    <tr>\n",
       "      <th>98%</th>\n",
       "      <td>24.29</td>\n",
       "      <td>40.04</td>\n",
       "    </tr>\n",
       "    <tr>\n",
       "      <th>99%</th>\n",
       "      <td>28.12</td>\n",
       "      <td>45.23</td>\n",
       "    </tr>\n",
       "    <tr>\n",
       "      <th>max</th>\n",
       "      <td>70.64</td>\n",
       "      <td>98.90</td>\n",
       "    </tr>\n",
       "  </tbody>\n",
       "</table>\n",
       "</div>"
      ],
      "text/plain": [
       "     WindSpd  GustSpd\n",
       "91%    14.91    26.96\n",
       "92%    15.66    28.12\n",
       "93%    16.51    29.37\n",
       "94%    17.45    30.83\n",
       "95%    18.61    32.44\n",
       "96%    20.01    34.34\n",
       "97%    21.81    36.74\n",
       "98%    24.29    40.04\n",
       "99%    28.12    45.23\n",
       "max    70.64    98.90"
      ]
     },
     "execution_count": 182,
     "metadata": {},
     "output_type": "execute_result"
    }
   ],
   "source": [
    "wind_gust_perc = wr[[\"WindSpd\", \"GustSpd\"]].describe(percentiles=np.arange(0,1,.01))[-10:]\n",
    "wind_gust_perc"
   ]
  },
  {
   "cell_type": "code",
   "execution_count": 183,
   "id": "791d5203-753f-4b1a-9e37-4bf841989589",
   "metadata": {},
   "outputs": [
    {
     "data": {
      "text/plain": [
       "0%      0.88\n",
       "1%      9.00\n",
       "2%      9.97\n",
       "3%     10.67\n",
       "4%     11.22\n",
       "5%     11.67\n",
       "6%     12.05\n",
       "7%     12.40\n",
       "8%     12.73\n",
       "9%     13.02\n",
       "10%    13.31\n",
       "Name: RelHum, dtype: float64"
      ]
     },
     "execution_count": 183,
     "metadata": {},
     "output_type": "execute_result"
    }
   ],
   "source": [
    "hum_perc = wr[\"RelHum\"].describe(percentiles=np.arange(0,1,.01))[4:15]\n",
    "hum_perc"
   ]
  },
  {
   "cell_type": "code",
   "execution_count": 184,
   "id": "0a572899-a1fa-415c-97a5-47aba94e3ed8",
   "metadata": {},
   "outputs": [],
   "source": [
    "outliers = wr[(wr.WindSpd > wind_gust_perc.WindSpd[\"99%\"]) & (wr.GustSpd > wind_gust_perc.GustSpd[\"99%\"]) & (wr.RelHum < hum_perc[\"10%\"])]"
   ]
  },
  {
   "cell_type": "code",
   "execution_count": 185,
   "id": "49e47671-498f-4cc2-aff3-a26685c89b41",
   "metadata": {},
   "outputs": [
    {
     "data": {
      "text/plain": [
       "array([ 71312,  72882,  88896,  89911,  89912,  92121, 108441, 125752,\n",
       "       139780, 141651, 141652, 142942, 150331, 151178, 152233, 152320,\n",
       "       152639, 152640, 152657, 152687, 156554, 156555])"
      ]
     },
     "execution_count": 185,
     "metadata": {},
     "output_type": "execute_result"
    }
   ],
   "source": [
    "outliers.Id.unique()"
   ]
  },
  {
   "cell_type": "markdown",
   "id": "ac69a4be-8b1f-406f-ba2a-01055c298b9e",
   "metadata": {},
   "source": [
    "### Visualizations by Station\n",
    "\n",
    "Plots of humidity and wind speed"
   ]
  },
  {
   "cell_type": "code",
   "execution_count": 266,
   "id": "4a8aec24-c47e-4f98-9c2d-462d964078ea",
   "metadata": {},
   "outputs": [
    {
     "data": {
      "text/plain": [
       "<matplotlib.legend.Legend at 0x7fd193ede790>"
      ]
     },
     "execution_count": 266,
     "metadata": {},
     "output_type": "execute_result"
    },
    {
     "data": {
      "image/png": "[encoded data removed]",
      "text/plain": [
       "<Figure size 1728x1152 with 2 Axes>"
      ]
     },
     "metadata": {
      "needs_background": "light"
     },
     "output_type": "display_data"
    }
   ],
   "source": [
    "station_id = 88896\n",
    "wrs = wr[(wr.Id==station_id)].copy().set_index(\"Time\")\n",
    "fig, ax = plt.subplots(2, 1,figsize=(24,16))\n",
    "\n",
    "ax[0].plot(wrs[\"RelHum\"], color=\"red\", label=\"Relative Humidity\")\n",
    "ax[0].set_title(\"{} - Humidity\".format(station_id, c))    \n",
    "\n",
    "ax[1].plot(wrs[\"WindSpd\"], label=\"Wind Speed\")\n",
    "ax[1].plot(wrs[\"GustSpd\"], color=\"purple\", label=\"Gust Speed\")\n",
    "ax[1].set_title(\"{} - Wind, Gust Speed\".format(station_id, c))\n",
    "ax[1].legend()"
   ]
  },
  {
   "cell_type": "markdown",
   "id": "9f499f3c",
   "metadata": {},
   "source": [
    "## GlutonTS\n",
    "\n",
    "In this section we prepare the data for training with GluonTS, and train their DeepAR model"
   ]
  },
  {
   "cell_type": "code",
   "execution_count": 44,
   "id": "4e18a19a-d707-4910-853b-01f2be023a86",
   "metadata": {},
   "outputs": [],
   "source": [
    "from gluonts.mx.trainer import Trainer\n",
    "from gluonts.model.predictor import Predictor\n",
    "from gluonts.evaluation import make_evaluation_predictions\n",
    "from gluonts.dataset.common import ListDataset\n",
    "from gluonts.evaluation import Evaluator"
   ]
  },
  {
   "cell_type": "code",
   "execution_count": 45,
   "id": "ae6e7b87-d538-43db-82f9-e0955c08d67b",
   "metadata": {},
   "outputs": [],
   "source": [
    "from gluonts.model.deepar import DeepAREstimator\n",
    "from gluonts.model.deepvar import DeepVAREstimator"
   ]
  },
  {
   "cell_type": "markdown",
   "id": "d4a769ff-ba7f-44d9-ab53-c658edc0a2ef",
   "metadata": {},
   "source": [
    "For preprocessing, we do the following:\n",
    "- Make a copy of the dataset\n",
    "- Remove duplicates based on the values in the Id, time series, and categorical features column\n",
    "- Set the index as the \"Time\" column (helpful/required by gluonts)\n",
    "- Cut-off the data after January 20th, this time period was chosen based on analysis of PSPS reports from SCE\n",
    "- Filter out stations with missing values; there should be 1152 readings for the 8 day period"
   ]
  },
  {
   "cell_type": "code",
   "execution_count": 199,
   "id": "ce1cf2dc",
   "metadata": {},
   "outputs": [],
   "source": [
    "wr_gts = wr.copy()\n",
    "wr_gts.drop_duplicates(subset = [\"Id\"] + wr_ts_columns + wr_dt_columns, inplace=True)\n",
    "wr_gts.set_index([\"Time\"], inplace=True)\n",
    "wr_gts = wr_gts.loc[:\"2021-01-20 00:00:00\"]"
   ]
  },
  {
   "cell_type": "code",
   "execution_count": 200,
   "id": "27a3267a-69b3-4406-ab91-e6ebf5f7759b",
   "metadata": {},
   "outputs": [],
   "source": [
    "# Filter out weather stations with < 8 days worth of 10-minute data\n",
    "wr_gts_id_counts = wr_gts.groupby(\"Id\").count().RelHum\n",
    "wr_gts_ids = wr_gts_id_counts[wr_gts_id_counts >= 1152].index\n",
    "wr_gts = wr_gts[wr_gts.Id.isin(wr_gts_ids)]"
   ]
  },
  {
   "cell_type": "code",
   "execution_count": 206,
   "id": "c5274385-8dd3-4ee6-a3da-7e3ad41c2c76",
   "metadata": {},
   "outputs": [
    {
     "name": "stdout",
     "output_type": "stream",
     "text": [
      "Number of Weather Stations:  (261,)\n",
      "Number of records:  (300901,)\n"
     ]
    }
   ],
   "source": [
    "print(\"Number of Weather Stations:  {}\".format(wr_gts.Id.unique().shape))\n",
    "print(\"Number of records:  {}\".format(wr_gts.index.shape))"
   ]
  },
  {
   "cell_type": "code",
   "execution_count": 203,
   "id": "b9d9eb7a-b2d7-4942-963c-5a7348e6a6f9",
   "metadata": {},
   "outputs": [
    {
     "data": {
      "text/plain": [
       "array([71312, 88896, 89911, 89912])"
      ]
     },
     "execution_count": 203,
     "metadata": {},
     "output_type": "execute_result"
    }
   ],
   "source": [
    "# Same outlier computation as above, now for filtered data\n",
    "train_outliers = wr_gts[(wr_gts.WindSpd > wind_gust_perc.WindSpd[\"99%\"]) & (wr_gts.GustSpd > wind_gust_perc.GustSpd[\"99%\"]) & (wr_gts.RelHum < hum_perc[\"10%\"])]\n",
    "train_outliers.Id.unique()"
   ]
  },
  {
   "cell_type": "code",
   "execution_count": 208,
   "id": "e4d3d599-e9bf-4192-8aeb-393cb911417d",
   "metadata": {},
   "outputs": [],
   "source": [
    "# We take all data up to the 19th for training, and test with the data up to the 20th\n",
    "training_time_cutoff = \"2021-01-19 00:00:00\"\n",
    "testing_time_cutoff = \"2021-01-20 00:00:00\""
   ]
  },
  {
   "cell_type": "code",
   "execution_count": 213,
   "id": "04140e19",
   "metadata": {
    "tags": []
   },
   "outputs": [],
   "source": [
    "# We group data by station Id, separate out the three features of humidity, wind, and gust, and format them into dictionaries as required by GluonTS\n",
    "all_single_training_datasets = []\n",
    "for (station_id, df) in wr_gts.groupby(\"Id\"):\n",
    "    tss = df[wr_ts_columns].transpose().iterrows()\n",
    "    for (c, ts) in tss:\n",
    "        all_single_training_datasets.append({\n",
    "            \"item_id\": \"Training:  {} - {}\".format(station_id, c),\n",
    "            \"start\": ts.index[0],\n",
    "            \"target\": ts.loc[:training_time_cutoff],\n",
    "            \"feat_static_cat\": [station_id],\n",
    "            \"feat_static_real\": [df[wr_cat_real_columns[0]].unique()[0], df[wr_cat_real_columns[1]].unique()[0]] #lat, long\n",
    "        })"
   ]
  },
  {
   "cell_type": "code",
   "execution_count": 214,
   "id": "a1297251-4dd7-472d-904f-7886b18cefb0",
   "metadata": {},
   "outputs": [
    {
     "data": {
      "text/plain": [
       "{'item_id': 'Training:  70844 - RelHum',\n",
       " 'start': Timestamp('2021-01-12 00:00:00'),\n",
       " 'target': Time\n",
       " 2021-01-12 00:00:00    30.89\n",
       " 2021-01-12 00:10:00    30.83\n",
       " 2021-01-12 00:20:00    31.16\n",
       " 2021-01-12 00:30:00    32.43\n",
       " 2021-01-12 00:40:00    32.18\n",
       "                        ...  \n",
       " 2021-01-18 23:20:00    21.12\n",
       " 2021-01-18 23:30:00    21.28\n",
       " 2021-01-18 23:40:00    21.44\n",
       " 2021-01-18 23:50:00    21.83\n",
       " 2021-01-19 00:00:00    22.28\n",
       " Name: RelHum, Length: 1009, dtype: float64,\n",
       " 'feat_static_cat': [70844],\n",
       " 'feat_static_real': [33.76594, -116.73432]}"
      ]
     },
     "execution_count": 214,
     "metadata": {},
     "output_type": "execute_result"
    }
   ],
   "source": [
    "all_single_training_datasets[0]"
   ]
  },
  {
   "cell_type": "code",
   "execution_count": 215,
   "id": "01fd90f9-1d5e-4d8f-855a-b041c8f53ab8",
   "metadata": {
    "tags": []
   },
   "outputs": [],
   "source": [
    "all_single_training_data = ListDataset(\n",
    "    all_single_training_datasets,\n",
    "    freq = \"10min\",\n",
    ")"
   ]
  },
  {
   "cell_type": "code",
   "execution_count": 216,
   "id": "362dea42-660f-4d4d-9cb9-da6806afa357",
   "metadata": {},
   "outputs": [
    {
     "data": {
      "text/plain": [
       "{'item_id': 'Training:  70844 - RelHum',\n",
       " 'start': Timestamp('2021-01-12 00:00:00', freq='10T'),\n",
       " 'target': array([30.89, 30.83, 31.16, ..., 21.44, 21.83, 22.28], dtype=float32),\n",
       " 'feat_static_cat': array([70844], dtype=int32),\n",
       " 'feat_static_real': array([  33.76594, -116.73432], dtype=float32),\n",
       " 'source': SourceContext(source='list_data', row=0)}"
      ]
     },
     "execution_count": 216,
     "metadata": {},
     "output_type": "execute_result"
    }
   ],
   "source": [
    "next(iter(all_single_training_data))"
   ]
  },
  {
   "cell_type": "code",
   "execution_count": 217,
   "id": "1bbe5b8d",
   "metadata": {
    "tags": []
   },
   "outputs": [],
   "source": [
    "estimator = DeepAREstimator(\n",
    "    freq=\"10min\", \n",
    "    prediction_length=6*24, # 24-hour prediction\n",
    "    trainer=Trainer(epochs=100, batch_size=32), \n",
    "    num_layers=20,\n",
    "    use_feat_static_cat = True, cardinality = [wr.Id.unique().shape[0]], \n",
    "    use_feat_static_real = True,\n",
    ")"
   ]
  },
  {
   "cell_type": "markdown",
   "id": "451c865c-cfc9-4aaa-b797-e71a3d845b58",
   "metadata": {},
   "source": [
    "### Train a new model..."
   ]
  },
  {
   "cell_type": "code",
   "execution_count": 218,
   "id": "4f925e11",
   "metadata": {
    "collapsed": true,
    "jupyter": {
     "outputs_hidden": true
    },
    "tags": []
   },
   "outputs": [
    {
     "name": "stderr",
     "output_type": "stream",
     "text": [
      "100%|██████████| 50/50 [05:07<00:00,  6.16s/it, epoch=1/100, avg_epoch_loss=3.11] \n",
      "100%|██████████| 50/50 [03:00<00:00,  3.62s/it, epoch=2/100, avg_epoch_loss=2.5] \n",
      "100%|██████████| 50/50 [02:57<00:00,  3.54s/it, epoch=3/100, avg_epoch_loss=2.3] \n",
      "100%|██████████| 50/50 [02:59<00:00,  3.59s/it, epoch=4/100, avg_epoch_loss=2.18]\n",
      "100%|██████████| 50/50 [03:03<00:00,  3.67s/it, epoch=5/100, avg_epoch_loss=2.12]\n",
      "100%|██████████| 50/50 [03:03<00:00,  3.67s/it, epoch=6/100, avg_epoch_loss=2.1] \n",
      "100%|██████████| 50/50 [03:03<00:00,  3.68s/it, epoch=7/100, avg_epoch_loss=2.04]\n",
      "100%|██████████| 50/50 [03:04<00:00,  3.68s/it, epoch=8/100, avg_epoch_loss=2.09]\n",
      "100%|██████████| 50/50 [03:01<00:00,  3.63s/it, epoch=9/100, avg_epoch_loss=2.04]\n",
      "100%|██████████| 50/50 [02:59<00:00,  3.59s/it, epoch=10/100, avg_epoch_loss=2.03]\n",
      "100%|██████████| 50/50 [02:58<00:00,  3.57s/it, epoch=11/100, avg_epoch_loss=1.92]\n",
      "100%|██████████| 50/50 [02:54<00:00,  3.49s/it, epoch=12/100, avg_epoch_loss=1.99]\n",
      "100%|██████████| 50/50 [02:55<00:00,  3.52s/it, epoch=13/100, avg_epoch_loss=1.95]\n",
      "100%|██████████| 50/50 [02:54<00:00,  3.50s/it, epoch=14/100, avg_epoch_loss=1.93]\n",
      "100%|██████████| 50/50 [02:54<00:00,  3.49s/it, epoch=15/100, avg_epoch_loss=1.94]\n",
      "100%|██████████| 50/50 [02:54<00:00,  3.50s/it, epoch=16/100, avg_epoch_loss=1.96]\n",
      "100%|██████████| 50/50 [02:55<00:00,  3.51s/it, epoch=17/100, avg_epoch_loss=1.9] \n",
      "100%|██████████| 50/50 [02:58<00:00,  3.57s/it, epoch=18/100, avg_epoch_loss=1.96]\n",
      "100%|██████████| 50/50 [02:57<00:00,  3.56s/it, epoch=19/100, avg_epoch_loss=1.91]\n",
      "100%|██████████| 50/50 [03:02<00:00,  3.65s/it, epoch=20/100, avg_epoch_loss=1.94]\n",
      "100%|██████████| 50/50 [03:03<00:00,  3.67s/it, epoch=21/100, avg_epoch_loss=1.91]\n",
      "100%|██████████| 50/50 [03:03<00:00,  3.68s/it, epoch=22/100, avg_epoch_loss=1.94]\n",
      "100%|██████████| 50/50 [03:04<00:00,  3.68s/it, epoch=23/100, avg_epoch_loss=1.95]\n",
      "100%|██████████| 50/50 [03:03<00:00,  3.67s/it, epoch=24/100, avg_epoch_loss=1.92]\n",
      "100%|██████████| 50/50 [02:59<00:00,  3.59s/it, epoch=25/100, avg_epoch_loss=1.91]\n",
      "100%|██████████| 50/50 [02:54<00:00,  3.50s/it, epoch=26/100, avg_epoch_loss=1.91]\n",
      "100%|██████████| 50/50 [02:54<00:00,  3.49s/it, epoch=27/100, avg_epoch_loss=1.84]\n",
      "100%|██████████| 50/50 [02:55<00:00,  3.50s/it, epoch=28/100, avg_epoch_loss=1.99]\n",
      "100%|██████████| 50/50 [02:54<00:00,  3.49s/it, epoch=29/100, avg_epoch_loss=1.94]\n",
      "100%|██████████| 50/50 [02:54<00:00,  3.50s/it, epoch=30/100, avg_epoch_loss=1.84]\n",
      "100%|██████████| 50/50 [02:54<00:00,  3.49s/it, epoch=31/100, avg_epoch_loss=1.91]\n",
      "100%|██████████| 50/50 [02:54<00:00,  3.50s/it, epoch=32/100, avg_epoch_loss=1.85]\n",
      "100%|██████████| 50/50 [02:55<00:00,  3.51s/it, epoch=33/100, avg_epoch_loss=1.85]\n",
      "100%|██████████| 50/50 [02:54<00:00,  3.49s/it, epoch=34/100, avg_epoch_loss=1.81]\n",
      "100%|██████████| 50/50 [02:54<00:00,  3.49s/it, epoch=35/100, avg_epoch_loss=1.87]\n",
      "100%|██████████| 50/50 [02:54<00:00,  3.49s/it, epoch=36/100, avg_epoch_loss=1.81]\n",
      "100%|██████████| 50/50 [02:55<00:00,  3.50s/it, epoch=37/100, avg_epoch_loss=1.8] \n",
      "100%|██████████| 50/50 [02:54<00:00,  3.50s/it, epoch=38/100, avg_epoch_loss=1.84]\n",
      "100%|██████████| 50/50 [02:54<00:00,  3.50s/it, epoch=39/100, avg_epoch_loss=1.96]\n",
      "100%|██████████| 50/50 [02:55<00:00,  3.51s/it, epoch=40/100, avg_epoch_loss=1.8] \n",
      "100%|██████████| 50/50 [02:55<00:00,  3.51s/it, epoch=41/100, avg_epoch_loss=1.88]\n",
      "100%|██████████| 50/50 [02:55<00:00,  3.51s/it, epoch=42/100, avg_epoch_loss=1.84]\n",
      "100%|██████████| 50/50 [02:55<00:00,  3.51s/it, epoch=43/100, avg_epoch_loss=1.83]\n",
      "100%|██████████| 50/50 [02:55<00:00,  3.51s/it, epoch=44/100, avg_epoch_loss=1.8] \n",
      "100%|██████████| 50/50 [02:55<00:00,  3.52s/it, epoch=45/100, avg_epoch_loss=1.82]\n",
      "100%|██████████| 50/50 [03:01<00:00,  3.64s/it, epoch=46/100, avg_epoch_loss=1.82]\n",
      "100%|██████████| 50/50 [02:59<00:00,  3.58s/it, epoch=47/100, avg_epoch_loss=1.78]\n",
      "100%|██████████| 50/50 [02:58<00:00,  3.57s/it, epoch=48/100, avg_epoch_loss=1.85]\n",
      "100%|██████████| 50/50 [03:01<00:00,  3.64s/it, epoch=49/100, avg_epoch_loss=1.75]\n",
      "100%|██████████| 50/50 [03:05<00:00,  3.70s/it, epoch=50/100, avg_epoch_loss=1.75]\n",
      "100%|██████████| 50/50 [03:04<00:00,  3.69s/it, epoch=51/100, avg_epoch_loss=1.77]\n",
      "100%|██████████| 50/50 [03:03<00:00,  3.68s/it, epoch=52/100, avg_epoch_loss=1.75]\n",
      "100%|██████████| 50/50 [03:04<00:00,  3.69s/it, epoch=53/100, avg_epoch_loss=1.78]\n",
      "100%|██████████| 50/50 [03:03<00:00,  3.67s/it, epoch=54/100, avg_epoch_loss=1.78]\n",
      "100%|██████████| 50/50 [02:55<00:00,  3.51s/it, epoch=55/100, avg_epoch_loss=1.79]\n",
      "100%|██████████| 50/50 [02:56<00:00,  3.54s/it, epoch=56/100, avg_epoch_loss=1.78]\n",
      "100%|██████████| 50/50 [02:55<00:00,  3.52s/it, epoch=57/100, avg_epoch_loss=1.78]\n",
      "100%|██████████| 50/50 [02:55<00:00,  3.51s/it, epoch=58/100, avg_epoch_loss=1.84]\n",
      "100%|██████████| 50/50 [02:55<00:00,  3.51s/it, epoch=59/100, avg_epoch_loss=1.8] \n",
      "100%|██████████| 50/50 [02:56<00:00,  3.52s/it, epoch=60/100, avg_epoch_loss=1.72]\n",
      "100%|██████████| 50/50 [02:59<00:00,  3.60s/it, epoch=61/100, avg_epoch_loss=1.73]\n",
      "100%|██████████| 50/50 [03:04<00:00,  3.69s/it, epoch=62/100, avg_epoch_loss=1.71]\n",
      "100%|██████████| 50/50 [03:05<00:00,  3.72s/it, epoch=63/100, avg_epoch_loss=1.73]\n",
      "100%|██████████| 50/50 [03:04<00:00,  3.70s/it, epoch=64/100, avg_epoch_loss=1.75]\n",
      "100%|██████████| 50/50 [03:03<00:00,  3.67s/it, epoch=65/100, avg_epoch_loss=1.8] \n",
      "100%|██████████| 50/50 [03:06<00:00,  3.72s/it, epoch=66/100, avg_epoch_loss=1.71]\n",
      "100%|██████████| 50/50 [03:03<00:00,  3.67s/it, epoch=67/100, avg_epoch_loss=1.69]\n",
      "100%|██████████| 50/50 [03:04<00:00,  3.70s/it, epoch=68/100, avg_epoch_loss=1.75]\n",
      "100%|██████████| 50/50 [03:04<00:00,  3.68s/it, epoch=69/100, avg_epoch_loss=1.75]\n",
      "100%|██████████| 50/50 [03:03<00:00,  3.67s/it, epoch=70/100, avg_epoch_loss=1.72]\n",
      "100%|██████████| 50/50 [03:02<00:00,  3.65s/it, epoch=71/100, avg_epoch_loss=1.72]\n",
      "100%|██████████| 50/50 [02:59<00:00,  3.58s/it, epoch=72/100, avg_epoch_loss=1.74]\n",
      "100%|██████████| 50/50 [03:00<00:00,  3.61s/it, epoch=73/100, avg_epoch_loss=1.72]\n",
      "100%|██████████| 50/50 [03:04<00:00,  3.69s/it, epoch=74/100, avg_epoch_loss=1.72]\n",
      "100%|██████████| 50/50 [03:04<00:00,  3.69s/it, epoch=75/100, avg_epoch_loss=1.77]\n",
      "100%|██████████| 50/50 [03:05<00:00,  3.71s/it, epoch=76/100, avg_epoch_loss=1.72]\n",
      "100%|██████████| 50/50 [03:04<00:00,  3.69s/it, epoch=77/100, avg_epoch_loss=1.73]\n",
      "100%|██████████| 50/50 [03:04<00:00,  3.68s/it, epoch=78/100, avg_epoch_loss=1.71]\n",
      "100%|██████████| 50/50 [02:55<00:00,  3.52s/it, epoch=79/100, avg_epoch_loss=1.68]\n",
      "100%|██████████| 50/50 [02:56<00:00,  3.52s/it, epoch=80/100, avg_epoch_loss=1.68]\n",
      "100%|██████████| 50/50 [02:55<00:00,  3.52s/it, epoch=81/100, avg_epoch_loss=1.7] \n",
      "100%|██████████| 50/50 [02:55<00:00,  3.52s/it, epoch=82/100, avg_epoch_loss=1.7] \n",
      "100%|██████████| 50/50 [02:56<00:00,  3.52s/it, epoch=83/100, avg_epoch_loss=1.7] \n",
      "100%|██████████| 50/50 [03:00<00:00,  3.61s/it, epoch=84/100, avg_epoch_loss=1.71]\n",
      "100%|██████████| 50/50 [03:00<00:00,  3.61s/it, epoch=85/100, avg_epoch_loss=1.68]\n",
      "100%|██████████| 50/50 [03:02<00:00,  3.64s/it, epoch=86/100, avg_epoch_loss=1.69]\n",
      "100%|██████████| 50/50 [03:05<00:00,  3.70s/it, epoch=87/100, avg_epoch_loss=1.69]\n",
      "100%|██████████| 50/50 [03:06<00:00,  3.72s/it, epoch=88/100, avg_epoch_loss=1.69]\n",
      "100%|██████████| 50/50 [03:06<00:00,  3.74s/it, epoch=89/100, avg_epoch_loss=1.7] \n",
      "100%|██████████| 50/50 [02:59<00:00,  3.59s/it, epoch=90/100, avg_epoch_loss=1.67]\n",
      "100%|██████████| 50/50 [02:58<00:00,  3.56s/it, epoch=91/100, avg_epoch_loss=1.74]\n",
      "100%|██████████| 50/50 [03:03<00:00,  3.67s/it, epoch=92/100, avg_epoch_loss=1.7] \n",
      "100%|██████████| 50/50 [02:57<00:00,  3.55s/it, epoch=93/100, avg_epoch_loss=1.7] \n",
      "100%|██████████| 50/50 [03:08<00:00,  3.76s/it, epoch=94/100, avg_epoch_loss=1.67]\n",
      "100%|██████████| 50/50 [03:12<00:00,  3.85s/it, epoch=95/100, avg_epoch_loss=1.7] \n",
      "100%|██████████| 50/50 [03:09<00:00,  3.79s/it, epoch=96/100, avg_epoch_loss=1.69]\n",
      "100%|██████████| 50/50 [03:04<00:00,  3.69s/it, epoch=97/100, avg_epoch_loss=1.71]\n",
      "100%|██████████| 50/50 [02:59<00:00,  3.60s/it, epoch=98/100, avg_epoch_loss=1.67]\n",
      "100%|██████████| 50/50 [03:02<00:00,  3.65s/it, epoch=99/100, avg_epoch_loss=1.7] \n",
      "100%|██████████| 50/50 [03:02<00:00,  3.65s/it, epoch=100/100, avg_epoch_loss=1.69]\n"
     ]
    }
   ],
   "source": [
    "predictor = estimator.train(training_data=all_single_training_data)"
   ]
  },
  {
   "cell_type": "code",
   "execution_count": 259,
   "id": "09f6a21f-50f7-4803-a564-e6581c875c5d",
   "metadata": {},
   "outputs": [
    {
     "name": "stderr",
     "output_type": "stream",
     "text": [
      "WARNING:root:Serializing RepresentableBlockPredictor instances does not save the prediction network structure in a backwards-compatible manner. Be careful not to use this method in production.\n"
     ]
    }
   ],
   "source": [
    "prefix = \"../models/\"\n",
    "model_name = \"model-sce-20L-100E\"\n",
    "try:\n",
    "    os.mkdir(prefix + model_name)\n",
    "finally:\n",
    "    predictor.serialize(Path(prefix + model_name))"
   ]
  },
  {
   "cell_type": "code",
   "execution_count": 93,
   "id": "1d335b05-3569-4cc9-ab27-123c6111e491",
   "metadata": {},
   "outputs": [
    {
     "data": {
      "text/plain": [
       "144"
      ]
     },
     "execution_count": 93,
     "metadata": {},
     "output_type": "execute_result"
    }
   ],
   "source": [
    "predictor = Predictor.deserialize(Path(\"../models/model-sce-20L-100E\"))\n",
    "predictor.prediction_length"
   ]
  },
  {
   "cell_type": "markdown",
   "id": "04ce28b5-78c6-4e20-b07a-e8e797190110",
   "metadata": {},
   "source": [
    "### Visualize Predictions"
   ]
  },
  {
   "cell_type": "code",
   "execution_count": 229,
   "id": "c942f12f-a477-496b-8016-83c69e1de8b6",
   "metadata": {},
   "outputs": [
    {
     "data": {
      "text/plain": [
       "array([71312, 88896, 89911, 89912])"
      ]
     },
     "execution_count": 229,
     "metadata": {},
     "output_type": "execute_result"
    }
   ],
   "source": [
    "train_outliers.Id.unique()"
   ]
  },
  {
   "cell_type": "code",
   "execution_count": 267,
   "id": "0535a4b1-8fde-4642-887e-08b6d4d20711",
   "metadata": {
    "tags": []
   },
   "outputs": [],
   "source": [
    "test_station_id = 71312\n",
    "wr_test = wr_gts[(wr_gts.Id==test_station_id)]\n",
    "\n",
    "single_test_datasets = []\n",
    "\n",
    "for (c, ts) in wr_test[wr_ts_columns].transpose().iterrows():\n",
    "    single_test_datasets.append({\n",
    "        \"item_id\": \"Testing:  {} - {}\".format(test_station_id, c),\n",
    "        \"start\": ts.index[0],\n",
    "        \"target\": ts.loc[:testing_time_cutoff],\n",
    "        \"feat_static_cat\": [test_station_id],\n",
    "        \"feat_static_real\": [wr_test[wr_cat_real_columns[0]].unique()[0], wr_test[wr_cat_real_columns[1]].unique()[0]]\n",
    "    })"
   ]
  },
  {
   "cell_type": "code",
   "execution_count": 268,
   "id": "4360103f-7fdc-4fd8-a1dc-3d77506d3a7c",
   "metadata": {},
   "outputs": [],
   "source": [
    "single_test_data = ListDataset(\n",
    "    single_test_datasets,\n",
    "    freq = \"10min\",\n",
    ")"
   ]
  },
  {
   "cell_type": "code",
   "execution_count": 269,
   "id": "150f4a5c-7d1f-492d-85a5-38d1403dfb14",
   "metadata": {},
   "outputs": [],
   "source": [
    "sforecast_it, sts_it = make_evaluation_predictions(\n",
    "    dataset=single_test_data,  # test dataset\n",
    "    predictor=predictor,  # predictor\n",
    "    num_samples=1000,  # number of sample paths we want for evaluation\n",
    ")"
   ]
  },
  {
   "cell_type": "code",
   "execution_count": null,
   "id": "14b09842-9018-4879-aa00-35804737440c",
   "metadata": {
    "tags": []
   },
   "outputs": [],
   "source": [
    "sforecasts = list(sforecast_it)\n",
    "stss = list(sts_it)"
   ]
  },
  {
   "cell_type": "code",
   "execution_count": null,
   "id": "f6658942-0873-414e-b945-adda26b84971",
   "metadata": {
    "tags": []
   },
   "outputs": [],
   "source": [
    "plot_length = 2*6*24\n",
    "prediction_intervals = [90,95,99]\n",
    "legend = [\"observations\", \"median prediction\"] + [f\"{k}% prediction interval\" for k in prediction_intervals][::-1]\n",
    "\n",
    "fig, ax = plt.subplots(1, 1, figsize=(20, 5))\n",
    "\n",
    "i = 1\n",
    "stss[i][-plot_length:].plot(ax=ax, color=\"green\")  # plot the time series\n",
    "sforecasts[i].plot(prediction_intervals=prediction_intervals, color='orange')\n",
    "\n",
    "# plt.ylim(0,40)\n",
    "plt.title(\"{} - {}\".format(test_station_id, wr_ts_columns[i]))\n",
    "plt.grid(which=\"both\")\n",
    "plt.legend(legend, loc=\"upper left\")\n",
    "plt.show()"
   ]
  },
  {
   "cell_type": "markdown",
   "id": "4f8d3b89-4a5a-4741-a350-e6e5982b7e91",
   "metadata": {},
   "source": [
    "### Gluon-ts Metrics"
   ]
  },
  {
   "cell_type": "code",
   "execution_count": 224,
   "id": "c304620d-4005-49ab-b28f-f7b722df364c",
   "metadata": {
    "tags": []
   },
   "outputs": [],
   "source": [
    "all_single_test_datasets = []\n",
    "excluded = 0\n",
    "for (station_id, df) in wr_gts.groupby(\"Id\"):\n",
    "    tss = df[wr_ts_columns].transpose().iterrows()\n",
    "    for (c, ts) in tss:\n",
    "        all_single_test_datasets.append({\n",
    "            \"item_id\": \"Testing:  {} - {}\".format(station_id, c),\n",
    "            \"start\": ts.index[0],\n",
    "            \"target\": ts.loc[:testing_time_cutoff],\n",
    "            \"feat_static_cat\": [station_id],\n",
    "            \"feat_static_real\": [df[wr_cat_real_columns[0]].unique()[0], df[wr_cat_real_columns[1]].unique()[0]] #lat, long\n",
    "        })"
   ]
  },
  {
   "cell_type": "code",
   "execution_count": 225,
   "id": "0f52dd10-6e26-4e2f-b4cf-1e861ddaf7b9",
   "metadata": {
    "tags": []
   },
   "outputs": [],
   "source": [
    "all_single_test_data = ListDataset(\n",
    "    all_single_test_datasets,\n",
    "    freq = \"10min\",\n",
    ")"
   ]
  },
  {
   "cell_type": "code",
   "execution_count": 240,
   "id": "799b592a-d095-4b3d-912e-baddc5f57527",
   "metadata": {},
   "outputs": [],
   "source": [
    "forecast_all_it, ts_all_it = make_evaluation_predictions(\n",
    "    dataset=all_single_test_data,  # test dataset\n",
    "    predictor=predictor,  # predictor\n",
    "    num_samples=500,  # number of sample paths we want for evaluation\n",
    ")"
   ]
  },
  {
   "cell_type": "code",
   "execution_count": 241,
   "id": "58fefd25-5791-4c5b-bb17-ec6141127682",
   "metadata": {
    "tags": []
   },
   "outputs": [
    {
     "name": "stderr",
     "output_type": "stream",
     "text": [
      "Running evaluation: 100%|██████████| 783/783 [1:20:24<00:00,  6.16s/it]\n"
     ]
    }
   ],
   "source": [
    "evaluator = Evaluator(quantiles=[.75, .90, .99])\n",
    "agg_metrics, item_metrics = evaluator(ts_all_it, forecast_all_it, num_series=len(all_single_test_data))"
   ]
  },
  {
   "cell_type": "code",
   "execution_count": 243,
   "id": "d5999a82-b3d1-416e-8ef5-a426b8f0835f",
   "metadata": {},
   "outputs": [
    {
     "data": {
      "text/plain": [
       "{'MSE': 259.9568756654751,\n",
       " 'abs_error': 1178711.898990631,\n",
       " 'abs_target_sum': 2324367.9580230713,\n",
       " 'abs_target_mean': 20.61645604456557,\n",
       " 'seasonal_error': 5.254247747738797,\n",
       " 'MASE': 2.158879554828169,\n",
       " 'MAPE': 0.9357426777997999,\n",
       " 'sMAPE': 0.5763656185200818,\n",
       " 'MSIS': 32.56526420755582,\n",
       " 'QuantileLoss[0.75]': 1198646.0210569352,\n",
       " 'Coverage[0.75]': 0.615948739535567,\n",
       " 'QuantileLoss[0.9]': 1001435.9873935073,\n",
       " 'Coverage[0.9]': 0.685362550780634,\n",
       " 'QuantileLoss[0.99]': 457682.3857209713,\n",
       " 'Coverage[0.99]': 0.8524114554482586,\n",
       " 'RMSE': 16.12317821229658,\n",
       " 'NRMSE': 0.7820538203774647,\n",
       " 'ND': 0.5071107158064392,\n",
       " 'wQuantileLoss[0.75]': 0.515686863140383,\n",
       " 'wQuantileLoss[0.9]': 0.4308422786232399,\n",
       " 'wQuantileLoss[0.99]': 0.19690616717597534,\n",
       " 'mean_absolute_QuantileLoss': 885921.4647238046,\n",
       " 'mean_wQuantileLoss': 0.3811451029798661,\n",
       " 'MAE_Coverage': 0.1620924180785135,\n",
       " 'OWA': nan}"
      ]
     },
     "execution_count": 243,
     "metadata": {},
     "output_type": "execute_result"
    }
   ],
   "source": [
    "agg_metrics"
   ]
  },
  {
   "cell_type": "code",
   "execution_count": 244,
   "id": "dd993207-5268-49cd-ad7a-02653b16144d",
   "metadata": {},
   "outputs": [
    {
     "data": {
      "text/html": [
       "<div>\n",
       "<style scoped>\n",
       "    .dataframe tbody tr th:only-of-type {\n",
       "        vertical-align: middle;\n",
       "    }\n",
       "\n",
       "    .dataframe tbody tr th {\n",
       "        vertical-align: top;\n",
       "    }\n",
       "\n",
       "    .dataframe thead th {\n",
       "        text-align: right;\n",
       "    }\n",
       "</style>\n",
       "<table border=\"1\" class=\"dataframe\">\n",
       "  <thead>\n",
       "    <tr style=\"text-align: right;\">\n",
       "      <th></th>\n",
       "      <th>item_id</th>\n",
       "      <th>MSE</th>\n",
       "      <th>abs_error</th>\n",
       "      <th>abs_target_sum</th>\n",
       "      <th>abs_target_mean</th>\n",
       "      <th>seasonal_error</th>\n",
       "      <th>MASE</th>\n",
       "      <th>MAPE</th>\n",
       "      <th>sMAPE</th>\n",
       "      <th>MSIS</th>\n",
       "      <th>QuantileLoss[0.75]</th>\n",
       "      <th>Coverage[0.75]</th>\n",
       "      <th>QuantileLoss[0.9]</th>\n",
       "      <th>Coverage[0.9]</th>\n",
       "      <th>QuantileLoss[0.99]</th>\n",
       "      <th>Coverage[0.99]</th>\n",
       "    </tr>\n",
       "  </thead>\n",
       "  <tbody>\n",
       "    <tr>\n",
       "      <th>79</th>\n",
       "      <td>Testing:  71312 - WindSpd</td>\n",
       "      <td>146.380249</td>\n",
       "      <td>1472.317139</td>\n",
       "      <td>2147.989990</td>\n",
       "      <td>14.916597</td>\n",
       "      <td>11.002537</td>\n",
       "      <td>0.929279</td>\n",
       "      <td>0.617147</td>\n",
       "      <td>0.937513</td>\n",
       "      <td>29.837019</td>\n",
       "      <td>2098.813087</td>\n",
       "      <td>0.041667</td>\n",
       "      <td>2375.481604</td>\n",
       "      <td>0.090278</td>\n",
       "      <td>1892.935568</td>\n",
       "      <td>0.243056</td>\n",
       "    </tr>\n",
       "    <tr>\n",
       "      <th>637</th>\n",
       "      <td>Testing:  94546 - WindSpd</td>\n",
       "      <td>215.149421</td>\n",
       "      <td>1689.522705</td>\n",
       "      <td>2500.209961</td>\n",
       "      <td>17.483986</td>\n",
       "      <td>5.627185</td>\n",
       "      <td>2.099601</td>\n",
       "      <td>0.606807</td>\n",
       "      <td>0.835849</td>\n",
       "      <td>60.711387</td>\n",
       "      <td>2306.565730</td>\n",
       "      <td>0.167832</td>\n",
       "      <td>2498.548614</td>\n",
       "      <td>0.181818</td>\n",
       "      <td>2101.308985</td>\n",
       "      <td>0.251748</td>\n",
       "    </tr>\n",
       "    <tr>\n",
       "      <th>220</th>\n",
       "      <td>Testing:  72879 - WindSpd</td>\n",
       "      <td>219.949978</td>\n",
       "      <td>1947.378784</td>\n",
       "      <td>2549.510010</td>\n",
       "      <td>17.704931</td>\n",
       "      <td>1.791417</td>\n",
       "      <td>7.549032</td>\n",
       "      <td>0.792948</td>\n",
       "      <td>1.119276</td>\n",
       "      <td>168.508160</td>\n",
       "      <td>2565.495320</td>\n",
       "      <td>0.131944</td>\n",
       "      <td>2621.013743</td>\n",
       "      <td>0.166667</td>\n",
       "      <td>1398.225120</td>\n",
       "      <td>0.270833</td>\n",
       "    </tr>\n",
       "    <tr>\n",
       "      <th>777</th>\n",
       "      <td>Testing:  157441 - RelHum</td>\n",
       "      <td>1732.944119</td>\n",
       "      <td>5218.485840</td>\n",
       "      <td>8808.549805</td>\n",
       "      <td>61.170485</td>\n",
       "      <td>4.183542</td>\n",
       "      <td>8.662394</td>\n",
       "      <td>0.588482</td>\n",
       "      <td>0.710909</td>\n",
       "      <td>246.643095</td>\n",
       "      <td>7024.764847</td>\n",
       "      <td>0.277778</td>\n",
       "      <td>7578.594658</td>\n",
       "      <td>0.291667</td>\n",
       "      <td>6533.764035</td>\n",
       "      <td>0.298611</td>\n",
       "    </tr>\n",
       "    <tr>\n",
       "      <th>39</th>\n",
       "      <td>Testing:  70867 - RelHum</td>\n",
       "      <td>2331.982856</td>\n",
       "      <td>6198.535645</td>\n",
       "      <td>10824.279297</td>\n",
       "      <td>75.168606</td>\n",
       "      <td>7.332855</td>\n",
       "      <td>5.870208</td>\n",
       "      <td>0.535007</td>\n",
       "      <td>0.695185</td>\n",
       "      <td>148.196152</td>\n",
       "      <td>8196.591269</td>\n",
       "      <td>0.263889</td>\n",
       "      <td>8560.042477</td>\n",
       "      <td>0.291667</td>\n",
       "      <td>6302.118465</td>\n",
       "      <td>0.312500</td>\n",
       "    </tr>\n",
       "    <tr>\n",
       "      <th>...</th>\n",
       "      <td>...</td>\n",
       "      <td>...</td>\n",
       "      <td>...</td>\n",
       "      <td>...</td>\n",
       "      <td>...</td>\n",
       "      <td>...</td>\n",
       "      <td>...</td>\n",
       "      <td>...</td>\n",
       "      <td>...</td>\n",
       "      <td>...</td>\n",
       "      <td>...</td>\n",
       "      <td>...</td>\n",
       "      <td>...</td>\n",
       "      <td>...</td>\n",
       "      <td>...</td>\n",
       "      <td>...</td>\n",
       "    </tr>\n",
       "    <tr>\n",
       "      <th>94</th>\n",
       "      <td>Testing:  71717 - WindSpd</td>\n",
       "      <td>63.400764</td>\n",
       "      <td>1061.367065</td>\n",
       "      <td>1509.650024</td>\n",
       "      <td>10.483681</td>\n",
       "      <td>3.528289</td>\n",
       "      <td>2.089003</td>\n",
       "      <td>2.101143</td>\n",
       "      <td>0.908605</td>\n",
       "      <td>11.761573</td>\n",
       "      <td>1191.635310</td>\n",
       "      <td>0.416667</td>\n",
       "      <td>982.645611</td>\n",
       "      <td>0.437500</td>\n",
       "      <td>28.793754</td>\n",
       "      <td>1.000000</td>\n",
       "    </tr>\n",
       "    <tr>\n",
       "      <th>444</th>\n",
       "      <td>Testing:  90374 - RelHum</td>\n",
       "      <td>82.974589</td>\n",
       "      <td>1102.117188</td>\n",
       "      <td>2587.569824</td>\n",
       "      <td>17.969235</td>\n",
       "      <td>5.830336</td>\n",
       "      <td>1.312719</td>\n",
       "      <td>0.465091</td>\n",
       "      <td>0.354553</td>\n",
       "      <td>12.785927</td>\n",
       "      <td>732.570667</td>\n",
       "      <td>0.972222</td>\n",
       "      <td>369.252150</td>\n",
       "      <td>0.986111</td>\n",
       "      <td>56.853990</td>\n",
       "      <td>1.000000</td>\n",
       "    </tr>\n",
       "    <tr>\n",
       "      <th>105</th>\n",
       "      <td>Testing:  71820 - RelHum</td>\n",
       "      <td>168.671278</td>\n",
       "      <td>1618.520630</td>\n",
       "      <td>2652.310059</td>\n",
       "      <td>18.418820</td>\n",
       "      <td>8.383491</td>\n",
       "      <td>1.340698</td>\n",
       "      <td>0.671554</td>\n",
       "      <td>0.467075</td>\n",
       "      <td>19.431080</td>\n",
       "      <td>1005.973691</td>\n",
       "      <td>0.979167</td>\n",
       "      <td>488.104196</td>\n",
       "      <td>1.000000</td>\n",
       "      <td>72.806909</td>\n",
       "      <td>1.000000</td>\n",
       "    </tr>\n",
       "    <tr>\n",
       "      <th>467</th>\n",
       "      <td>Testing:  90557 - GustSpd</td>\n",
       "      <td>23.274394</td>\n",
       "      <td>473.917023</td>\n",
       "      <td>1392.599976</td>\n",
       "      <td>9.670833</td>\n",
       "      <td>4.777963</td>\n",
       "      <td>0.688806</td>\n",
       "      <td>0.325778</td>\n",
       "      <td>0.317347</td>\n",
       "      <td>3.983344</td>\n",
       "      <td>530.920616</td>\n",
       "      <td>0.756944</td>\n",
       "      <td>408.766722</td>\n",
       "      <td>0.819444</td>\n",
       "      <td>64.514929</td>\n",
       "      <td>1.000000</td>\n",
       "    </tr>\n",
       "    <tr>\n",
       "      <th>0</th>\n",
       "      <td>Testing:  70844 - RelHum</td>\n",
       "      <td>146.123969</td>\n",
       "      <td>1460.010498</td>\n",
       "      <td>5041.100098</td>\n",
       "      <td>35.007640</td>\n",
       "      <td>8.463122</td>\n",
       "      <td>1.198017</td>\n",
       "      <td>0.290166</td>\n",
       "      <td>0.270295</td>\n",
       "      <td>4.404318</td>\n",
       "      <td>1285.917936</td>\n",
       "      <td>0.826389</td>\n",
       "      <td>708.409653</td>\n",
       "      <td>0.847222</td>\n",
       "      <td>116.397611</td>\n",
       "      <td>1.000000</td>\n",
       "    </tr>\n",
       "  </tbody>\n",
       "</table>\n",
       "<p>783 rows × 16 columns</p>\n",
       "</div>"
      ],
      "text/plain": [
       "                       item_id          MSE    abs_error  abs_target_sum  \\\n",
       "79   Testing:  71312 - WindSpd   146.380249  1472.317139     2147.989990   \n",
       "637  Testing:  94546 - WindSpd   215.149421  1689.522705     2500.209961   \n",
       "220  Testing:  72879 - WindSpd   219.949978  1947.378784     2549.510010   \n",
       "777  Testing:  157441 - RelHum  1732.944119  5218.485840     8808.549805   \n",
       "39    Testing:  70867 - RelHum  2331.982856  6198.535645    10824.279297   \n",
       "..                         ...          ...          ...             ...   \n",
       "94   Testing:  71717 - WindSpd    63.400764  1061.367065     1509.650024   \n",
       "444   Testing:  90374 - RelHum    82.974589  1102.117188     2587.569824   \n",
       "105   Testing:  71820 - RelHum   168.671278  1618.520630     2652.310059   \n",
       "467  Testing:  90557 - GustSpd    23.274394   473.917023     1392.599976   \n",
       "0     Testing:  70844 - RelHum   146.123969  1460.010498     5041.100098   \n",
       "\n",
       "     abs_target_mean  seasonal_error      MASE      MAPE     sMAPE  \\\n",
       "79         14.916597       11.002537  0.929279  0.617147  0.937513   \n",
       "637        17.483986        5.627185  2.099601  0.606807  0.835849   \n",
       "220        17.704931        1.791417  7.549032  0.792948  1.119276   \n",
       "777        61.170485        4.183542  8.662394  0.588482  0.710909   \n",
       "39         75.168606        7.332855  5.870208  0.535007  0.695185   \n",
       "..               ...             ...       ...       ...       ...   \n",
       "94         10.483681        3.528289  2.089003  2.101143  0.908605   \n",
       "444        17.969235        5.830336  1.312719  0.465091  0.354553   \n",
       "105        18.418820        8.383491  1.340698  0.671554  0.467075   \n",
       "467         9.670833        4.777963  0.688806  0.325778  0.317347   \n",
       "0          35.007640        8.463122  1.198017  0.290166  0.270295   \n",
       "\n",
       "           MSIS  QuantileLoss[0.75]  Coverage[0.75]  QuantileLoss[0.9]  \\\n",
       "79    29.837019         2098.813087        0.041667        2375.481604   \n",
       "637   60.711387         2306.565730        0.167832        2498.548614   \n",
       "220  168.508160         2565.495320        0.131944        2621.013743   \n",
       "777  246.643095         7024.764847        0.277778        7578.594658   \n",
       "39   148.196152         8196.591269        0.263889        8560.042477   \n",
       "..          ...                 ...             ...                ...   \n",
       "94    11.761573         1191.635310        0.416667         982.645611   \n",
       "444   12.785927          732.570667        0.972222         369.252150   \n",
       "105   19.431080         1005.973691        0.979167         488.104196   \n",
       "467    3.983344          530.920616        0.756944         408.766722   \n",
       "0      4.404318         1285.917936        0.826389         708.409653   \n",
       "\n",
       "     Coverage[0.9]  QuantileLoss[0.99]  Coverage[0.99]  \n",
       "79        0.090278         1892.935568        0.243056  \n",
       "637       0.181818         2101.308985        0.251748  \n",
       "220       0.166667         1398.225120        0.270833  \n",
       "777       0.291667         6533.764035        0.298611  \n",
       "39        0.291667         6302.118465        0.312500  \n",
       "..             ...                 ...             ...  \n",
       "94        0.437500           28.793754        1.000000  \n",
       "444       0.986111           56.853990        1.000000  \n",
       "105       1.000000           72.806909        1.000000  \n",
       "467       0.819444           64.514929        1.000000  \n",
       "0         0.847222          116.397611        1.000000  \n",
       "\n",
       "[783 rows x 16 columns]"
      ]
     },
     "execution_count": 244,
     "metadata": {},
     "output_type": "execute_result"
    }
   ],
   "source": [
    "item_metrics.sort_values(\"Coverage[0.99]\")"
   ]
  },
  {
   "cell_type": "code",
   "execution_count": null,
   "id": "5eb52e97-c39f-472a-812b-8b454f8f4a7e",
   "metadata": {},
   "outputs": [],
   "source": []
  }
 ],
 "metadata": {
  "kernelspec": {
   "display_name": "Python 3",
   "language": "python",
   "name": "python3"
  },
  "language_info": {
   "codemirror_mode": {
    "name": "ipython",
    "version": 3
   },
   "file_extension": ".py",
   "mimetype": "text/x-python",
   "name": "python",
   "nbconvert_exporter": "python",
   "pygments_lexer": "ipython3",
   "version": "3.8.8"
  }
 },
 "nbformat": 4,
 "nbformat_minor": 5
}
