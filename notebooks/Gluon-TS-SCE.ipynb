{
 "cells": [
  {
   "cell_type": "code",
   "execution_count": 2,
   "id": "2890e807",
   "metadata": {},
   "outputs": [],
   "source": [
    "import os\n",
    "import json\n",
    "\n",
    "from pathlib import Path\n",
    "from collections import defaultdict, Counter\n",
    "from itertools import chain, starmap\n",
    "\n",
    "import numpy as np\n",
    "import pandas as pd\n",
    "from scipy.stats import weibull_min\n",
    "import matplotlib.pyplot as plt"
   ]
  },
  {
   "cell_type": "markdown",
   "id": "c51a6445-8b6f-4c78-ae8c-7ede634bfc9b",
   "metadata": {},
   "source": [
    "### Load Weather Report data\n",
    "\n",
    "Covers January 12 to 21 2021, with readings every 10 minutes\n",
    "\n",
    "- \"Time\" column contains timestamps in format yyyy-mm-dd hh:mm:ss\n",
    "- Time series features for training are Relative Humidity (\"RelHum\"), Wind and Gust Speed (\"WindSpd\", \"GustSpd\")\n",
    "- Categorical features for the model include the (integer) station id, and (float) latitude and longitude"
   ]
  },
  {
   "cell_type": "code",
   "execution_count": 3,
   "id": "1954dcd8",
   "metadata": {
    "tags": []
   },
   "outputs": [
    {
     "data": {
      "text/html": [
       "<div>\n",
       "<style scoped>\n",
       "    .dataframe tbody tr th:only-of-type {\n",
       "        vertical-align: middle;\n",
       "    }\n",
       "\n",
       "    .dataframe tbody tr th {\n",
       "        vertical-align: top;\n",
       "    }\n",
       "\n",
       "    .dataframe thead th {\n",
       "        text-align: right;\n",
       "    }\n",
       "</style>\n",
       "<table border=\"1\" class=\"dataframe\">\n",
       "  <thead>\n",
       "    <tr style=\"text-align: right;\">\n",
       "      <th></th>\n",
       "      <th>Status</th>\n",
       "      <th>Mnet_Id</th>\n",
       "      <th>Elevation</th>\n",
       "      <th>Name</th>\n",
       "      <th>Elev_Dem</th>\n",
       "      <th>Longitude</th>\n",
       "      <th>State</th>\n",
       "      <th>Restricted</th>\n",
       "      <th>Qc_Flagged</th>\n",
       "      <th>Latitude</th>\n",
       "      <th>Timezone</th>\n",
       "      <th>Id</th>\n",
       "      <th>Period_Of_Record.Start</th>\n",
       "      <th>Period_Of_Record.End</th>\n",
       "      <th>Time</th>\n",
       "      <th>RelHum</th>\n",
       "      <th>WindSpd</th>\n",
       "      <th>GustSpd</th>\n",
       "      <th>Date</th>\n",
       "      <th>Station</th>\n",
       "    </tr>\n",
       "  </thead>\n",
       "  <tbody>\n",
       "    <tr>\n",
       "      <th>0</th>\n",
       "      <td>ACTIVE</td>\n",
       "      <td>231</td>\n",
       "      <td>6388</td>\n",
       "      <td>SCE Marion Ridge</td>\n",
       "      <td>6400.9</td>\n",
       "      <td>-116.73432</td>\n",
       "      <td>CA</td>\n",
       "      <td>False</td>\n",
       "      <td>False</td>\n",
       "      <td>33.76594</td>\n",
       "      <td>America/Los_Angeles</td>\n",
       "      <td>70844</td>\n",
       "      <td>2018-06-11 20:11:00+00:00</td>\n",
       "      <td>2021-06-09 17:50:00+00:00</td>\n",
       "      <td>2021-01-12 00:00:00</td>\n",
       "      <td>30.89</td>\n",
       "      <td>2.87</td>\n",
       "      <td>6.43</td>\n",
       "      <td>2021-01-12</td>\n",
       "      <td>SE001</td>\n",
       "    </tr>\n",
       "    <tr>\n",
       "      <th>1</th>\n",
       "      <td>ACTIVE</td>\n",
       "      <td>231</td>\n",
       "      <td>6388</td>\n",
       "      <td>SCE Marion Ridge</td>\n",
       "      <td>6400.9</td>\n",
       "      <td>-116.73432</td>\n",
       "      <td>CA</td>\n",
       "      <td>False</td>\n",
       "      <td>False</td>\n",
       "      <td>33.76594</td>\n",
       "      <td>America/Los_Angeles</td>\n",
       "      <td>70844</td>\n",
       "      <td>2018-06-11 20:11:00+00:00</td>\n",
       "      <td>2021-06-09 17:50:00+00:00</td>\n",
       "      <td>2021-01-12 00:10:00</td>\n",
       "      <td>30.83</td>\n",
       "      <td>3.27</td>\n",
       "      <td>8.26</td>\n",
       "      <td>2021-01-12</td>\n",
       "      <td>SE001</td>\n",
       "    </tr>\n",
       "    <tr>\n",
       "      <th>2</th>\n",
       "      <td>ACTIVE</td>\n",
       "      <td>231</td>\n",
       "      <td>6388</td>\n",
       "      <td>SCE Marion Ridge</td>\n",
       "      <td>6400.9</td>\n",
       "      <td>-116.73432</td>\n",
       "      <td>CA</td>\n",
       "      <td>False</td>\n",
       "      <td>False</td>\n",
       "      <td>33.76594</td>\n",
       "      <td>America/Los_Angeles</td>\n",
       "      <td>70844</td>\n",
       "      <td>2018-06-11 20:11:00+00:00</td>\n",
       "      <td>2021-06-09 17:50:00+00:00</td>\n",
       "      <td>2021-01-12 00:20:00</td>\n",
       "      <td>31.16</td>\n",
       "      <td>2.16</td>\n",
       "      <td>6.06</td>\n",
       "      <td>2021-01-12</td>\n",
       "      <td>SE001</td>\n",
       "    </tr>\n",
       "    <tr>\n",
       "      <th>3</th>\n",
       "      <td>ACTIVE</td>\n",
       "      <td>231</td>\n",
       "      <td>6388</td>\n",
       "      <td>SCE Marion Ridge</td>\n",
       "      <td>6400.9</td>\n",
       "      <td>-116.73432</td>\n",
       "      <td>CA</td>\n",
       "      <td>False</td>\n",
       "      <td>False</td>\n",
       "      <td>33.76594</td>\n",
       "      <td>America/Los_Angeles</td>\n",
       "      <td>70844</td>\n",
       "      <td>2018-06-11 20:11:00+00:00</td>\n",
       "      <td>2021-06-09 17:50:00+00:00</td>\n",
       "      <td>2021-01-12 00:30:00</td>\n",
       "      <td>32.43</td>\n",
       "      <td>1.29</td>\n",
       "      <td>4.38</td>\n",
       "      <td>2021-01-12</td>\n",
       "      <td>SE001</td>\n",
       "    </tr>\n",
       "    <tr>\n",
       "      <th>4</th>\n",
       "      <td>ACTIVE</td>\n",
       "      <td>231</td>\n",
       "      <td>6388</td>\n",
       "      <td>SCE Marion Ridge</td>\n",
       "      <td>6400.9</td>\n",
       "      <td>-116.73432</td>\n",
       "      <td>CA</td>\n",
       "      <td>False</td>\n",
       "      <td>False</td>\n",
       "      <td>33.76594</td>\n",
       "      <td>America/Los_Angeles</td>\n",
       "      <td>70844</td>\n",
       "      <td>2018-06-11 20:11:00+00:00</td>\n",
       "      <td>2021-06-09 17:50:00+00:00</td>\n",
       "      <td>2021-01-12 00:40:00</td>\n",
       "      <td>32.18</td>\n",
       "      <td>1.32</td>\n",
       "      <td>3.58</td>\n",
       "      <td>2021-01-12</td>\n",
       "      <td>SE001</td>\n",
       "    </tr>\n",
       "  </tbody>\n",
       "</table>\n",
       "</div>"
      ],
      "text/plain": [
       "   Status  Mnet_Id  Elevation              Name  Elev_Dem  Longitude State  \\\n",
       "0  ACTIVE      231       6388  SCE Marion Ridge    6400.9 -116.73432    CA   \n",
       "1  ACTIVE      231       6388  SCE Marion Ridge    6400.9 -116.73432    CA   \n",
       "2  ACTIVE      231       6388  SCE Marion Ridge    6400.9 -116.73432    CA   \n",
       "3  ACTIVE      231       6388  SCE Marion Ridge    6400.9 -116.73432    CA   \n",
       "4  ACTIVE      231       6388  SCE Marion Ridge    6400.9 -116.73432    CA   \n",
       "\n",
       "   Restricted  Qc_Flagged  Latitude             Timezone     Id  \\\n",
       "0       False       False  33.76594  America/Los_Angeles  70844   \n",
       "1       False       False  33.76594  America/Los_Angeles  70844   \n",
       "2       False       False  33.76594  America/Los_Angeles  70844   \n",
       "3       False       False  33.76594  America/Los_Angeles  70844   \n",
       "4       False       False  33.76594  America/Los_Angeles  70844   \n",
       "\n",
       "      Period_Of_Record.Start       Period_Of_Record.End                Time  \\\n",
       "0  2018-06-11 20:11:00+00:00  2021-06-09 17:50:00+00:00 2021-01-12 00:00:00   \n",
       "1  2018-06-11 20:11:00+00:00  2021-06-09 17:50:00+00:00 2021-01-12 00:10:00   \n",
       "2  2018-06-11 20:11:00+00:00  2021-06-09 17:50:00+00:00 2021-01-12 00:20:00   \n",
       "3  2018-06-11 20:11:00+00:00  2021-06-09 17:50:00+00:00 2021-01-12 00:30:00   \n",
       "4  2018-06-11 20:11:00+00:00  2021-06-09 17:50:00+00:00 2021-01-12 00:40:00   \n",
       "\n",
       "   RelHum  WindSpd  GustSpd       Date Station  \n",
       "0   30.89     2.87     6.43 2021-01-12   SE001  \n",
       "1   30.83     3.27     8.26 2021-01-12   SE001  \n",
       "2   31.16     2.16     6.06 2021-01-12   SE001  \n",
       "3   32.43     1.29     4.38 2021-01-12   SE001  \n",
       "4   32.18     1.32     3.58 2021-01-12   SE001  "
      ]
     },
     "execution_count": 3,
     "metadata": {},
     "output_type": "execute_result"
    }
   ],
   "source": [
    "wr = pd.read_csv(\"../data/sce.csv\", parse_dates=[\"Time\", \"Date\"])\n",
    "wr.head()"
   ]
  },
  {
   "cell_type": "code",
   "execution_count": 4,
   "id": "ada5678d-234e-4219-8878-54b389170e77",
   "metadata": {},
   "outputs": [
    {
     "data": {
      "text/plain": [
       "count    971461.000000\n",
       "mean          6.033779\n",
       "std           6.057898\n",
       "min           0.000000\n",
       "25%           1.940000\n",
       "50%           3.970000\n",
       "75%           8.010000\n",
       "max          70.640000\n",
       "Name: WindSpd, dtype: float64"
      ]
     },
     "execution_count": 4,
     "metadata": {},
     "output_type": "execute_result"
    }
   ],
   "source": [
    "wr.WindSpd.describe()"
   ]
  },
  {
   "cell_type": "code",
   "execution_count": 5,
   "id": "56b5e74f-c171-4812-bf52-52b8915571dc",
   "metadata": {},
   "outputs": [
    {
     "data": {
      "text/plain": [
       "<AxesSubplot:>"
      ]
     },
     "execution_count": 5,
     "metadata": {},
     "output_type": "execute_result"
    },
    {
     "data": {
      "image/png": "[encoded data removed]",
      "text/plain": [
       "<Figure size 432x288 with 1 Axes>"
      ]
     },
     "metadata": {
      "needs_background": "light"
     },
     "output_type": "display_data"
    }
   ],
   "source": [
    "wr.WindSpd.hist(bins=20)"
   ]
  },
  {
   "cell_type": "code",
   "execution_count": 6,
   "id": "1a320085-aeb6-4194-bc49-44fcf9d5c2f8",
   "metadata": {},
   "outputs": [],
   "source": [
    "c, loc, scale = weibull_min.fit(wr.WindSpd.dropna())"
   ]
  },
  {
   "cell_type": "code",
   "execution_count": 7,
   "id": "97c3a410-1fc4-4f1b-bf55-9665f9c08040",
   "metadata": {},
   "outputs": [
    {
     "data": {
      "text/plain": [
       "[<matplotlib.lines.Line2D at 0x7fbbc92efbb0>]"
      ]
     },
     "execution_count": 7,
     "metadata": {},
     "output_type": "execute_result"
    },
    {
     "data": {
      "image/png": "[encoded data removed]",
      "text/plain": [
       "<Figure size 432x288 with 1 Axes>"
      ]
     },
     "metadata": {
      "needs_background": "light"
     },
     "output_type": "display_data"
    }
   ],
   "source": [
    "x = np.arange(0,60,.01)\n",
    "y = weibull_min.pdf((x - loc)/scale, c)/scale\n",
    "plt.plot(x,y)"
   ]
  },
  {
   "cell_type": "code",
   "execution_count": 8,
   "id": "d1cfabb9-2333-4f05-a092-0cbe0befa42d",
   "metadata": {},
   "outputs": [],
   "source": [
    "wr_dt_columns = [\"Date\", \"Time\"]\n",
    "wr_ts_columns = [\"RelHum\", \"WindSpd\", \"GustSpd\"]\n",
    "wr_cat_columns = [\"Station\"]\n",
    "wr_cat_real_columns = [\"Latitude\", \"Longitude\"]"
   ]
  },
  {
   "cell_type": "markdown",
   "id": "067e4249-eee4-473c-8b4f-1e1b3ad89425",
   "metadata": {},
   "source": [
    "We identify the extreme values in humidity and wind by percentile, and filter those stations that recorded these values for later inspection.  Note that the thresholds used by SCE are 31 and 46 mph for wind and gust, respectively, which roughly corresponds to the 99th percentile"
   ]
  },
  {
   "cell_type": "code",
   "execution_count": 9,
   "id": "028433e6-fe54-45ef-bf30-a7cfd25b1150",
   "metadata": {},
   "outputs": [
    {
     "data": {
      "text/html": [
       "<div>\n",
       "<style scoped>\n",
       "    .dataframe tbody tr th:only-of-type {\n",
       "        vertical-align: middle;\n",
       "    }\n",
       "\n",
       "    .dataframe tbody tr th {\n",
       "        vertical-align: top;\n",
       "    }\n",
       "\n",
       "    .dataframe thead th {\n",
       "        text-align: right;\n",
       "    }\n",
       "</style>\n",
       "<table border=\"1\" class=\"dataframe\">\n",
       "  <thead>\n",
       "    <tr style=\"text-align: right;\">\n",
       "      <th></th>\n",
       "      <th>WindSpd</th>\n",
       "      <th>GustSpd</th>\n",
       "    </tr>\n",
       "  </thead>\n",
       "  <tbody>\n",
       "    <tr>\n",
       "      <th>91%</th>\n",
       "      <td>14.91</td>\n",
       "      <td>26.96</td>\n",
       "    </tr>\n",
       "    <tr>\n",
       "      <th>92%</th>\n",
       "      <td>15.66</td>\n",
       "      <td>28.12</td>\n",
       "    </tr>\n",
       "    <tr>\n",
       "      <th>93%</th>\n",
       "      <td>16.51</td>\n",
       "      <td>29.37</td>\n",
       "    </tr>\n",
       "    <tr>\n",
       "      <th>94%</th>\n",
       "      <td>17.45</td>\n",
       "      <td>30.83</td>\n",
       "    </tr>\n",
       "    <tr>\n",
       "      <th>95%</th>\n",
       "      <td>18.61</td>\n",
       "      <td>32.44</td>\n",
       "    </tr>\n",
       "    <tr>\n",
       "      <th>96%</th>\n",
       "      <td>20.01</td>\n",
       "      <td>34.34</td>\n",
       "    </tr>\n",
       "    <tr>\n",
       "      <th>97%</th>\n",
       "      <td>21.81</td>\n",
       "      <td>36.74</td>\n",
       "    </tr>\n",
       "    <tr>\n",
       "      <th>98%</th>\n",
       "      <td>24.29</td>\n",
       "      <td>40.04</td>\n",
       "    </tr>\n",
       "    <tr>\n",
       "      <th>99%</th>\n",
       "      <td>28.12</td>\n",
       "      <td>45.23</td>\n",
       "    </tr>\n",
       "    <tr>\n",
       "      <th>max</th>\n",
       "      <td>70.64</td>\n",
       "      <td>98.90</td>\n",
       "    </tr>\n",
       "  </tbody>\n",
       "</table>\n",
       "</div>"
      ],
      "text/plain": [
       "     WindSpd  GustSpd\n",
       "91%    14.91    26.96\n",
       "92%    15.66    28.12\n",
       "93%    16.51    29.37\n",
       "94%    17.45    30.83\n",
       "95%    18.61    32.44\n",
       "96%    20.01    34.34\n",
       "97%    21.81    36.74\n",
       "98%    24.29    40.04\n",
       "99%    28.12    45.23\n",
       "max    70.64    98.90"
      ]
     },
     "execution_count": 9,
     "metadata": {},
     "output_type": "execute_result"
    }
   ],
   "source": [
    "wind_gust_perc = wr[[\"WindSpd\", \"GustSpd\"]].describe(percentiles=np.arange(0,1,.01))[-10:]\n",
    "wind_gust_perc"
   ]
  },
  {
   "cell_type": "code",
   "execution_count": 10,
   "id": "791d5203-753f-4b1a-9e37-4bf841989589",
   "metadata": {},
   "outputs": [
    {
     "data": {
      "text/plain": [
       "0%      0.88\n",
       "1%      9.00\n",
       "2%      9.97\n",
       "3%     10.67\n",
       "4%     11.22\n",
       "5%     11.67\n",
       "6%     12.05\n",
       "7%     12.40\n",
       "8%     12.73\n",
       "9%     13.02\n",
       "10%    13.31\n",
       "Name: RelHum, dtype: float64"
      ]
     },
     "execution_count": 10,
     "metadata": {},
     "output_type": "execute_result"
    }
   ],
   "source": [
    "hum_perc = wr[\"RelHum\"].describe(percentiles=np.arange(0,1,.01))[4:15]\n",
    "hum_perc"
   ]
  },
  {
   "cell_type": "code",
   "execution_count": 11,
   "id": "0a572899-a1fa-415c-97a5-47aba94e3ed8",
   "metadata": {},
   "outputs": [],
   "source": [
    "outliers = wr[(wr.WindSpd > wind_gust_perc.WindSpd[\"99%\"]) & (wr.GustSpd > wind_gust_perc.GustSpd[\"99%\"]) & (wr.RelHum < hum_perc[\"10%\"])]"
   ]
  },
  {
   "cell_type": "code",
   "execution_count": 12,
   "id": "49e47671-498f-4cc2-aff3-a26685c89b41",
   "metadata": {},
   "outputs": [
    {
     "data": {
      "text/plain": [
       "array([ 71312,  72882,  88896,  89911,  89912,  92121, 108441, 125752,\n",
       "       139780, 141651, 141652, 142942, 150331, 151178, 152233, 152320,\n",
       "       152639, 152640, 152657, 152687, 156554, 156555])"
      ]
     },
     "execution_count": 12,
     "metadata": {},
     "output_type": "execute_result"
    }
   ],
   "source": [
    "outliers.Id.unique()"
   ]
  },
  {
   "cell_type": "markdown",
   "id": "ac69a4be-8b1f-406f-ba2a-01055c298b9e",
   "metadata": {},
   "source": [
    "### Visualizations by Station\n",
    "\n",
    "Plots of humidity and wind speed"
   ]
  },
  {
   "cell_type": "code",
   "execution_count": 13,
   "id": "4a8aec24-c47e-4f98-9c2d-462d964078ea",
   "metadata": {},
   "outputs": [
    {
     "data": {
      "text/plain": [
       "<matplotlib.legend.Legend at 0x7fbbd99b34f0>"
      ]
     },
     "execution_count": 13,
     "metadata": {},
     "output_type": "execute_result"
    },
    {
     "data": {
      "image/png": "[encoded data removed]",
      "text/plain": [
       "<Figure size 1728x1152 with 2 Axes>"
      ]
     },
     "metadata": {
      "needs_background": "light"
     },
     "output_type": "display_data"
    }
   ],
   "source": [
    "station_id = 108259\n",
    "wrs = wr[(wr.Id==station_id)].copy().set_index(\"Time\")\n",
    "fig, ax = plt.subplots(2, 1,figsize=(24,16))\n",
    "\n",
    "ax[0].plot(wrs[\"RelHum\"], color=\"red\", label=\"Relative Humidity\")\n",
    "ax[0].set_title(\"{} - Humidity\".format(station_id, \"RelHum\"))    \n",
    "\n",
    "ax[1].plot(wrs[\"WindSpd\"], label=\"Wind Speed\")\n",
    "ax[1].plot(wrs[\"GustSpd\"], color=\"purple\", label=\"Gust Speed\")\n",
    "ax[1].set_title(\"{} - Wind, Gust Speed\".format(station_id, \"WindSpd\"))\n",
    "ax[1].legend()"
   ]
  },
  {
   "cell_type": "markdown",
   "id": "9f499f3c",
   "metadata": {},
   "source": [
    "## GlutonTS\n",
    "\n",
    "In this section we prepare the data for training with GluonTS, and train their DeepAR model"
   ]
  },
  {
   "cell_type": "code",
   "execution_count": 14,
   "id": "4e18a19a-d707-4910-853b-01f2be023a86",
   "metadata": {},
   "outputs": [
    {
     "name": "stderr",
     "output_type": "stream",
     "text": [
      "/usr/local/anaconda3/envs/gluon-ts/lib/python3.8/site-packages/gluonts/json.py:45: UserWarning: Using `json`-module for json-handling. Consider installing one of `orjson`, `ujson` to speed up serialization and deserialization.\n",
      "  warnings.warn(\n"
     ]
    }
   ],
   "source": [
    "from gluonts.mx.trainer import Trainer\n",
    "from gluonts.model.predictor import Predictor\n",
    "from gluonts.evaluation import make_evaluation_predictions\n",
    "from gluonts.dataset.common import ListDataset\n",
    "from gluonts.evaluation import Evaluator"
   ]
  },
  {
   "cell_type": "code",
   "execution_count": 15,
   "id": "ae6e7b87-d538-43db-82f9-e0955c08d67b",
   "metadata": {},
   "outputs": [],
   "source": [
    "from gluonts.model.deepar import DeepAREstimator\n",
    "from gluonts.model.deepvar import DeepVAREstimator"
   ]
  },
  {
   "cell_type": "markdown",
   "id": "d4a769ff-ba7f-44d9-ab53-c658edc0a2ef",
   "metadata": {},
   "source": [
    "For preprocessing, we do the following:\n",
    "- Make a copy of the dataset\n",
    "- Remove duplicates based on the values in the Id, time series, and categorical features column\n",
    "- Set the index as the \"Time\" column (helpful/required by gluonts)\n",
    "- Cut-off the data after January 20th, this time period was chosen based on analysis of PSPS reports from SCE\n",
    "- Filter out stations with missing values; there should be 1152 readings for the 8 day period"
   ]
  },
  {
   "cell_type": "code",
   "execution_count": 16,
   "id": "ce1cf2dc",
   "metadata": {},
   "outputs": [],
   "source": [
    "wr_gts = wr.copy()\n",
    "wr_gts.drop_duplicates(subset = [\"Id\"] + wr_ts_columns + wr_dt_columns, inplace=True)\n",
    "wr_gts.set_index([\"Time\"], inplace=True)\n",
    "wr_gts = wr_gts.loc[:\"2021-01-20 00:00:00\"]"
   ]
  },
  {
   "cell_type": "code",
   "execution_count": 17,
   "id": "27a3267a-69b3-4406-ab91-e6ebf5f7759b",
   "metadata": {},
   "outputs": [],
   "source": [
    "# Filter out weather stations with < 8 days worth of 10-minute data\n",
    "wr_gts_id_counts = wr_gts.groupby(\"Id\").count().WindSpd\n",
    "wr_gts_ids = wr_gts_id_counts[wr_gts_id_counts >= 1152].index\n",
    "wr_gts = wr_gts[wr_gts.Id.isin(wr_gts_ids)]"
   ]
  },
  {
   "cell_type": "code",
   "execution_count": 18,
   "id": "c5274385-8dd3-4ee6-a3da-7e3ad41c2c76",
   "metadata": {},
   "outputs": [
    {
     "name": "stdout",
     "output_type": "stream",
     "text": [
      "Number of Weather Stations:  (189,)\n",
      "Number of records:  (217907,)\n"
     ]
    }
   ],
   "source": [
    "print(\"Number of Weather Stations:  {}\".format(wr_gts.Id.unique().shape))\n",
    "print(\"Number of records:  {}\".format(wr_gts.index.shape))"
   ]
  },
  {
   "cell_type": "code",
   "execution_count": 19,
   "id": "76529647-3b8b-4805-8182-b8fbd5160bc7",
   "metadata": {},
   "outputs": [
    {
     "data": {
      "text/html": [
       "<div>\n",
       "<style scoped>\n",
       "    .dataframe tbody tr th:only-of-type {\n",
       "        vertical-align: middle;\n",
       "    }\n",
       "\n",
       "    .dataframe tbody tr th {\n",
       "        vertical-align: top;\n",
       "    }\n",
       "\n",
       "    .dataframe thead th {\n",
       "        text-align: right;\n",
       "    }\n",
       "</style>\n",
       "<table border=\"1\" class=\"dataframe\">\n",
       "  <thead>\n",
       "    <tr style=\"text-align: right;\">\n",
       "      <th></th>\n",
       "      <th>Status</th>\n",
       "      <th>Mnet_Id</th>\n",
       "      <th>Elevation</th>\n",
       "      <th>Name</th>\n",
       "      <th>Elev_Dem</th>\n",
       "      <th>Longitude</th>\n",
       "      <th>State</th>\n",
       "      <th>Restricted</th>\n",
       "      <th>Qc_Flagged</th>\n",
       "      <th>Latitude</th>\n",
       "      <th>Timezone</th>\n",
       "      <th>Id</th>\n",
       "      <th>Period_Of_Record.Start</th>\n",
       "      <th>Period_Of_Record.End</th>\n",
       "      <th>RelHum</th>\n",
       "      <th>WindSpd</th>\n",
       "      <th>GustSpd</th>\n",
       "      <th>Date</th>\n",
       "      <th>Station</th>\n",
       "    </tr>\n",
       "    <tr>\n",
       "      <th>Time</th>\n",
       "      <th></th>\n",
       "      <th></th>\n",
       "      <th></th>\n",
       "      <th></th>\n",
       "      <th></th>\n",
       "      <th></th>\n",
       "      <th></th>\n",
       "      <th></th>\n",
       "      <th></th>\n",
       "      <th></th>\n",
       "      <th></th>\n",
       "      <th></th>\n",
       "      <th></th>\n",
       "      <th></th>\n",
       "      <th></th>\n",
       "      <th></th>\n",
       "      <th></th>\n",
       "      <th></th>\n",
       "      <th></th>\n",
       "    </tr>\n",
       "  </thead>\n",
       "  <tbody>\n",
       "    <tr>\n",
       "      <th>2021-01-12 00:00:00</th>\n",
       "      <td>ACTIVE</td>\n",
       "      <td>231</td>\n",
       "      <td>6388</td>\n",
       "      <td>SCE Marion Ridge</td>\n",
       "      <td>6400.9</td>\n",
       "      <td>-116.73432</td>\n",
       "      <td>CA</td>\n",
       "      <td>False</td>\n",
       "      <td>False</td>\n",
       "      <td>33.76594</td>\n",
       "      <td>America/Los_Angeles</td>\n",
       "      <td>70844</td>\n",
       "      <td>2018-06-11 20:11:00+00:00</td>\n",
       "      <td>2021-06-09 17:50:00+00:00</td>\n",
       "      <td>30.89</td>\n",
       "      <td>2.87</td>\n",
       "      <td>6.43</td>\n",
       "      <td>2021-01-12</td>\n",
       "      <td>SE001</td>\n",
       "    </tr>\n",
       "    <tr>\n",
       "      <th>2021-01-12 00:10:00</th>\n",
       "      <td>ACTIVE</td>\n",
       "      <td>231</td>\n",
       "      <td>6388</td>\n",
       "      <td>SCE Marion Ridge</td>\n",
       "      <td>6400.9</td>\n",
       "      <td>-116.73432</td>\n",
       "      <td>CA</td>\n",
       "      <td>False</td>\n",
       "      <td>False</td>\n",
       "      <td>33.76594</td>\n",
       "      <td>America/Los_Angeles</td>\n",
       "      <td>70844</td>\n",
       "      <td>2018-06-11 20:11:00+00:00</td>\n",
       "      <td>2021-06-09 17:50:00+00:00</td>\n",
       "      <td>30.83</td>\n",
       "      <td>3.27</td>\n",
       "      <td>8.26</td>\n",
       "      <td>2021-01-12</td>\n",
       "      <td>SE001</td>\n",
       "    </tr>\n",
       "    <tr>\n",
       "      <th>2021-01-12 00:20:00</th>\n",
       "      <td>ACTIVE</td>\n",
       "      <td>231</td>\n",
       "      <td>6388</td>\n",
       "      <td>SCE Marion Ridge</td>\n",
       "      <td>6400.9</td>\n",
       "      <td>-116.73432</td>\n",
       "      <td>CA</td>\n",
       "      <td>False</td>\n",
       "      <td>False</td>\n",
       "      <td>33.76594</td>\n",
       "      <td>America/Los_Angeles</td>\n",
       "      <td>70844</td>\n",
       "      <td>2018-06-11 20:11:00+00:00</td>\n",
       "      <td>2021-06-09 17:50:00+00:00</td>\n",
       "      <td>31.16</td>\n",
       "      <td>2.16</td>\n",
       "      <td>6.06</td>\n",
       "      <td>2021-01-12</td>\n",
       "      <td>SE001</td>\n",
       "    </tr>\n",
       "    <tr>\n",
       "      <th>2021-01-12 00:30:00</th>\n",
       "      <td>ACTIVE</td>\n",
       "      <td>231</td>\n",
       "      <td>6388</td>\n",
       "      <td>SCE Marion Ridge</td>\n",
       "      <td>6400.9</td>\n",
       "      <td>-116.73432</td>\n",
       "      <td>CA</td>\n",
       "      <td>False</td>\n",
       "      <td>False</td>\n",
       "      <td>33.76594</td>\n",
       "      <td>America/Los_Angeles</td>\n",
       "      <td>70844</td>\n",
       "      <td>2018-06-11 20:11:00+00:00</td>\n",
       "      <td>2021-06-09 17:50:00+00:00</td>\n",
       "      <td>32.43</td>\n",
       "      <td>1.29</td>\n",
       "      <td>4.38</td>\n",
       "      <td>2021-01-12</td>\n",
       "      <td>SE001</td>\n",
       "    </tr>\n",
       "    <tr>\n",
       "      <th>2021-01-12 00:40:00</th>\n",
       "      <td>ACTIVE</td>\n",
       "      <td>231</td>\n",
       "      <td>6388</td>\n",
       "      <td>SCE Marion Ridge</td>\n",
       "      <td>6400.9</td>\n",
       "      <td>-116.73432</td>\n",
       "      <td>CA</td>\n",
       "      <td>False</td>\n",
       "      <td>False</td>\n",
       "      <td>33.76594</td>\n",
       "      <td>America/Los_Angeles</td>\n",
       "      <td>70844</td>\n",
       "      <td>2018-06-11 20:11:00+00:00</td>\n",
       "      <td>2021-06-09 17:50:00+00:00</td>\n",
       "      <td>32.18</td>\n",
       "      <td>1.32</td>\n",
       "      <td>3.58</td>\n",
       "      <td>2021-01-12</td>\n",
       "      <td>SE001</td>\n",
       "    </tr>\n",
       "  </tbody>\n",
       "</table>\n",
       "</div>"
      ],
      "text/plain": [
       "                     Status  Mnet_Id  Elevation              Name  Elev_Dem  \\\n",
       "Time                                                                          \n",
       "2021-01-12 00:00:00  ACTIVE      231       6388  SCE Marion Ridge    6400.9   \n",
       "2021-01-12 00:10:00  ACTIVE      231       6388  SCE Marion Ridge    6400.9   \n",
       "2021-01-12 00:20:00  ACTIVE      231       6388  SCE Marion Ridge    6400.9   \n",
       "2021-01-12 00:30:00  ACTIVE      231       6388  SCE Marion Ridge    6400.9   \n",
       "2021-01-12 00:40:00  ACTIVE      231       6388  SCE Marion Ridge    6400.9   \n",
       "\n",
       "                     Longitude State  Restricted  Qc_Flagged  Latitude  \\\n",
       "Time                                                                     \n",
       "2021-01-12 00:00:00 -116.73432    CA       False       False  33.76594   \n",
       "2021-01-12 00:10:00 -116.73432    CA       False       False  33.76594   \n",
       "2021-01-12 00:20:00 -116.73432    CA       False       False  33.76594   \n",
       "2021-01-12 00:30:00 -116.73432    CA       False       False  33.76594   \n",
       "2021-01-12 00:40:00 -116.73432    CA       False       False  33.76594   \n",
       "\n",
       "                                Timezone     Id     Period_Of_Record.Start  \\\n",
       "Time                                                                         \n",
       "2021-01-12 00:00:00  America/Los_Angeles  70844  2018-06-11 20:11:00+00:00   \n",
       "2021-01-12 00:10:00  America/Los_Angeles  70844  2018-06-11 20:11:00+00:00   \n",
       "2021-01-12 00:20:00  America/Los_Angeles  70844  2018-06-11 20:11:00+00:00   \n",
       "2021-01-12 00:30:00  America/Los_Angeles  70844  2018-06-11 20:11:00+00:00   \n",
       "2021-01-12 00:40:00  America/Los_Angeles  70844  2018-06-11 20:11:00+00:00   \n",
       "\n",
       "                          Period_Of_Record.End  RelHum  WindSpd  GustSpd  \\\n",
       "Time                                                                       \n",
       "2021-01-12 00:00:00  2021-06-09 17:50:00+00:00   30.89     2.87     6.43   \n",
       "2021-01-12 00:10:00  2021-06-09 17:50:00+00:00   30.83     3.27     8.26   \n",
       "2021-01-12 00:20:00  2021-06-09 17:50:00+00:00   31.16     2.16     6.06   \n",
       "2021-01-12 00:30:00  2021-06-09 17:50:00+00:00   32.43     1.29     4.38   \n",
       "2021-01-12 00:40:00  2021-06-09 17:50:00+00:00   32.18     1.32     3.58   \n",
       "\n",
       "                          Date Station  \n",
       "Time                                    \n",
       "2021-01-12 00:00:00 2021-01-12   SE001  \n",
       "2021-01-12 00:10:00 2021-01-12   SE001  \n",
       "2021-01-12 00:20:00 2021-01-12   SE001  \n",
       "2021-01-12 00:30:00 2021-01-12   SE001  \n",
       "2021-01-12 00:40:00 2021-01-12   SE001  "
      ]
     },
     "execution_count": 19,
     "metadata": {},
     "output_type": "execute_result"
    }
   ],
   "source": [
    "wr_gts.head()"
   ]
  },
  {
   "cell_type": "code",
   "execution_count": 20,
   "id": "0af4056e-e83b-4eec-bd33-99b9cf132a14",
   "metadata": {},
   "outputs": [
    {
     "data": {
      "text/plain": [
       "array([ 70844,  70845,  70848,  70852,  70855,  70857,  70858,  70859,\n",
       "        70861,  70867,  70868,  71066,  71067,  71083,  71307,  71308,\n",
       "        71309,  71310,  71311,  71312,  71313,  71456,  71464,  71477,\n",
       "        71717,  71720,  71824,  71825,  71910,  71946,  71953,  71954,\n",
       "        71958,  71959,  71975,  71982,  72006,  72007,  72020,  72021,\n",
       "        72048,  72070,  72074,  72151,  72165,  72190,  72206,  72472,\n",
       "        72486,  72496,  72499,  72500,  72503,  72776,  72778,  72828,\n",
       "        72883,  72885,  72886,  72887,  72889,  72960,  75111,  75299,\n",
       "        88896,  89436,  89581,  89586,  89653,  89670,  89680,  89681,\n",
       "        89701,  89702,  89712,  89734,  89735,  89765,  89766,  89886,\n",
       "        89892,  89893,  89911,  89912,  89967,  89968,  89997,  89998,\n",
       "        89999,  90018,  90021,  90022,  90023,  90034,  90040,  90041,\n",
       "        90043,  90044,  90053,  90054,  90056,  90064,  90065,  90117,\n",
       "        90126,  90137,  90162,  90371,  90374,  90375,  90388,  90390,\n",
       "        90391,  90392,  90540,  90558,  90559,  90570,  90641,  90645,\n",
       "        90646,  90650,  90662,  90680,  90692,  90693,  90698,  90701,\n",
       "        90702,  90704,  90705,  90706,  90707,  90718,  90724,  90726,\n",
       "        91292,  91296,  91297,  91443,  91446,  91861,  91864,  91867,\n",
       "        91874,  92096,  92135,  92136,  92174,  92197,  92198,  92210,\n",
       "        92246,  92247,  92251,  92387,  92476,  92602,  93080,  94411,\n",
       "        94570, 100060, 100293, 100301, 100311, 101129, 103896, 108259,\n",
       "       112988, 113072, 116127, 116157, 118156, 125730, 143001, 143014,\n",
       "       150330, 150366, 152253, 152296, 152636, 152934, 153357, 154503,\n",
       "       154809, 155826, 156568, 156870, 157441])"
      ]
     },
     "execution_count": 20,
     "metadata": {},
     "output_type": "execute_result"
    }
   ],
   "source": [
    "wr_gts.Id.unique()"
   ]
  },
  {
   "cell_type": "code",
   "execution_count": 21,
   "id": "b9d9eb7a-b2d7-4942-963c-5a7348e6a6f9",
   "metadata": {},
   "outputs": [
    {
     "data": {
      "text/plain": [
       "array([71312, 88896, 89911, 89912])"
      ]
     },
     "execution_count": 21,
     "metadata": {},
     "output_type": "execute_result"
    }
   ],
   "source": [
    "# Same outlier computation as above, now for filtered data\n",
    "train_outliers = wr_gts[(wr_gts.WindSpd > wind_gust_perc.WindSpd[\"99%\"]) & (wr_gts.GustSpd > wind_gust_perc.GustSpd[\"99%\"]) & (wr_gts.RelHum < hum_perc[\"10%\"])]\n",
    "train_outliers.Id.unique()"
   ]
  },
  {
   "cell_type": "code",
   "execution_count": 22,
   "id": "e4d3d599-e9bf-4192-8aeb-393cb911417d",
   "metadata": {},
   "outputs": [],
   "source": [
    "# We take all data up to the 19th for training, and test with the data up to the 20th\n",
    "training_time_cutoff = \"2021-01-19 00:00:00\"\n",
    "testing_time_cutoff = \"2021-01-20 00:00:00\""
   ]
  },
  {
   "cell_type": "code",
   "execution_count": 23,
   "id": "04140e19",
   "metadata": {
    "tags": []
   },
   "outputs": [],
   "source": [
    "# We group data by station Id, separate out the three features of humidity, wind, and gust, and format them into dictionaries as required by GluonTS\n",
    "all_single_training_datasets = []\n",
    "for (station_id, df) in wr_gts.groupby(\"Id\"):\n",
    "    tss = df[wr_ts_columns].transpose().iterrows()\n",
    "    for (c, ts) in tss:\n",
    "        all_single_training_datasets.append({\n",
    "            \"item_id\": \"Training:  {} - {}\".format(station_id, c),\n",
    "            \"start\": ts.index[0],\n",
    "            \"target\": ts.loc[:training_time_cutoff],\n",
    "            \"feat_static_cat\": [station_id],\n",
    "            \"feat_static_real\": [df[wr_cat_real_columns[0]].unique()[0], df[wr_cat_real_columns[1]].unique()[0]] #lat, long\n",
    "        })"
   ]
  },
  {
   "cell_type": "code",
   "execution_count": 24,
   "id": "01fd90f9-1d5e-4d8f-855a-b041c8f53ab8",
   "metadata": {
    "tags": []
   },
   "outputs": [],
   "source": [
    "all_single_training_data = ListDataset(\n",
    "    all_single_training_datasets,\n",
    "    freq = \"10min\",\n",
    ")"
   ]
  },
  {
   "cell_type": "code",
   "execution_count": 25,
   "id": "1bbe5b8d",
   "metadata": {
    "tags": []
   },
   "outputs": [],
   "source": [
    "estimator = DeepAREstimator(\n",
    "    freq=\"10min\", \n",
    "    prediction_length=6*24, # 24-hour prediction\n",
    "    trainer=Trainer(epochs=200, batch_size=32, patience=10), \n",
    "    num_layers=2,\n",
    "    num_cells=40,\n",
    "    use_feat_static_cat = True, cardinality = [wr_gts.Id.unique().shape[0]], \n",
    "    use_feat_static_real = True,\n",
    ")"
   ]
  },
  {
   "cell_type": "markdown",
   "id": "451c865c-cfc9-4aaa-b797-e71a3d845b58",
   "metadata": {},
   "source": [
    "### Train a new model..."
   ]
  },
  {
   "cell_type": "code",
   "execution_count": 26,
   "id": "4f925e11",
   "metadata": {
    "tags": []
   },
   "outputs": [
    {
     "name": "stderr",
     "output_type": "stream",
     "text": [
      "100%|██████████| 50/50 [00:18<00:00,  2.71it/s, epoch=1/200, avg_epoch_loss=3.44]\n",
      "100%|██████████| 50/50 [00:16<00:00,  2.95it/s, epoch=2/200, avg_epoch_loss=2.64]\n",
      "100%|██████████| 50/50 [00:16<00:00,  2.96it/s, epoch=3/200, avg_epoch_loss=2.35]\n",
      "100%|██████████| 50/50 [00:16<00:00,  2.96it/s, epoch=4/200, avg_epoch_loss=2.21]\n",
      "100%|██████████| 50/50 [00:16<00:00,  2.96it/s, epoch=5/200, avg_epoch_loss=2.1] \n",
      "100%|██████████| 50/50 [00:17<00:00,  2.83it/s, epoch=6/200, avg_epoch_loss=2.05]\n",
      "100%|██████████| 50/50 [00:19<00:00,  2.52it/s, epoch=7/200, avg_epoch_loss=2.01]\n",
      "100%|██████████| 50/50 [00:17<00:00,  2.81it/s, epoch=8/200, avg_epoch_loss=2.01]\n",
      "100%|██████████| 50/50 [00:17<00:00,  2.93it/s, epoch=9/200, avg_epoch_loss=1.93]\n",
      "100%|██████████| 50/50 [00:17<00:00,  2.94it/s, epoch=10/200, avg_epoch_loss=1.92]\n",
      "100%|██████████| 50/50 [00:17<00:00,  2.93it/s, epoch=11/200, avg_epoch_loss=1.94]\n",
      "100%|██████████| 50/50 [00:17<00:00,  2.84it/s, epoch=12/200, avg_epoch_loss=1.91]\n",
      "100%|██████████| 50/50 [00:17<00:00,  2.92it/s, epoch=13/200, avg_epoch_loss=1.9]\n",
      "100%|██████████| 50/50 [00:17<00:00,  2.84it/s, epoch=14/200, avg_epoch_loss=1.87]\n",
      "100%|██████████| 50/50 [00:17<00:00,  2.80it/s, epoch=15/200, avg_epoch_loss=1.86]\n",
      "100%|██████████| 50/50 [00:17<00:00,  2.90it/s, epoch=16/200, avg_epoch_loss=1.86]\n",
      "100%|██████████| 50/50 [00:17<00:00,  2.91it/s, epoch=17/200, avg_epoch_loss=1.88]\n",
      "100%|██████████| 50/50 [00:16<00:00,  2.95it/s, epoch=18/200, avg_epoch_loss=1.81]\n",
      "100%|██████████| 50/50 [00:17<00:00,  2.94it/s, epoch=19/200, avg_epoch_loss=1.84]\n",
      "100%|██████████| 50/50 [00:16<00:00,  2.95it/s, epoch=20/200, avg_epoch_loss=1.84]\n",
      "100%|██████████| 50/50 [00:16<00:00,  2.95it/s, epoch=21/200, avg_epoch_loss=1.85]\n",
      "100%|██████████| 50/50 [00:16<00:00,  2.96it/s, epoch=22/200, avg_epoch_loss=1.87]\n",
      "100%|██████████| 50/50 [00:16<00:00,  2.95it/s, epoch=23/200, avg_epoch_loss=1.8] \n",
      "100%|██████████| 50/50 [00:16<00:00,  2.94it/s, epoch=24/200, avg_epoch_loss=1.8]\n",
      "100%|██████████| 50/50 [00:16<00:00,  2.95it/s, epoch=25/200, avg_epoch_loss=1.83]\n",
      "100%|██████████| 50/50 [00:16<00:00,  2.96it/s, epoch=26/200, avg_epoch_loss=1.82]\n",
      "100%|██████████| 50/50 [00:16<00:00,  2.95it/s, epoch=27/200, avg_epoch_loss=1.8] \n",
      "100%|██████████| 50/50 [00:16<00:00,  2.96it/s, epoch=28/200, avg_epoch_loss=1.82]\n",
      "100%|██████████| 50/50 [00:16<00:00,  2.95it/s, epoch=29/200, avg_epoch_loss=1.83]\n",
      "100%|██████████| 50/50 [00:17<00:00,  2.93it/s, epoch=30/200, avg_epoch_loss=1.77]\n",
      "100%|██████████| 50/50 [00:16<00:00,  2.95it/s, epoch=31/200, avg_epoch_loss=1.78]\n",
      "100%|██████████| 50/50 [00:16<00:00,  2.96it/s, epoch=32/200, avg_epoch_loss=1.8] \n",
      "100%|██████████| 50/50 [00:16<00:00,  2.95it/s, epoch=33/200, avg_epoch_loss=1.81]\n",
      "100%|██████████| 50/50 [00:16<00:00,  2.95it/s, epoch=34/200, avg_epoch_loss=1.8] \n",
      "100%|██████████| 50/50 [00:17<00:00,  2.81it/s, epoch=35/200, avg_epoch_loss=1.8] \n",
      "100%|██████████| 50/50 [00:18<00:00,  2.77it/s, epoch=36/200, avg_epoch_loss=1.79]\n",
      "100%|██████████| 50/50 [00:18<00:00,  2.77it/s, epoch=37/200, avg_epoch_loss=1.82]\n",
      "100%|██████████| 50/50 [00:18<00:00,  2.77it/s, epoch=38/200, avg_epoch_loss=1.78]\n",
      "100%|██████████| 50/50 [00:18<00:00,  2.77it/s, epoch=39/200, avg_epoch_loss=1.77]\n",
      "100%|██████████| 50/50 [00:18<00:00,  2.77it/s, epoch=40/200, avg_epoch_loss=1.77]\n",
      "100%|██████████| 50/50 [00:17<00:00,  2.78it/s, epoch=41/200, avg_epoch_loss=1.76]\n",
      "100%|██████████| 50/50 [00:18<00:00,  2.77it/s, epoch=42/200, avg_epoch_loss=1.8] \n",
      "100%|██████████| 50/50 [00:18<00:00,  2.77it/s, epoch=43/200, avg_epoch_loss=1.74]\n",
      "100%|██████████| 50/50 [00:18<00:00,  2.77it/s, epoch=44/200, avg_epoch_loss=1.75]\n",
      "100%|██████████| 50/50 [00:18<00:00,  2.77it/s, epoch=45/200, avg_epoch_loss=1.76]\n",
      "100%|██████████| 50/50 [00:18<00:00,  2.76it/s, epoch=46/200, avg_epoch_loss=1.75]\n",
      "100%|██████████| 50/50 [00:18<00:00,  2.76it/s, epoch=47/200, avg_epoch_loss=1.77]\n",
      "100%|██████████| 50/50 [00:18<00:00,  2.76it/s, epoch=48/200, avg_epoch_loss=1.76]\n",
      "100%|██████████| 50/50 [00:17<00:00,  2.92it/s, epoch=49/200, avg_epoch_loss=1.76]\n",
      "100%|██████████| 50/50 [00:17<00:00,  2.94it/s, epoch=50/200, avg_epoch_loss=1.76]\n",
      "100%|██████████| 50/50 [00:17<00:00,  2.93it/s, epoch=51/200, avg_epoch_loss=1.74]\n",
      "100%|██████████| 50/50 [00:17<00:00,  2.91it/s, epoch=52/200, avg_epoch_loss=1.74]\n",
      "100%|██████████| 50/50 [00:17<00:00,  2.93it/s, epoch=53/200, avg_epoch_loss=1.76]\n",
      "100%|██████████| 50/50 [00:17<00:00,  2.93it/s, epoch=54/200, avg_epoch_loss=1.76]\n",
      "100%|██████████| 50/50 [00:17<00:00,  2.93it/s, epoch=55/200, avg_epoch_loss=1.74]\n",
      "100%|██████████| 50/50 [00:17<00:00,  2.93it/s, epoch=56/200, avg_epoch_loss=1.75]\n",
      "100%|██████████| 50/50 [00:17<00:00,  2.94it/s, epoch=57/200, avg_epoch_loss=1.75]\n",
      "100%|██████████| 50/50 [00:17<00:00,  2.93it/s, epoch=58/200, avg_epoch_loss=1.75]\n",
      "100%|██████████| 50/50 [00:17<00:00,  2.91it/s, epoch=59/200, avg_epoch_loss=1.73]\n",
      "100%|██████████| 50/50 [00:17<00:00,  2.94it/s, epoch=60/200, avg_epoch_loss=1.73]\n",
      "100%|██████████| 50/50 [00:17<00:00,  2.92it/s, epoch=61/200, avg_epoch_loss=1.73]\n",
      "100%|██████████| 50/50 [00:17<00:00,  2.92it/s, epoch=62/200, avg_epoch_loss=1.77]\n",
      "100%|██████████| 50/50 [00:17<00:00,  2.92it/s, epoch=63/200, avg_epoch_loss=1.74]\n",
      "100%|██████████| 50/50 [00:17<00:00,  2.93it/s, epoch=64/200, avg_epoch_loss=1.74]\n",
      "100%|██████████| 50/50 [00:17<00:00,  2.93it/s, epoch=65/200, avg_epoch_loss=1.75]\n",
      "100%|██████████| 50/50 [00:17<00:00,  2.80it/s, epoch=66/200, avg_epoch_loss=1.76]\n",
      "100%|██████████| 50/50 [00:18<00:00,  2.75it/s, epoch=67/200, avg_epoch_loss=1.72]\n",
      "100%|██████████| 50/50 [00:18<00:00,  2.76it/s, epoch=68/200, avg_epoch_loss=1.75]\n",
      "100%|██████████| 50/50 [00:18<00:00,  2.76it/s, epoch=69/200, avg_epoch_loss=1.76]\n",
      "100%|██████████| 50/50 [00:18<00:00,  2.75it/s, epoch=70/200, avg_epoch_loss=1.73]\n",
      "100%|██████████| 50/50 [00:18<00:00,  2.75it/s, epoch=71/200, avg_epoch_loss=1.79]\n",
      "100%|██████████| 50/50 [00:18<00:00,  2.75it/s, epoch=72/200, avg_epoch_loss=1.76]\n",
      "100%|██████████| 50/50 [00:18<00:00,  2.75it/s, epoch=73/200, avg_epoch_loss=1.73]\n",
      "100%|██████████| 50/50 [00:18<00:00,  2.76it/s, epoch=74/200, avg_epoch_loss=1.73]\n",
      "100%|██████████| 50/50 [00:18<00:00,  2.76it/s, epoch=75/200, avg_epoch_loss=1.75]\n",
      "100%|██████████| 50/50 [00:18<00:00,  2.75it/s, epoch=76/200, avg_epoch_loss=1.74]\n",
      "100%|██████████| 50/50 [00:18<00:00,  2.75it/s, epoch=77/200, avg_epoch_loss=1.75]\n",
      "100%|██████████| 50/50 [00:18<00:00,  2.76it/s, epoch=78/200, avg_epoch_loss=1.76]\n",
      "100%|██████████| 50/50 [00:18<00:00,  2.75it/s, epoch=79/200, avg_epoch_loss=1.71]\n",
      "100%|██████████| 50/50 [00:18<00:00,  2.76it/s, epoch=80/200, avg_epoch_loss=1.73]\n",
      "100%|██████████| 50/50 [00:18<00:00,  2.75it/s, epoch=81/200, avg_epoch_loss=1.73]\n",
      "100%|██████████| 50/50 [00:18<00:00,  2.75it/s, epoch=82/200, avg_epoch_loss=1.74]\n",
      "100%|██████████| 50/50 [00:18<00:00,  2.75it/s, epoch=83/200, avg_epoch_loss=1.75]\n",
      "100%|██████████| 50/50 [00:18<00:00,  2.75it/s, epoch=84/200, avg_epoch_loss=1.75]\n",
      "100%|██████████| 50/50 [00:18<00:00,  2.75it/s, epoch=85/200, avg_epoch_loss=1.75]\n",
      "100%|██████████| 50/50 [00:18<00:00,  2.75it/s, epoch=86/200, avg_epoch_loss=1.73]\n",
      "100%|██████████| 50/50 [00:18<00:00,  2.75it/s, epoch=87/200, avg_epoch_loss=1.74]\n",
      "100%|██████████| 50/50 [00:18<00:00,  2.76it/s, epoch=88/200, avg_epoch_loss=1.72]\n",
      "100%|██████████| 50/50 [00:18<00:00,  2.77it/s, epoch=89/200, avg_epoch_loss=1.73]\n",
      "100%|██████████| 50/50 [00:18<00:00,  2.77it/s, epoch=90/200, avg_epoch_loss=1.74]\n",
      "100%|██████████| 50/50 [00:18<00:00,  2.76it/s, epoch=91/200, avg_epoch_loss=1.72]\n",
      "100%|██████████| 50/50 [00:18<00:00,  2.75it/s, epoch=92/200, avg_epoch_loss=1.73]\n",
      "100%|██████████| 50/50 [00:18<00:00,  2.76it/s, epoch=93/200, avg_epoch_loss=1.72]\n",
      "100%|██████████| 50/50 [00:18<00:00,  2.76it/s, epoch=94/200, avg_epoch_loss=1.71]\n",
      "100%|██████████| 50/50 [00:18<00:00,  2.77it/s, epoch=95/200, avg_epoch_loss=1.73]\n",
      "100%|██████████| 50/50 [00:18<00:00,  2.77it/s, epoch=96/200, avg_epoch_loss=1.72]\n",
      "100%|██████████| 50/50 [00:18<00:00,  2.77it/s, epoch=97/200, avg_epoch_loss=1.74]\n",
      "100%|██████████| 50/50 [00:18<00:00,  2.77it/s, epoch=98/200, avg_epoch_loss=1.75]\n",
      "100%|██████████| 50/50 [00:18<00:00,  2.77it/s, epoch=99/200, avg_epoch_loss=1.73]\n",
      "100%|██████████| 50/50 [00:18<00:00,  2.77it/s, epoch=100/200, avg_epoch_loss=1.72]\n",
      "100%|██████████| 50/50 [00:18<00:00,  2.77it/s, epoch=101/200, avg_epoch_loss=1.73]\n",
      "100%|██████████| 50/50 [00:18<00:00,  2.77it/s, epoch=102/200, avg_epoch_loss=1.73]\n",
      "100%|██████████| 50/50 [00:18<00:00,  2.76it/s, epoch=103/200, avg_epoch_loss=1.73]\n",
      "100%|██████████| 50/50 [00:18<00:00,  2.77it/s, epoch=104/200, avg_epoch_loss=1.73]\n",
      "100%|██████████| 50/50 [00:18<00:00,  2.77it/s, epoch=105/200, avg_epoch_loss=1.74]\n",
      "100%|██████████| 50/50 [00:18<00:00,  2.77it/s, epoch=106/200, avg_epoch_loss=1.73]\n",
      "100%|██████████| 50/50 [00:18<00:00,  2.76it/s, epoch=107/200, avg_epoch_loss=1.72]\n",
      "100%|██████████| 50/50 [00:18<00:00,  2.76it/s, epoch=108/200, avg_epoch_loss=1.72]\n",
      "100%|██████████| 50/50 [00:18<00:00,  2.76it/s, epoch=109/200, avg_epoch_loss=1.72]\n",
      "100%|██████████| 50/50 [00:18<00:00,  2.76it/s, epoch=110/200, avg_epoch_loss=1.72]\n",
      "100%|██████████| 50/50 [00:18<00:00,  2.76it/s, epoch=111/200, avg_epoch_loss=1.73]\n",
      "100%|██████████| 50/50 [00:18<00:00,  2.76it/s, epoch=112/200, avg_epoch_loss=1.72]\n",
      "100%|██████████| 50/50 [00:18<00:00,  2.77it/s, epoch=113/200, avg_epoch_loss=1.7] \n",
      "100%|██████████| 50/50 [00:18<00:00,  2.76it/s, epoch=114/200, avg_epoch_loss=1.71]\n",
      "100%|██████████| 50/50 [00:18<00:00,  2.77it/s, epoch=115/200, avg_epoch_loss=1.74]\n",
      "100%|██████████| 50/50 [00:18<00:00,  2.76it/s, epoch=116/200, avg_epoch_loss=1.73]\n",
      "100%|██████████| 50/50 [00:17<00:00,  2.88it/s, epoch=117/200, avg_epoch_loss=1.74]\n",
      "100%|██████████| 50/50 [00:16<00:00,  2.94it/s, epoch=118/200, avg_epoch_loss=1.7]\n",
      "100%|██████████| 50/50 [00:16<00:00,  2.95it/s, epoch=119/200, avg_epoch_loss=1.72]\n",
      "100%|██████████| 50/50 [00:16<00:00,  2.94it/s, epoch=120/200, avg_epoch_loss=1.73]\n",
      "100%|██████████| 50/50 [00:16<00:00,  2.95it/s, epoch=121/200, avg_epoch_loss=1.73]\n",
      "100%|██████████| 50/50 [00:16<00:00,  2.95it/s, epoch=122/200, avg_epoch_loss=1.74]\n",
      "100%|██████████| 50/50 [00:16<00:00,  2.95it/s, epoch=123/200, avg_epoch_loss=1.7] \n"
     ]
    },
    {
     "name": "stdout",
     "output_type": "stream",
     "text": [
      "Early stopping based on learning rate scheduler callback (min_lr was reached).\n"
     ]
    }
   ],
   "source": [
    "predictor = estimator.train(training_data=all_single_training_data)"
   ]
  },
  {
   "cell_type": "code",
   "execution_count": 38,
   "id": "09f6a21f-50f7-4803-a564-e6581c875c5d",
   "metadata": {},
   "outputs": [
    {
     "name": "stderr",
     "output_type": "stream",
     "text": [
      "WARNING:root:Serializing RepresentableBlockPredictor instances does not save the prediction network structure in a backwards-compatible manner. Be careful not to use this method in production.\n"
     ]
    }
   ],
   "source": [
    "prefix = \"../models/\"\n",
    "model_name = \"model-sce-2L-40N-200E\"\n",
    "try:\n",
    "    os.mkdir(prefix + model_name)\n",
    "finally:\n",
    "    predictor.serialize(Path(prefix + model_name))"
   ]
  },
  {
   "cell_type": "code",
   "execution_count": 93,
   "id": "1d335b05-3569-4cc9-ab27-123c6111e491",
   "metadata": {},
   "outputs": [
    {
     "data": {
      "text/plain": [
       "144"
      ]
     },
     "execution_count": 93,
     "metadata": {},
     "output_type": "execute_result"
    }
   ],
   "source": [
    "# predictor = Predictor.deserialize(Path(\"../models/model-sce-20L-100E\"))\n",
    "# predictor.prediction_length"
   ]
  },
  {
   "cell_type": "markdown",
   "id": "04ce28b5-78c6-4e20-b07a-e8e797190110",
   "metadata": {},
   "source": [
    "### Visualize Predictions"
   ]
  },
  {
   "cell_type": "code",
   "execution_count": 29,
   "id": "c942f12f-a477-496b-8016-83c69e1de8b6",
   "metadata": {},
   "outputs": [
    {
     "data": {
      "text/plain": [
       "array([71312, 88896, 89911, 89912])"
      ]
     },
     "execution_count": 29,
     "metadata": {},
     "output_type": "execute_result"
    }
   ],
   "source": [
    "train_outliers.Id.unique()"
   ]
  },
  {
   "cell_type": "code",
   "execution_count": 27,
   "id": "0535a4b1-8fde-4642-887e-08b6d4d20711",
   "metadata": {
    "tags": []
   },
   "outputs": [],
   "source": [
    "test_station_id =   71312\n",
    "wr_test = wr_gts[(wr_gts.Id==test_station_id)]\n",
    "\n",
    "single_test_datasets = []\n",
    "\n",
    "for (c, ts) in wr_test[wr_ts_columns].transpose().iterrows():\n",
    "    single_test_datasets.append({\n",
    "        \"item_id\": \"Testing:  {} - {}\".format(test_station_id, c),\n",
    "        \"start\": ts.index[0],\n",
    "        \"target\": ts.loc[:testing_time_cutoff],\n",
    "        \"feat_static_cat\": [test_station_id],\n",
    "        \"feat_static_real\": [wr_test[wr_cat_real_columns[0]].unique()[0], wr_test[wr_cat_real_columns[1]].unique()[0]]\n",
    "    })"
   ]
  },
  {
   "cell_type": "code",
   "execution_count": 28,
   "id": "4360103f-7fdc-4fd8-a1dc-3d77506d3a7c",
   "metadata": {},
   "outputs": [],
   "source": [
    "single_test_data = ListDataset(\n",
    "    single_test_datasets,\n",
    "    freq = \"10min\",\n",
    ")"
   ]
  },
  {
   "cell_type": "code",
   "execution_count": 29,
   "id": "150f4a5c-7d1f-492d-85a5-38d1403dfb14",
   "metadata": {},
   "outputs": [],
   "source": [
    "sforecast_it, sts_it = make_evaluation_predictions(\n",
    "    dataset=single_test_data,  # test dataset\n",
    "    predictor=predictor,  # predictor\n",
    "    num_samples=1000,  # number of sample paths we want for evaluation\n",
    ")"
   ]
  },
  {
   "cell_type": "code",
   "execution_count": 30,
   "id": "14b09842-9018-4879-aa00-35804737440c",
   "metadata": {
    "tags": []
   },
   "outputs": [],
   "source": [
    "sforecasts = list(sforecast_it)\n",
    "stss = list(sts_it)"
   ]
  },
  {
   "cell_type": "code",
   "execution_count": 31,
   "id": "f6658942-0873-414e-b945-adda26b84971",
   "metadata": {
    "tags": []
   },
   "outputs": [
    {
     "data": {
      "image/png": "[encoded data removed]",
      "text/plain": [
       "<Figure size 1440x360 with 1 Axes>"
      ]
     },
     "metadata": {
      "needs_background": "light"
     },
     "output_type": "display_data"
    }
   ],
   "source": [
    "plot_length = 5*6*24\n",
    "prediction_intervals = [90,95,99]\n",
    "legend = [\"observations\", \"median prediction\"] + [f\"{k}% prediction interval\" for k in prediction_intervals][::-1]\n",
    "\n",
    "fig, ax = plt.subplots(1, 1, figsize=(20, 5))\n",
    "\n",
    "i = 2\n",
    "stss[i][-plot_length:].plot(ax=ax, color=\"green\")  # plot the time series\n",
    "sforecasts[i].plot(prediction_intervals=prediction_intervals, color='orange')\n",
    "\n",
    "# plt.ylim(0,40)\n",
    "plt.title(\"{} - {}\".format(test_station_id, wr_ts_columns[i]))\n",
    "plt.grid(which=\"both\")\n",
    "plt.legend(legend, loc=\"upper left\")\n",
    "plt.show()"
   ]
  },
  {
   "cell_type": "markdown",
   "id": "4f8d3b89-4a5a-4741-a350-e6e5982b7e91",
   "metadata": {},
   "source": [
    "### Gluon-ts Metrics"
   ]
  },
  {
   "cell_type": "code",
   "execution_count": 33,
   "id": "c304620d-4005-49ab-b28f-f7b722df364c",
   "metadata": {
    "tags": []
   },
   "outputs": [],
   "source": [
    "all_single_test_datasets = []\n",
    "for (station_id, df) in wr_gts.groupby(\"Id\"):\n",
    "    tss = df[wr_ts_columns].transpose().iterrows()\n",
    "    for (c, ts) in tss:\n",
    "        all_single_test_datasets.append({\n",
    "            \"item_id\": \"Testing:  {} - {}\".format(station_id, c),\n",
    "            \"start\": ts.index[0],\n",
    "            \"target\": ts.loc[:testing_time_cutoff],\n",
    "            \"feat_static_cat\": [station_id],\n",
    "            \"feat_static_real\": [df[wr_cat_real_columns[0]].unique()[0], df[wr_cat_real_columns[1]].unique()[0]] #lat, long\n",
    "        })"
   ]
  },
  {
   "cell_type": "code",
   "execution_count": 34,
   "id": "0f52dd10-6e26-4e2f-b4cf-1e861ddaf7b9",
   "metadata": {
    "tags": []
   },
   "outputs": [],
   "source": [
    "all_single_test_data = ListDataset(\n",
    "    all_single_test_datasets,\n",
    "    freq = \"10min\",\n",
    ")"
   ]
  },
  {
   "cell_type": "code",
   "execution_count": 35,
   "id": "799b592a-d095-4b3d-912e-baddc5f57527",
   "metadata": {},
   "outputs": [],
   "source": [
    "forecast_all_it, ts_all_it = make_evaluation_predictions(\n",
    "    dataset=all_single_test_data,  # test dataset\n",
    "    predictor=predictor,  # predictor\n",
    "    num_samples=200,  # number of sample paths we want for evaluation\n",
    ")"
   ]
  },
  {
   "cell_type": "code",
   "execution_count": 36,
   "id": "142fc311-4503-42b1-85c6-0bbc7b51e0be",
   "metadata": {},
   "outputs": [],
   "source": [
    "# forecasts_all = list(forecast_all_it)\n",
    "# tss_all = list(ts_all_it)"
   ]
  },
  {
   "cell_type": "code",
   "execution_count": 37,
   "id": "58fefd25-5791-4c5b-bb17-ec6141127682",
   "metadata": {
    "tags": []
   },
   "outputs": [
    {
     "name": "stderr",
     "output_type": "stream",
     "text": [
      "Running evaluation: 100%|██████████| 567/567 [02:57<00:00,  3.19it/s]\n"
     ]
    }
   ],
   "source": [
    "evaluator = Evaluator(quantiles=[.75, .90, .99])\n",
    "agg_metrics, item_metrics = evaluator(ts_all_it, forecast_all_it, num_series=len(all_single_test_data))"
   ]
  },
  {
   "cell_type": "code",
   "execution_count": 39,
   "id": "d5999a82-b3d1-416e-8ef5-a426b8f0835f",
   "metadata": {},
   "outputs": [
    {
     "data": {
      "text/plain": [
       "{'MSE': 411.9163822081563,\n",
       " 'abs_error': 1099341.7718658447,\n",
       " 'abs_target_sum': 1688934.787826538,\n",
       " 'abs_target_mean': 20.686630962397583,\n",
       " 'seasonal_error': 5.407895007823468,\n",
       " 'MASE': 2.6403621887152986,\n",
       " 'MAPE': 1.240146042268655,\n",
       " 'sMAPE': 0.6248222928966843,\n",
       " 'MSIS': 24.71202878290389,\n",
       " 'QuantileLoss[0.75]': 903534.6791700795,\n",
       " 'Coverage[0.75]': 0.7329008440119551,\n",
       " 'QuantileLoss[0.9]': 571143.904275751,\n",
       " 'Coverage[0.9]': 0.799820035931147,\n",
       " 'QuantileLoss[0.99]': 173202.62530223728,\n",
       " 'Coverage[0.99]': 0.8990312670868226,\n",
       " 'RMSE': 20.295723249200957,\n",
       " 'NRMSE': 0.9811033650715196,\n",
       " 'ND': 0.6509083593929457,\n",
       " 'wQuantileLoss[0.75]': 0.5349731000169776,\n",
       " 'wQuantileLoss[0.9]': 0.33816812134632296,\n",
       " 'wQuantileLoss[0.99]': 0.1025513989945869,\n",
       " 'mean_absolute_QuantileLoss': 549293.736249356,\n",
       " 'mean_wQuantileLoss': 0.32523087345262913,\n",
       " 'MAE_Coverage': 0.06941595099002511,\n",
       " 'OWA': nan}"
      ]
     },
     "execution_count": 39,
     "metadata": {},
     "output_type": "execute_result"
    }
   ],
   "source": [
    "# 2L 40N 32B 200E\n",
    "agg_metrics"
   ]
  },
  {
   "cell_type": "code",
   "execution_count": 151,
   "id": "27731dd1-4877-4a1d-b548-1717ccb592b4",
   "metadata": {},
   "outputs": [
    {
     "data": {
      "text/plain": [
       "{'MSE': 248.3940893815993,\n",
       " 'abs_error': 823852.0054092407,\n",
       " 'abs_target_sum': 1688934.787826538,\n",
       " 'abs_target_mean': 20.686630962397583,\n",
       " 'seasonal_error': 5.407895007823468,\n",
       " 'MASE': 2.1027072635139126,\n",
       " 'MAPE': 0.7735697372454654,\n",
       " 'sMAPE': 0.5820087380832797,\n",
       " 'MSIS': 34.055803252996284,\n",
       " 'QuantileLoss[0.75]': 885856.4071757235,\n",
       " 'Coverage[0.75]': 0.585543914247618,\n",
       " 'QuantileLoss[0.9]': 753025.354070443,\n",
       " 'Coverage[0.9]': 0.6627313872684243,\n",
       " 'QuantileLoss[0.99]': 387717.3477032274,\n",
       " 'Coverage[0.99]': 0.7891236849570182,\n",
       " 'RMSE': 15.760523131596846,\n",
       " 'NRMSE': 0.7618699806771339,\n",
       " 'ND': 0.48779385169124384,\n",
       " 'wQuantileLoss[0.75]': 0.524505986590351,\n",
       " 'wQuantileLoss[0.9]': 0.4458581583481377,\n",
       " 'wQuantileLoss[0.99]': 0.22956324335184924,\n",
       " 'mean_absolute_QuantileLoss': 675533.0363164647,\n",
       " 'mean_wQuantileLoss': 0.3999757960967793,\n",
       " 'MAE_Coverage': 0.20086700450897985,\n",
       " 'OWA': nan}"
      ]
     },
     "execution_count": 151,
     "metadata": {},
     "output_type": "execute_result"
    }
   ],
   "source": [
    "# 10L 80N 32B\n",
    "agg_metrics"
   ]
  },
  {
   "cell_type": "code",
   "execution_count": 87,
   "id": "7e36df5e-79ad-439f-b827-74c6ff0fa5b3",
   "metadata": {},
   "outputs": [
    {
     "data": {
      "text/plain": [
       "{'MSE': 463.0141746057485,\n",
       " 'abs_error': 1126154.5826950073,\n",
       " 'abs_target_sum': 1688934.787826538,\n",
       " 'abs_target_mean': 20.686630962397583,\n",
       " 'seasonal_error': 5.407895007823468,\n",
       " 'MASE': 2.6573070884004095,\n",
       " 'MAPE': 1.222429224719742,\n",
       " 'sMAPE': 0.638214406394269,\n",
       " 'MSIS': 32.797786881295735,\n",
       " 'QuantileLoss[0.75]': 926667.8570875712,\n",
       " 'Coverage[0.75]': 0.7244293772071551,\n",
       " 'QuantileLoss[0.9]': 586951.3505338131,\n",
       " 'Coverage[0.9]': 0.803393708486301,\n",
       " 'QuantileLoss[0.99]': 146027.04440682358,\n",
       " 'Coverage[0.99]': 0.9228179228179229,\n",
       " 'RMSE': 21.517764163726408,\n",
       " 'NRMSE': 1.0401773107878025,\n",
       " 'ND': 0.6667839343544085,\n",
       " 'wQuantileLoss[0.75]': 0.5486700041746931,\n",
       " 'wQuantileLoss[0.9]': 0.3475275391118866,\n",
       " 'wQuantileLoss[0.99]': 0.08646103180498954,\n",
       " 'mean_absolute_QuantileLoss': 553215.417342736,\n",
       " 'mean_wQuantileLoss': 0.32755285836385645,\n",
       " 'MAE_Coverage': 0.06311966382954037,\n",
       " 'OWA': nan}"
      ]
     },
     "execution_count": 87,
     "metadata": {},
     "output_type": "execute_result"
    }
   ],
   "source": [
    "# 10L 60N 32B\n",
    "agg_metrics"
   ]
  },
  {
   "cell_type": "code",
   "execution_count": 114,
   "id": "610faf92-e86d-44c3-a92f-8c453cae9c35",
   "metadata": {},
   "outputs": [
    {
     "data": {
      "text/html": [
       "<div>\n",
       "<style scoped>\n",
       "    .dataframe tbody tr th:only-of-type {\n",
       "        vertical-align: middle;\n",
       "    }\n",
       "\n",
       "    .dataframe tbody tr th {\n",
       "        vertical-align: top;\n",
       "    }\n",
       "\n",
       "    .dataframe thead th {\n",
       "        text-align: right;\n",
       "    }\n",
       "</style>\n",
       "<table border=\"1\" class=\"dataframe\">\n",
       "  <thead>\n",
       "    <tr style=\"text-align: right;\">\n",
       "      <th></th>\n",
       "      <th>item_id</th>\n",
       "      <th>MSE</th>\n",
       "      <th>abs_error</th>\n",
       "      <th>abs_target_sum</th>\n",
       "      <th>abs_target_mean</th>\n",
       "      <th>seasonal_error</th>\n",
       "      <th>MASE</th>\n",
       "      <th>MAPE</th>\n",
       "      <th>sMAPE</th>\n",
       "      <th>MSIS</th>\n",
       "      <th>QuantileLoss[0.75]</th>\n",
       "      <th>Coverage[0.75]</th>\n",
       "      <th>QuantileLoss[0.9]</th>\n",
       "      <th>Coverage[0.9]</th>\n",
       "      <th>QuantileLoss[0.99]</th>\n",
       "      <th>Coverage[0.99]</th>\n",
       "    </tr>\n",
       "  </thead>\n",
       "  <tbody>\n",
       "    <tr>\n",
       "      <th>502</th>\n",
       "      <td>Testing:  108259 - WindSpd</td>\n",
       "      <td>24.900599</td>\n",
       "      <td>623.068359</td>\n",
       "      <td>717.599976</td>\n",
       "      <td>4.983333</td>\n",
       "      <td>1.050881</td>\n",
       "      <td>4.117369</td>\n",
       "      <td>1.068496</td>\n",
       "      <td>1.300966</td>\n",
       "      <td>91.169043</td>\n",
       "      <td>805.137662</td>\n",
       "      <td>0.243056</td>\n",
       "      <td>809.702516</td>\n",
       "      <td>0.284722</td>\n",
       "      <td>537.825469</td>\n",
       "      <td>0.333333</td>\n",
       "    </tr>\n",
       "    <tr>\n",
       "      <th>100</th>\n",
       "      <td>Testing:  71959 - WindSpd</td>\n",
       "      <td>326.608751</td>\n",
       "      <td>2129.376953</td>\n",
       "      <td>2914.630127</td>\n",
       "      <td>20.240487</td>\n",
       "      <td>6.981122</td>\n",
       "      <td>2.118190</td>\n",
       "      <td>1.194091</td>\n",
       "      <td>0.994267</td>\n",
       "      <td>47.535820</td>\n",
       "      <td>2681.259877</td>\n",
       "      <td>0.333333</td>\n",
       "      <td>2657.679817</td>\n",
       "      <td>0.340278</td>\n",
       "      <td>1861.581957</td>\n",
       "      <td>0.361111</td>\n",
       "    </tr>\n",
       "    <tr>\n",
       "      <th>397</th>\n",
       "      <td>Testing:  90707 - WindSpd</td>\n",
       "      <td>135.136502</td>\n",
       "      <td>1458.417725</td>\n",
       "      <td>1894.690063</td>\n",
       "      <td>13.157570</td>\n",
       "      <td>1.793237</td>\n",
       "      <td>5.647832</td>\n",
       "      <td>0.871755</td>\n",
       "      <td>1.026316</td>\n",
       "      <td>119.808175</td>\n",
       "      <td>1876.357429</td>\n",
       "      <td>0.354167</td>\n",
       "      <td>1837.593487</td>\n",
       "      <td>0.354167</td>\n",
       "      <td>1173.127164</td>\n",
       "      <td>0.361111</td>\n",
       "    </tr>\n",
       "    <tr>\n",
       "      <th>143</th>\n",
       "      <td>Testing:  72472 - GustSpd</td>\n",
       "      <td>361.430827</td>\n",
       "      <td>2333.645508</td>\n",
       "      <td>3125.439941</td>\n",
       "      <td>21.704444</td>\n",
       "      <td>2.451538</td>\n",
       "      <td>6.610493</td>\n",
       "      <td>0.750575</td>\n",
       "      <td>0.968401</td>\n",
       "      <td>157.109025</td>\n",
       "      <td>3038.748132</td>\n",
       "      <td>0.319444</td>\n",
       "      <td>3087.383240</td>\n",
       "      <td>0.326389</td>\n",
       "      <td>2274.591150</td>\n",
       "      <td>0.368056</td>\n",
       "    </tr>\n",
       "    <tr>\n",
       "      <th>101</th>\n",
       "      <td>Testing:  71959 - GustSpd</td>\n",
       "      <td>576.822917</td>\n",
       "      <td>3176.527100</td>\n",
       "      <td>5077.669922</td>\n",
       "      <td>35.261597</td>\n",
       "      <td>11.361908</td>\n",
       "      <td>1.941506</td>\n",
       "      <td>1.335278</td>\n",
       "      <td>0.829460</td>\n",
       "      <td>50.980043</td>\n",
       "      <td>3912.458017</td>\n",
       "      <td>0.340278</td>\n",
       "      <td>3994.608741</td>\n",
       "      <td>0.340278</td>\n",
       "      <td>2861.963045</td>\n",
       "      <td>0.388889</td>\n",
       "    </tr>\n",
       "    <tr>\n",
       "      <th>97</th>\n",
       "      <td>Testing:  71958 - WindSpd</td>\n",
       "      <td>343.675103</td>\n",
       "      <td>2205.093262</td>\n",
       "      <td>2797.339844</td>\n",
       "      <td>19.425971</td>\n",
       "      <td>3.051804</td>\n",
       "      <td>5.017737</td>\n",
       "      <td>0.810720</td>\n",
       "      <td>1.040572</td>\n",
       "      <td>128.423729</td>\n",
       "      <td>2937.763649</td>\n",
       "      <td>0.277778</td>\n",
       "      <td>3077.104701</td>\n",
       "      <td>0.361111</td>\n",
       "      <td>2285.406456</td>\n",
       "      <td>0.388889</td>\n",
       "    </tr>\n",
       "    <tr>\n",
       "      <th>154</th>\n",
       "      <td>Testing:  72500 - WindSpd</td>\n",
       "      <td>295.830892</td>\n",
       "      <td>2049.052490</td>\n",
       "      <td>2747.069824</td>\n",
       "      <td>19.076874</td>\n",
       "      <td>1.846169</td>\n",
       "      <td>7.707600</td>\n",
       "      <td>0.714536</td>\n",
       "      <td>0.937117</td>\n",
       "      <td>165.113282</td>\n",
       "      <td>2665.602719</td>\n",
       "      <td>0.347222</td>\n",
       "      <td>2645.216632</td>\n",
       "      <td>0.361111</td>\n",
       "      <td>1572.499121</td>\n",
       "      <td>0.388889</td>\n",
       "    </tr>\n",
       "    <tr>\n",
       "      <th>177</th>\n",
       "      <td>Testing:  72887 - RelHum</td>\n",
       "      <td>1506.360243</td>\n",
       "      <td>5107.031250</td>\n",
       "      <td>8850.660156</td>\n",
       "      <td>61.462918</td>\n",
       "      <td>3.982509</td>\n",
       "      <td>8.905315</td>\n",
       "      <td>0.698022</td>\n",
       "      <td>0.680844</td>\n",
       "      <td>183.161632</td>\n",
       "      <td>6194.258155</td>\n",
       "      <td>0.340278</td>\n",
       "      <td>5932.754771</td>\n",
       "      <td>0.340278</td>\n",
       "      <td>3730.057825</td>\n",
       "      <td>0.395833</td>\n",
       "    </tr>\n",
       "    <tr>\n",
       "      <th>503</th>\n",
       "      <td>Testing:  108259 - GustSpd</td>\n",
       "      <td>59.889899</td>\n",
       "      <td>957.840881</td>\n",
       "      <td>1284.459961</td>\n",
       "      <td>8.919861</td>\n",
       "      <td>2.032347</td>\n",
       "      <td>3.272902</td>\n",
       "      <td>0.754625</td>\n",
       "      <td>1.015737</td>\n",
       "      <td>64.582522</td>\n",
       "      <td>1182.577939</td>\n",
       "      <td>0.250000</td>\n",
       "      <td>1142.147148</td>\n",
       "      <td>0.291667</td>\n",
       "      <td>649.331039</td>\n",
       "      <td>0.395833</td>\n",
       "    </tr>\n",
       "    <tr>\n",
       "      <th>98</th>\n",
       "      <td>Testing:  71958 - GustSpd</td>\n",
       "      <td>891.342014</td>\n",
       "      <td>3574.238281</td>\n",
       "      <td>4766.280273</td>\n",
       "      <td>33.099169</td>\n",
       "      <td>5.674659</td>\n",
       "      <td>4.374025</td>\n",
       "      <td>0.791916</td>\n",
       "      <td>0.959399</td>\n",
       "      <td>103.756912</td>\n",
       "      <td>4661.564649</td>\n",
       "      <td>0.340278</td>\n",
       "      <td>4724.479644</td>\n",
       "      <td>0.340278</td>\n",
       "      <td>3508.558738</td>\n",
       "      <td>0.402778</td>\n",
       "    </tr>\n",
       "  </tbody>\n",
       "</table>\n",
       "</div>"
      ],
      "text/plain": [
       "                        item_id          MSE    abs_error  abs_target_sum  \\\n",
       "502  Testing:  108259 - WindSpd    24.900599   623.068359      717.599976   \n",
       "100   Testing:  71959 - WindSpd   326.608751  2129.376953     2914.630127   \n",
       "397   Testing:  90707 - WindSpd   135.136502  1458.417725     1894.690063   \n",
       "143   Testing:  72472 - GustSpd   361.430827  2333.645508     3125.439941   \n",
       "101   Testing:  71959 - GustSpd   576.822917  3176.527100     5077.669922   \n",
       "97    Testing:  71958 - WindSpd   343.675103  2205.093262     2797.339844   \n",
       "154   Testing:  72500 - WindSpd   295.830892  2049.052490     2747.069824   \n",
       "177    Testing:  72887 - RelHum  1506.360243  5107.031250     8850.660156   \n",
       "503  Testing:  108259 - GustSpd    59.889899   957.840881     1284.459961   \n",
       "98    Testing:  71958 - GustSpd   891.342014  3574.238281     4766.280273   \n",
       "\n",
       "     abs_target_mean  seasonal_error      MASE      MAPE     sMAPE  \\\n",
       "502         4.983333        1.050881  4.117369  1.068496  1.300966   \n",
       "100        20.240487        6.981122  2.118190  1.194091  0.994267   \n",
       "397        13.157570        1.793237  5.647832  0.871755  1.026316   \n",
       "143        21.704444        2.451538  6.610493  0.750575  0.968401   \n",
       "101        35.261597       11.361908  1.941506  1.335278  0.829460   \n",
       "97         19.425971        3.051804  5.017737  0.810720  1.040572   \n",
       "154        19.076874        1.846169  7.707600  0.714536  0.937117   \n",
       "177        61.462918        3.982509  8.905315  0.698022  0.680844   \n",
       "503         8.919861        2.032347  3.272902  0.754625  1.015737   \n",
       "98         33.099169        5.674659  4.374025  0.791916  0.959399   \n",
       "\n",
       "           MSIS  QuantileLoss[0.75]  Coverage[0.75]  QuantileLoss[0.9]  \\\n",
       "502   91.169043          805.137662        0.243056         809.702516   \n",
       "100   47.535820         2681.259877        0.333333        2657.679817   \n",
       "397  119.808175         1876.357429        0.354167        1837.593487   \n",
       "143  157.109025         3038.748132        0.319444        3087.383240   \n",
       "101   50.980043         3912.458017        0.340278        3994.608741   \n",
       "97   128.423729         2937.763649        0.277778        3077.104701   \n",
       "154  165.113282         2665.602719        0.347222        2645.216632   \n",
       "177  183.161632         6194.258155        0.340278        5932.754771   \n",
       "503   64.582522         1182.577939        0.250000        1142.147148   \n",
       "98   103.756912         4661.564649        0.340278        4724.479644   \n",
       "\n",
       "     Coverage[0.9]  QuantileLoss[0.99]  Coverage[0.99]  \n",
       "502       0.284722          537.825469        0.333333  \n",
       "100       0.340278         1861.581957        0.361111  \n",
       "397       0.354167         1173.127164        0.361111  \n",
       "143       0.326389         2274.591150        0.368056  \n",
       "101       0.340278         2861.963045        0.388889  \n",
       "97        0.361111         2285.406456        0.388889  \n",
       "154       0.361111         1572.499121        0.388889  \n",
       "177       0.340278         3730.057825        0.395833  \n",
       "503       0.291667          649.331039        0.395833  \n",
       "98        0.340278         3508.558738        0.402778  "
      ]
     },
     "execution_count": 114,
     "metadata": {},
     "output_type": "execute_result"
    }
   ],
   "source": [
    "item_metrics.sort_values(\"Coverage[0.99]\")[:10]"
   ]
  },
  {
   "cell_type": "code",
   "execution_count": 107,
   "id": "71974981-3b6e-4724-b29a-bc77d16e224f",
   "metadata": {},
   "outputs": [
    {
     "data": {
      "text/plain": [
       "count    567.000000\n",
       "mean       0.724429\n",
       "std        0.230310\n",
       "min        0.145833\n",
       "25%        0.527778\n",
       "50%        0.722222\n",
       "75%        0.979167\n",
       "max        1.000000\n",
       "Name: Coverage[0.75], dtype: float64"
      ]
     },
     "execution_count": 107,
     "metadata": {},
     "output_type": "execute_result"
    }
   ],
   "source": [
    "item_metrics[\"Coverage[0.75]\"].describe()"
   ]
  },
  {
   "cell_type": "markdown",
   "id": "0cca5c2b-586a-4a70-9102-7c21c8056b52",
   "metadata": {},
   "source": [
    "### Previous metrics"
   ]
  },
  {
   "cell_type": "code",
   "execution_count": 39,
   "id": "67010366-27fb-4761-82ad-249914b4e21e",
   "metadata": {},
   "outputs": [
    {
     "data": {
      "text/plain": [
       "{'MSE': 918.0114781709107,\n",
       " 'abs_error': 2380079.756668091,\n",
       " 'abs_target_sum': 2324367.9580230713,\n",
       " 'abs_target_mean': 20.61645604456557,\n",
       " 'seasonal_error': 5.254247747738797,\n",
       " 'MASE': 4.078774042297332,\n",
       " 'MAPE': 1.027657927875723,\n",
       " 'sMAPE': 1.5672342857284722,\n",
       " 'MSIS': 107.61458176427244,\n",
       " 'QuantileLoss[0.75]': 3257371.0322629437,\n",
       " 'Coverage[0.75]': 0.13625057358193723,\n",
       " 'QuantileLoss[0.9]': 3514957.5428328575,\n",
       " 'Coverage[0.9]': 0.21233648311248007,\n",
       " 'QuantileLoss[0.99]': 2859821.917503882,\n",
       " 'Coverage[0.99]': 0.364407958965727,\n",
       " 'RMSE': 30.29870423253956,\n",
       " 'NRMSE': 1.4696368845860004,\n",
       " 'ND': 1.0239685796961355,\n",
       " 'wQuantileLoss[0.75]': 1.4014007640311017,\n",
       " 'wQuantileLoss[0.9]': 1.5122207870316755,\n",
       " 'wQuantileLoss[0.99]': 1.2303654021871075,\n",
       " 'mean_absolute_QuantileLoss': 3210716.830866561,\n",
       " 'mean_wQuantileLoss': 1.381328984416628,\n",
       " 'MAE_Coverage': 0.6423349947799518,\n",
       " 'OWA': nan}"
      ]
     },
     "execution_count": 39,
     "metadata": {},
     "output_type": "execute_result"
    }
   ],
   "source": [
    "# 10L 60N 32B\n",
    "agg_metrics"
   ]
  },
  {
   "cell_type": "code",
   "execution_count": 86,
   "id": "2480cda5-c7f7-4461-83ad-1c194904dd3f",
   "metadata": {},
   "outputs": [
    {
     "data": {
      "text/plain": [
       "{'MSE': 259.66768298270904,\n",
       " 'abs_error': 1132895.6544075012,\n",
       " 'abs_target_sum': 2324367.9580230713,\n",
       " 'abs_target_mean': 20.61645604456557,\n",
       " 'seasonal_error': 5.254247747738797,\n",
       " 'MASE': 2.104785028601892,\n",
       " 'MAPE': 0.8872827791548485,\n",
       " 'sMAPE': 0.5787122914873322,\n",
       " 'MSIS': 29.259037739890278,\n",
       " 'QuantileLoss[0.75]': 1236687.2935289666,\n",
       " 'Coverage[0.75]': 0.6007000425070146,\n",
       " 'QuantileLoss[0.9]': 1061281.3392716765,\n",
       " 'Coverage[0.9]': 0.6826239525399042,\n",
       " 'QuantileLoss[0.99]': 559115.7255759025,\n",
       " 'Coverage[0.99]': 0.8218791618365308,\n",
       " 'RMSE': 16.114207488508676,\n",
       " 'NRMSE': 0.7816186959424739,\n",
       " 'ND': 0.48739944572762706,\n",
       " 'wQuantileLoss[0.75]': 0.5320531498725347,\n",
       " 'wQuantileLoss[0.9]': 0.45658921411664993,\n",
       " 'wQuantileLoss[0.99]': 0.2405452732412657,\n",
       " 'mean_absolute_QuantileLoss': 952361.452792182,\n",
       " 'mean_wQuantileLoss': 0.4097292124101501,\n",
       " 'MAE_Coverage': 0.1782656143721835,\n",
       " 'OWA': nan}"
      ]
     },
     "execution_count": 86,
     "metadata": {},
     "output_type": "execute_result"
    }
   ],
   "source": [
    "# 5L 60N 50E 64B\n",
    "agg_metrics"
   ]
  },
  {
   "cell_type": "code",
   "execution_count": 66,
   "id": "26af7c56-2a82-4fbc-a9af-77b068795afc",
   "metadata": {},
   "outputs": [
    {
     "data": {
      "text/plain": [
       "{'MSE': 557.0327400896161,\n",
       " 'abs_error': 1573452.5485610962,\n",
       " 'abs_target_sum': 2324367.9580230713,\n",
       " 'abs_target_mean': 20.61645604456557,\n",
       " 'seasonal_error': 5.254247747738797,\n",
       " 'MASE': 2.6960359326374985,\n",
       " 'MAPE': 1.254153175837623,\n",
       " 'sMAPE': 0.6262561568328181,\n",
       " 'MSIS': 24.5385053661464,\n",
       " 'QuantileLoss[0.75]': 1347863.6521756947,\n",
       " 'Coverage[0.75]': 0.7357948784477304,\n",
       " 'QuantileLoss[0.9]': 839511.6593012331,\n",
       " 'Coverage[0.9]': 0.8188911844745314,\n",
       " 'QuantileLoss[0.99]': 185639.88018341787,\n",
       " 'Coverage[0.99]': 0.936245103667261,\n",
       " 'RMSE': 23.601541053279046,\n",
       " 'NRMSE': 1.14479137453405,\n",
       " 'ND': 0.6769378071703217,\n",
       " 'wQuantileLoss[0.75]': 0.5798839411476331,\n",
       " 'wQuantileLoss[0.9]': 0.361178468496553,\n",
       " 'wQuantileLoss[0.99]': 0.07986682123311874,\n",
       " 'mean_absolute_QuantileLoss': 791005.0638867818,\n",
       " 'mean_wQuantileLoss': 0.34030974362576827,\n",
       " 'MAE_Coverage': 0.04968961113682576,\n",
       " 'OWA': nan}"
      ]
     },
     "execution_count": 66,
     "metadata": {},
     "output_type": "execute_result"
    }
   ],
   "source": [
    "# 10L 60N\n",
    "agg_metrics"
   ]
  },
  {
   "cell_type": "code",
   "execution_count": 55,
   "id": "a9e99162-12d0-4adc-a0d7-4e4e59366eb5",
   "metadata": {},
   "outputs": [
    {
     "data": {
      "text/plain": [
       "{'MSE': 250.36258044966314,\n",
       " 'abs_error': 1197290.867980957,\n",
       " 'abs_target_sum': 2324367.9580230713,\n",
       " 'abs_target_mean': 20.61645604456557,\n",
       " 'seasonal_error': 5.254247747738797,\n",
       " 'MASE': 2.2130912691969202,\n",
       " 'MAPE': 0.9285756473923791,\n",
       " 'sMAPE': 0.5926792516535176,\n",
       " 'MSIS': 37.2831747644631,\n",
       " 'QuantileLoss[0.75]': 1174570.2879185304,\n",
       " 'Coverage[0.75]': 0.6267742211329983,\n",
       " 'QuantileLoss[0.9]': 977719.0833617807,\n",
       " 'Coverage[0.9]': 0.687179901934907,\n",
       " 'QuantileLoss[0.99]': 550140.2966751873,\n",
       " 'Coverage[0.99]': 0.8002702629476683,\n",
       " 'RMSE': 15.822849947138574,\n",
       " 'NRMSE': 0.7674864153632954,\n",
       " 'ND': 0.5151038431106582,\n",
       " 'wQuantileLoss[0.75]': 0.5053288933295783,\n",
       " 'wQuantileLoss[0.9]': 0.42063868587887154,\n",
       " 'wQuantileLoss[0.99]': 0.23668382399449972,\n",
       " 'mean_absolute_QuantileLoss': 900809.8893184994,\n",
       " 'mean_wQuantileLoss': 0.3875504677343165,\n",
       " 'MAE_Coverage': 0.1752585379948088,\n",
       " 'OWA': nan}"
      ]
     },
     "execution_count": 55,
     "metadata": {},
     "output_type": "execute_result"
    }
   ],
   "source": [
    "# 5L 60N\n",
    "agg_metrics"
   ]
  },
  {
   "cell_type": "code",
   "execution_count": 36,
   "id": "83cbe393-c454-4563-8246-ff081f13a989",
   "metadata": {},
   "outputs": [
    {
     "data": {
      "text/plain": [
       "{'MSE': 239.5998161269741,\n",
       " 'abs_error': 1150112.1615600586,\n",
       " 'abs_target_sum': 2324367.9580230713,\n",
       " 'abs_target_mean': 20.61645604456557,\n",
       " 'seasonal_error': 5.254247747738797,\n",
       " 'MASE': 2.1493368002976267,\n",
       " 'MAPE': 0.9762127081861738,\n",
       " 'sMAPE': 0.5851119116417557,\n",
       " 'MSIS': 29.56051136751671,\n",
       " 'QuantileLoss[0.75]': 1183156.597097002,\n",
       " 'Coverage[0.75]': 0.6357589800907755,\n",
       " 'QuantileLoss[0.9]': 969632.5584891022,\n",
       " 'Coverage[0.9]': 0.712130698734228,\n",
       " 'QuantileLoss[0.99]': 477695.74095998285,\n",
       " 'Coverage[0.99]': 0.8323026897004286,\n",
       " 'RMSE': 15.479012117282359,\n",
       " 'NRMSE': 0.7508085814468862,\n",
       " 'ND': 0.49480640859386804,\n",
       " 'wQuantileLoss[0.75]': 0.5090229337455262,\n",
       " 'wQuantileLoss[0.9]': 0.41715966490684075,\n",
       " 'wQuantileLoss[0.99]': 0.20551640256058,\n",
       " 'mean_absolute_QuantileLoss': 876828.2988486956,\n",
       " 'mean_wQuantileLoss': 0.3772330004043156,\n",
       " 'MAE_Coverage': 0.15326921049152264,\n",
       " 'OWA': nan}"
      ]
     },
     "execution_count": 36,
     "metadata": {},
     "output_type": "execute_result"
    }
   ],
   "source": [
    "# 5L 40N\n",
    "agg_metrics"
   ]
  },
  {
   "cell_type": "code",
   "execution_count": null,
   "id": "5eb52e97-c39f-472a-812b-8b454f8f4a7e",
   "metadata": {},
   "outputs": [],
   "source": []
  }
 ],
 "metadata": {
  "kernelspec": {
   "display_name": "Python 3",
   "language": "python",
   "name": "python3"
  },
  "language_info": {
   "codemirror_mode": {
    "name": "ipython",
    "version": 3
   },
   "file_extension": ".py",
   "mimetype": "text/x-python",
   "name": "python",
   "nbconvert_exporter": "python",
   "pygments_lexer": "ipython3",
   "version": "3.8.8"
  }
 },
 "nbformat": 4,
 "nbformat_minor": 5
}
