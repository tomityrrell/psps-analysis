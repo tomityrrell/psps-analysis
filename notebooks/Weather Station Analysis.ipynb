{
 "cells": [
  {
   "cell_type": "code",
   "execution_count": 107,
   "metadata": {},
   "outputs": [],
   "source": [
    "import pandas as pd"
   ]
  },
  {
   "cell_type": "code",
   "execution_count": 111,
   "metadata": {},
   "outputs": [],
   "source": [
    "source = pd.read_csv(\"../data/source.csv\")"
   ]
  },
  {
   "cell_type": "code",
   "execution_count": 112,
   "metadata": {},
   "outputs": [
    {
     "data": {
      "text/html": [
       "<div>\n",
       "<style scoped>\n",
       "    .dataframe tbody tr th:only-of-type {\n",
       "        vertical-align: middle;\n",
       "    }\n",
       "\n",
       "    .dataframe tbody tr th {\n",
       "        vertical-align: top;\n",
       "    }\n",
       "\n",
       "    .dataframe thead th {\n",
       "        text-align: right;\n",
       "    }\n",
       "</style>\n",
       "<table border=\"1\" class=\"dataframe\">\n",
       "  <thead>\n",
       "    <tr style=\"text-align: right;\">\n",
       "      <th></th>\n",
       "      <th>StationNbr</th>\n",
       "      <th>Name</th>\n",
       "      <th>City</th>\n",
       "      <th>RegionalOffice</th>\n",
       "      <th>County</th>\n",
       "      <th>ConnectDate</th>\n",
       "      <th>DisconnectDate</th>\n",
       "      <th>IsActive</th>\n",
       "      <th>IsEtoStation</th>\n",
       "      <th>Elevation</th>\n",
       "      <th>GroundCover</th>\n",
       "      <th>HmsLatitude</th>\n",
       "      <th>HmsLongitude</th>\n",
       "      <th>ZipCodes</th>\n",
       "      <th>SitingDesc</th>\n",
       "    </tr>\n",
       "  </thead>\n",
       "  <tbody>\n",
       "    <tr>\n",
       "      <th>0</th>\n",
       "      <td>1</td>\n",
       "      <td>Fresno/F.S.U. USDA</td>\n",
       "      <td>Fresno</td>\n",
       "      <td>South Central Region Office</td>\n",
       "      <td>Fresno</td>\n",
       "      <td>6/7/1982</td>\n",
       "      <td>9/25/1988</td>\n",
       "      <td>False</td>\n",
       "      <td>True</td>\n",
       "      <td>340</td>\n",
       "      <td>Grass</td>\n",
       "      <td>36º48'52N / 36.814444</td>\n",
       "      <td>-119º43'54W / -119.731670</td>\n",
       "      <td>['93766', '93762', '93761', '93760', '93759', ...</td>\n",
       "      <td>NaN</td>\n",
       "    </tr>\n",
       "    <tr>\n",
       "      <th>1</th>\n",
       "      <td>2</td>\n",
       "      <td>FivePoints</td>\n",
       "      <td>Five Points</td>\n",
       "      <td>South Central Region Office</td>\n",
       "      <td>Fresno</td>\n",
       "      <td>6/7/1982</td>\n",
       "      <td>12/31/2050</td>\n",
       "      <td>True</td>\n",
       "      <td>True</td>\n",
       "      <td>285</td>\n",
       "      <td>Grass</td>\n",
       "      <td>36º20'10N / 36.336222</td>\n",
       "      <td>-120º6'46W / -120.112910</td>\n",
       "      <td>['93624']</td>\n",
       "      <td>NaN</td>\n",
       "    </tr>\n",
       "    <tr>\n",
       "      <th>2</th>\n",
       "      <td>3</td>\n",
       "      <td>Beach /Santa Cruz CO</td>\n",
       "      <td>Watsonville</td>\n",
       "      <td>South Central Region Office</td>\n",
       "      <td>Santa Cruz</td>\n",
       "      <td>5/30/1982</td>\n",
       "      <td>8/25/1986</td>\n",
       "      <td>False</td>\n",
       "      <td>True</td>\n",
       "      <td>10</td>\n",
       "      <td>Grass</td>\n",
       "      <td>36º52'50N / 36.880556</td>\n",
       "      <td>-121º47'36W / -121.793330</td>\n",
       "      <td>['95077', '95076', '95075', '95019', '95018']</td>\n",
       "      <td>NaN</td>\n",
       "    </tr>\n",
       "    <tr>\n",
       "      <th>3</th>\n",
       "      <td>4</td>\n",
       "      <td>Webb /Santa Cruz CO</td>\n",
       "      <td>Watsonville</td>\n",
       "      <td>South Central Region Office</td>\n",
       "      <td>Santa Cruz</td>\n",
       "      <td>5/30/1982</td>\n",
       "      <td>4/29/1988</td>\n",
       "      <td>False</td>\n",
       "      <td>True</td>\n",
       "      <td>230</td>\n",
       "      <td>Grass</td>\n",
       "      <td>36º58'21N / 36.9725</td>\n",
       "      <td>-121º43'34W / -121.726110</td>\n",
       "      <td>['95077', '95076', '95075', '95019', '95018']</td>\n",
       "      <td>NaN</td>\n",
       "    </tr>\n",
       "    <tr>\n",
       "      <th>4</th>\n",
       "      <td>5</td>\n",
       "      <td>Shafter</td>\n",
       "      <td>Shafter</td>\n",
       "      <td>South Central Region Office</td>\n",
       "      <td>Kern</td>\n",
       "      <td>6/1/1982</td>\n",
       "      <td>12/31/2050</td>\n",
       "      <td>True</td>\n",
       "      <td>True</td>\n",
       "      <td>360</td>\n",
       "      <td>Grass</td>\n",
       "      <td>35º31'57N / 35.532556</td>\n",
       "      <td>-119º16'54W / -119.281790</td>\n",
       "      <td>['93263', '93280', '93388']</td>\n",
       "      <td>NaN</td>\n",
       "    </tr>\n",
       "  </tbody>\n",
       "</table>\n",
       "</div>"
      ],
      "text/plain": [
       "   StationNbr                  Name         City               RegionalOffice  \\\n",
       "0           1    Fresno/F.S.U. USDA       Fresno  South Central Region Office   \n",
       "1           2            FivePoints  Five Points  South Central Region Office   \n",
       "2           3  Beach /Santa Cruz CO  Watsonville  South Central Region Office   \n",
       "3           4   Webb /Santa Cruz CO  Watsonville  South Central Region Office   \n",
       "4           5               Shafter      Shafter  South Central Region Office   \n",
       "\n",
       "       County ConnectDate DisconnectDate  IsActive  IsEtoStation  Elevation  \\\n",
       "0      Fresno    6/7/1982      9/25/1988     False          True        340   \n",
       "1      Fresno    6/7/1982     12/31/2050      True          True        285   \n",
       "2  Santa Cruz   5/30/1982      8/25/1986     False          True         10   \n",
       "3  Santa Cruz   5/30/1982      4/29/1988     False          True        230   \n",
       "4        Kern    6/1/1982     12/31/2050      True          True        360   \n",
       "\n",
       "  GroundCover            HmsLatitude               HmsLongitude  \\\n",
       "0       Grass  36º48'52N / 36.814444  -119º43'54W / -119.731670   \n",
       "1       Grass  36º20'10N / 36.336222   -120º6'46W / -120.112910   \n",
       "2       Grass  36º52'50N / 36.880556  -121º47'36W / -121.793330   \n",
       "3       Grass    36º58'21N / 36.9725  -121º43'34W / -121.726110   \n",
       "4       Grass  35º31'57N / 35.532556  -119º16'54W / -119.281790   \n",
       "\n",
       "                                            ZipCodes  SitingDesc  \n",
       "0  ['93766', '93762', '93761', '93760', '93759', ...         NaN  \n",
       "1                                          ['93624']         NaN  \n",
       "2      ['95077', '95076', '95075', '95019', '95018']         NaN  \n",
       "3      ['95077', '95076', '95075', '95019', '95018']         NaN  \n",
       "4                        ['93263', '93280', '93388']         NaN  "
      ]
     },
     "execution_count": 112,
     "metadata": {},
     "output_type": "execute_result"
    }
   ],
   "source": [
    "ws = pd.read_csv(\"../data/weather/weather_stations.csv\")\n",
    "ws.head()"
   ]
  },
  {
   "cell_type": "code",
   "execution_count": 113,
   "metadata": {},
   "outputs": [
    {
     "data": {
      "text/plain": [
       "{'davis': 'sce mount davis',\n",
       " 'soledad': 'sce soledad canyon rd',\n",
       " 'santa paula': 'sce santa paula',\n",
       " 'escondido': 'sce escondido canyon',\n",
       " 'ramona': 'sce ramona expy',\n",
       " 'moorpark': 'sce moorpark',\n",
       " 'moreno valley': 'sce moreno valley fwy',\n",
       " 'williams': 'sce williams canyon rd',\n",
       " 'highland': 'highland springs raw',\n",
       " 'chino': 'sce chino hills 3'}"
      ]
     },
     "execution_count": 113,
     "metadata": {},
     "output_type": "execute_result"
    }
   ],
   "source": [
    "sce_ws = source[\"Weather Station\"].str.lower().unique()\n",
    "api_ws = ws.Name.str.lower()\n",
    "matches = {}\n",
    "for n in api_ws:\n",
    "    for w in sce_ws:\n",
    "        if n in w and n not in matches:\n",
    "            matches[n]=w\n",
    "matches"
   ]
  },
  {
   "cell_type": "code",
   "execution_count": 114,
   "metadata": {},
   "outputs": [],
   "source": [
    "ws_matches = ws[ws.Name.str.lower().isin(matches.keys())]\n",
    "source_matches = ws_matches.Name.apply(lambda s: matches[s.lower()]).values"
   ]
  },
  {
   "cell_type": "code",
   "execution_count": 115,
   "metadata": {},
   "outputs": [
    {
     "ename": "KeyError",
     "evalue": "('start', 'end')",
     "output_type": "error",
     "traceback": [
      "\u001b[0;31m---------------------------------------------------------------------------\u001b[0m",
      "\u001b[0;31mKeyError\u001b[0m                                  Traceback (most recent call last)",
      "\u001b[0;32m~/opt/anaconda3/lib/python3.8/site-packages/pandas/core/indexes/base.py\u001b[0m in \u001b[0;36mget_loc\u001b[0;34m(self, key, method, tolerance)\u001b[0m\n\u001b[1;32m   2894\u001b[0m             \u001b[0;32mtry\u001b[0m\u001b[0;34m:\u001b[0m\u001b[0;34m\u001b[0m\u001b[0;34m\u001b[0m\u001b[0m\n\u001b[0;32m-> 2895\u001b[0;31m                 \u001b[0;32mreturn\u001b[0m \u001b[0mself\u001b[0m\u001b[0;34m.\u001b[0m\u001b[0m_engine\u001b[0m\u001b[0;34m.\u001b[0m\u001b[0mget_loc\u001b[0m\u001b[0;34m(\u001b[0m\u001b[0mcasted_key\u001b[0m\u001b[0;34m)\u001b[0m\u001b[0;34m\u001b[0m\u001b[0;34m\u001b[0m\u001b[0m\n\u001b[0m\u001b[1;32m   2896\u001b[0m             \u001b[0;32mexcept\u001b[0m \u001b[0mKeyError\u001b[0m \u001b[0;32mas\u001b[0m \u001b[0merr\u001b[0m\u001b[0;34m:\u001b[0m\u001b[0;34m\u001b[0m\u001b[0;34m\u001b[0m\u001b[0m\n",
      "\u001b[0;32mpandas/_libs/index.pyx\u001b[0m in \u001b[0;36mpandas._libs.index.IndexEngine.get_loc\u001b[0;34m()\u001b[0m\n",
      "\u001b[0;32mpandas/_libs/index.pyx\u001b[0m in \u001b[0;36mpandas._libs.index.IndexEngine.get_loc\u001b[0;34m()\u001b[0m\n",
      "\u001b[0;32mpandas/_libs/hashtable_class_helper.pxi\u001b[0m in \u001b[0;36mpandas._libs.hashtable.PyObjectHashTable.get_item\u001b[0;34m()\u001b[0m\n",
      "\u001b[0;32mpandas/_libs/hashtable_class_helper.pxi\u001b[0m in \u001b[0;36mpandas._libs.hashtable.PyObjectHashTable.get_item\u001b[0;34m()\u001b[0m\n",
      "\u001b[0;31mKeyError\u001b[0m: ('start', 'end')",
      "\nThe above exception was the direct cause of the following exception:\n",
      "\u001b[0;31mKeyError\u001b[0m                                  Traceback (most recent call last)",
      "\u001b[0;32m<ipython-input-115-16201214d4bc>\u001b[0m in \u001b[0;36m<module>\u001b[0;34m\u001b[0m\n\u001b[0;32m----> 1\u001b[0;31m \u001b[0msource\u001b[0m\u001b[0;34m[\u001b[0m\u001b[0msource\u001b[0m\u001b[0;34m[\u001b[0m\u001b[0;34m\"Weather Station\"\u001b[0m\u001b[0;34m]\u001b[0m\u001b[0;34m.\u001b[0m\u001b[0mstr\u001b[0m\u001b[0;34m.\u001b[0m\u001b[0mlower\u001b[0m\u001b[0;34m(\u001b[0m\u001b[0;34m)\u001b[0m\u001b[0;34m.\u001b[0m\u001b[0misin\u001b[0m\u001b[0;34m(\u001b[0m\u001b[0msource_matches\u001b[0m\u001b[0;34m)\u001b[0m\u001b[0;34m]\u001b[0m\u001b[0;34m[\u001b[0m\u001b[0;34m\"start\"\u001b[0m\u001b[0;34m,\u001b[0m \u001b[0;34m\"end\"\u001b[0m\u001b[0;34m]\u001b[0m\u001b[0;34m\u001b[0m\u001b[0;34m\u001b[0m\u001b[0m\n\u001b[0m",
      "\u001b[0;32m~/opt/anaconda3/lib/python3.8/site-packages/pandas/core/frame.py\u001b[0m in \u001b[0;36m__getitem__\u001b[0;34m(self, key)\u001b[0m\n\u001b[1;32m   2900\u001b[0m             \u001b[0;32mif\u001b[0m \u001b[0mself\u001b[0m\u001b[0;34m.\u001b[0m\u001b[0mcolumns\u001b[0m\u001b[0;34m.\u001b[0m\u001b[0mnlevels\u001b[0m \u001b[0;34m>\u001b[0m \u001b[0;36m1\u001b[0m\u001b[0;34m:\u001b[0m\u001b[0;34m\u001b[0m\u001b[0;34m\u001b[0m\u001b[0m\n\u001b[1;32m   2901\u001b[0m                 \u001b[0;32mreturn\u001b[0m \u001b[0mself\u001b[0m\u001b[0;34m.\u001b[0m\u001b[0m_getitem_multilevel\u001b[0m\u001b[0;34m(\u001b[0m\u001b[0mkey\u001b[0m\u001b[0;34m)\u001b[0m\u001b[0;34m\u001b[0m\u001b[0;34m\u001b[0m\u001b[0m\n\u001b[0;32m-> 2902\u001b[0;31m             \u001b[0mindexer\u001b[0m \u001b[0;34m=\u001b[0m \u001b[0mself\u001b[0m\u001b[0;34m.\u001b[0m\u001b[0mcolumns\u001b[0m\u001b[0;34m.\u001b[0m\u001b[0mget_loc\u001b[0m\u001b[0;34m(\u001b[0m\u001b[0mkey\u001b[0m\u001b[0;34m)\u001b[0m\u001b[0;34m\u001b[0m\u001b[0;34m\u001b[0m\u001b[0m\n\u001b[0m\u001b[1;32m   2903\u001b[0m             \u001b[0;32mif\u001b[0m \u001b[0mis_integer\u001b[0m\u001b[0;34m(\u001b[0m\u001b[0mindexer\u001b[0m\u001b[0;34m)\u001b[0m\u001b[0;34m:\u001b[0m\u001b[0;34m\u001b[0m\u001b[0;34m\u001b[0m\u001b[0m\n\u001b[1;32m   2904\u001b[0m                 \u001b[0mindexer\u001b[0m \u001b[0;34m=\u001b[0m \u001b[0;34m[\u001b[0m\u001b[0mindexer\u001b[0m\u001b[0;34m]\u001b[0m\u001b[0;34m\u001b[0m\u001b[0;34m\u001b[0m\u001b[0m\n",
      "\u001b[0;32m~/opt/anaconda3/lib/python3.8/site-packages/pandas/core/indexes/base.py\u001b[0m in \u001b[0;36mget_loc\u001b[0;34m(self, key, method, tolerance)\u001b[0m\n\u001b[1;32m   2895\u001b[0m                 \u001b[0;32mreturn\u001b[0m \u001b[0mself\u001b[0m\u001b[0;34m.\u001b[0m\u001b[0m_engine\u001b[0m\u001b[0;34m.\u001b[0m\u001b[0mget_loc\u001b[0m\u001b[0;34m(\u001b[0m\u001b[0mcasted_key\u001b[0m\u001b[0;34m)\u001b[0m\u001b[0;34m\u001b[0m\u001b[0;34m\u001b[0m\u001b[0m\n\u001b[1;32m   2896\u001b[0m             \u001b[0;32mexcept\u001b[0m \u001b[0mKeyError\u001b[0m \u001b[0;32mas\u001b[0m \u001b[0merr\u001b[0m\u001b[0;34m:\u001b[0m\u001b[0;34m\u001b[0m\u001b[0;34m\u001b[0m\u001b[0m\n\u001b[0;32m-> 2897\u001b[0;31m                 \u001b[0;32mraise\u001b[0m \u001b[0mKeyError\u001b[0m\u001b[0;34m(\u001b[0m\u001b[0mkey\u001b[0m\u001b[0;34m)\u001b[0m \u001b[0;32mfrom\u001b[0m \u001b[0merr\u001b[0m\u001b[0;34m\u001b[0m\u001b[0;34m\u001b[0m\u001b[0m\n\u001b[0m\u001b[1;32m   2898\u001b[0m \u001b[0;34m\u001b[0m\u001b[0m\n\u001b[1;32m   2899\u001b[0m         \u001b[0;32mif\u001b[0m \u001b[0mtolerance\u001b[0m \u001b[0;32mis\u001b[0m \u001b[0;32mnot\u001b[0m \u001b[0;32mNone\u001b[0m\u001b[0;34m:\u001b[0m\u001b[0;34m\u001b[0m\u001b[0;34m\u001b[0m\u001b[0m\n",
      "\u001b[0;31mKeyError\u001b[0m: ('start', 'end')"
     ]
    }
   ],
   "source": [
    "source[source[\"Weather Station\"].str.lower().isin(source_matches)][\"start\", \"end\"]"
   ]
  },
  {
   "cell_type": "code",
   "execution_count": null,
   "metadata": {},
   "outputs": [],
   "source": []
  },
  {
   "cell_type": "code",
   "execution_count": 119,
   "metadata": {},
   "outputs": [],
   "source": [
    "wr = pd.read_csv(\"../data/weather/weather_report.csv\")"
   ]
  },
  {
   "cell_type": "code",
   "execution_count": 121,
   "metadata": {},
   "outputs": [
    {
     "data": {
      "text/plain": [
       "(<AxesSubplot:>, 157)"
      ]
     },
     "execution_count": 121,
     "metadata": {},
     "output_type": "execute_result"
    },
    {
     "data": {
      "image/png": "[encoded data removed]",
      "text/plain": [
       "<Figure size 432x288 with 1 Axes>"
      ]
     },
     "metadata": {
      "needs_background": "light"
     },
     "output_type": "display_data"
    }
   ],
   "source": [
    "wr[\"HlyWindSpd (MPH)\"].plot(), wr[\"HlyWindSpd (MPH)\"].argmax()"
   ]
  },
  {
   "cell_type": "code",
   "execution_count": 122,
   "metadata": {},
   "outputs": [
    {
     "data": {
      "text/plain": [
       "<AxesSubplot:>"
      ]
     },
     "execution_count": 122,
     "metadata": {},
     "output_type": "execute_result"
    },
    {
     "data": {
      "image/png": "[encoded data removed]",
      "text/plain": [
       "<Figure size 432x288 with 1 Axes>"
      ]
     },
     "metadata": {
      "needs_background": "light"
     },
     "output_type": "display_data"
    }
   ],
   "source": [
    "wr[\"HlyWindSpd (MPH)\"].hist()"
   ]
  },
  {
   "cell_type": "code",
   "execution_count": null,
   "metadata": {},
   "outputs": [],
   "source": []
  },
  {
   "cell_type": "code",
   "execution_count": 40,
   "metadata": {},
   "outputs": [
    {
     "data": {
      "text/plain": [
       "(<AxesSubplot:>, 157)"
      ]
     },
     "execution_count": 40,
     "metadata": {},
     "output_type": "execute_result"
    },
    {
     "data": {
      "image/png": "[encoded data removed]",
      "text/plain": [
       "<Figure size 432x288 with 1 Axes>"
      ]
     },
     "metadata": {
      "needs_background": "light"
     },
     "output_type": "display_data"
    }
   ],
   "source": [
    "wr[\"HlyRelHum (%)\"].plot(), wr[\"HlyRelHum (%)\"].argmin()"
   ]
  },
  {
   "cell_type": "code",
   "execution_count": null,
   "metadata": {},
   "outputs": [],
   "source": []
  },
  {
   "cell_type": "code",
   "execution_count": 46,
   "metadata": {},
   "outputs": [
    {
     "data": {
      "text/html": [
       "<div>\n",
       "<style scoped>\n",
       "    .dataframe tbody tr th:only-of-type {\n",
       "        vertical-align: middle;\n",
       "    }\n",
       "\n",
       "    .dataframe tbody tr th {\n",
       "        vertical-align: top;\n",
       "    }\n",
       "\n",
       "    .dataframe thead th {\n",
       "        text-align: right;\n",
       "    }\n",
       "</style>\n",
       "<table border=\"1\" class=\"dataframe\">\n",
       "  <thead>\n",
       "    <tr style=\"text-align: right;\">\n",
       "      <th></th>\n",
       "      <th>month</th>\n",
       "      <th>days</th>\n",
       "      <th>year</th>\n",
       "    </tr>\n",
       "  </thead>\n",
       "  <tbody>\n",
       "    <tr>\n",
       "      <th>0</th>\n",
       "      <td>Sept</td>\n",
       "      <td>5-11</td>\n",
       "      <td>2020</td>\n",
       "    </tr>\n",
       "    <tr>\n",
       "      <th>1</th>\n",
       "      <td>Sept</td>\n",
       "      <td>5-11</td>\n",
       "      <td>2020</td>\n",
       "    </tr>\n",
       "    <tr>\n",
       "      <th>2</th>\n",
       "      <td>Nov</td>\n",
       "      <td>29</td>\n",
       "      <td>2020</td>\n",
       "    </tr>\n",
       "    <tr>\n",
       "      <th>3</th>\n",
       "      <td>Nov</td>\n",
       "      <td>29</td>\n",
       "      <td>2020</td>\n",
       "    </tr>\n",
       "    <tr>\n",
       "      <th>4</th>\n",
       "      <td>Nov</td>\n",
       "      <td>29</td>\n",
       "      <td>2020</td>\n",
       "    </tr>\n",
       "    <tr>\n",
       "      <th>...</th>\n",
       "      <td>...</td>\n",
       "      <td>...</td>\n",
       "      <td>...</td>\n",
       "    </tr>\n",
       "    <tr>\n",
       "      <th>519</th>\n",
       "      <td>Jan</td>\n",
       "      <td>12-21</td>\n",
       "      <td>2021</td>\n",
       "    </tr>\n",
       "    <tr>\n",
       "      <th>520</th>\n",
       "      <td>Jan</td>\n",
       "      <td>12-21</td>\n",
       "      <td>2021</td>\n",
       "    </tr>\n",
       "    <tr>\n",
       "      <th>521</th>\n",
       "      <td>Jan</td>\n",
       "      <td>12-21</td>\n",
       "      <td>2021</td>\n",
       "    </tr>\n",
       "    <tr>\n",
       "      <th>522</th>\n",
       "      <td>Jan</td>\n",
       "      <td>12-21</td>\n",
       "      <td>2021</td>\n",
       "    </tr>\n",
       "    <tr>\n",
       "      <th>523</th>\n",
       "      <td>Jan</td>\n",
       "      <td>12-21</td>\n",
       "      <td>2021</td>\n",
       "    </tr>\n",
       "  </tbody>\n",
       "</table>\n",
       "<p>524 rows × 3 columns</p>\n",
       "</div>"
      ],
      "text/plain": [
       "    month   days  year\n",
       "0    Sept   5-11  2020\n",
       "1    Sept   5-11  2020\n",
       "2     Nov     29  2020\n",
       "3     Nov     29  2020\n",
       "4     Nov     29  2020\n",
       "..    ...    ...   ...\n",
       "519   Jan  12-21  2021\n",
       "520   Jan  12-21  2021\n",
       "521   Jan  12-21  2021\n",
       "522   Jan  12-21  2021\n",
       "523   Jan  12-21  2021\n",
       "\n",
       "[524 rows x 3 columns]"
      ]
     },
     "execution_count": 46,
     "metadata": {},
     "output_type": "execute_result"
    }
   ],
   "source": [
    "date_cols = [\"month\", \"days\", \"year\"]\n",
    "source[date_cols]"
   ]
  },
  {
   "cell_type": "code",
   "execution_count": 47,
   "metadata": {},
   "outputs": [],
   "source": [
    "source[[\"event start\", \"event end\"]] = source[\"days\"].str.split(\"-\", expand=True)\n",
    "date_cols += [\"event start\", \"event end\"]"
   ]
  },
  {
   "cell_type": "code",
   "execution_count": 48,
   "metadata": {},
   "outputs": [
    {
     "data": {
      "text/html": [
       "<div>\n",
       "<style scoped>\n",
       "    .dataframe tbody tr th:only-of-type {\n",
       "        vertical-align: middle;\n",
       "    }\n",
       "\n",
       "    .dataframe tbody tr th {\n",
       "        vertical-align: top;\n",
       "    }\n",
       "\n",
       "    .dataframe thead th {\n",
       "        text-align: right;\n",
       "    }\n",
       "</style>\n",
       "<table border=\"1\" class=\"dataframe\">\n",
       "  <thead>\n",
       "    <tr style=\"text-align: right;\">\n",
       "      <th></th>\n",
       "      <th>month</th>\n",
       "      <th>days</th>\n",
       "      <th>year</th>\n",
       "      <th>event start</th>\n",
       "      <th>event end</th>\n",
       "    </tr>\n",
       "  </thead>\n",
       "  <tbody>\n",
       "    <tr>\n",
       "      <th>0</th>\n",
       "      <td>Sept</td>\n",
       "      <td>5-11</td>\n",
       "      <td>2020</td>\n",
       "      <td>5</td>\n",
       "      <td>11</td>\n",
       "    </tr>\n",
       "    <tr>\n",
       "      <th>1</th>\n",
       "      <td>Sept</td>\n",
       "      <td>5-11</td>\n",
       "      <td>2020</td>\n",
       "      <td>5</td>\n",
       "      <td>11</td>\n",
       "    </tr>\n",
       "    <tr>\n",
       "      <th>2</th>\n",
       "      <td>Nov</td>\n",
       "      <td>29</td>\n",
       "      <td>2020</td>\n",
       "      <td>29</td>\n",
       "      <td>None</td>\n",
       "    </tr>\n",
       "    <tr>\n",
       "      <th>3</th>\n",
       "      <td>Nov</td>\n",
       "      <td>29</td>\n",
       "      <td>2020</td>\n",
       "      <td>29</td>\n",
       "      <td>None</td>\n",
       "    </tr>\n",
       "    <tr>\n",
       "      <th>4</th>\n",
       "      <td>Nov</td>\n",
       "      <td>29</td>\n",
       "      <td>2020</td>\n",
       "      <td>29</td>\n",
       "      <td>None</td>\n",
       "    </tr>\n",
       "    <tr>\n",
       "      <th>...</th>\n",
       "      <td>...</td>\n",
       "      <td>...</td>\n",
       "      <td>...</td>\n",
       "      <td>...</td>\n",
       "      <td>...</td>\n",
       "    </tr>\n",
       "    <tr>\n",
       "      <th>519</th>\n",
       "      <td>Jan</td>\n",
       "      <td>12-21</td>\n",
       "      <td>2021</td>\n",
       "      <td>12</td>\n",
       "      <td>21</td>\n",
       "    </tr>\n",
       "    <tr>\n",
       "      <th>520</th>\n",
       "      <td>Jan</td>\n",
       "      <td>12-21</td>\n",
       "      <td>2021</td>\n",
       "      <td>12</td>\n",
       "      <td>21</td>\n",
       "    </tr>\n",
       "    <tr>\n",
       "      <th>521</th>\n",
       "      <td>Jan</td>\n",
       "      <td>12-21</td>\n",
       "      <td>2021</td>\n",
       "      <td>12</td>\n",
       "      <td>21</td>\n",
       "    </tr>\n",
       "    <tr>\n",
       "      <th>522</th>\n",
       "      <td>Jan</td>\n",
       "      <td>12-21</td>\n",
       "      <td>2021</td>\n",
       "      <td>12</td>\n",
       "      <td>21</td>\n",
       "    </tr>\n",
       "    <tr>\n",
       "      <th>523</th>\n",
       "      <td>Jan</td>\n",
       "      <td>12-21</td>\n",
       "      <td>2021</td>\n",
       "      <td>12</td>\n",
       "      <td>21</td>\n",
       "    </tr>\n",
       "  </tbody>\n",
       "</table>\n",
       "<p>524 rows × 5 columns</p>\n",
       "</div>"
      ],
      "text/plain": [
       "    month   days  year event start event end\n",
       "0    Sept   5-11  2020           5        11\n",
       "1    Sept   5-11  2020           5        11\n",
       "2     Nov     29  2020          29      None\n",
       "3     Nov     29  2020          29      None\n",
       "4     Nov     29  2020          29      None\n",
       "..    ...    ...   ...         ...       ...\n",
       "519   Jan  12-21  2021          12        21\n",
       "520   Jan  12-21  2021          12        21\n",
       "521   Jan  12-21  2021          12        21\n",
       "522   Jan  12-21  2021          12        21\n",
       "523   Jan  12-21  2021          12        21\n",
       "\n",
       "[524 rows x 5 columns]"
      ]
     },
     "execution_count": 48,
     "metadata": {},
     "output_type": "execute_result"
    }
   ],
   "source": [
    "source[date_cols]"
   ]
  },
  {
   "cell_type": "code",
   "execution_count": 52,
   "metadata": {},
   "outputs": [],
   "source": [
    "single_day_events = source[\"event end\"].isna()\n",
    "source.loc[source[\"event end\"].isna(), \"event end\"] = source[single_day_events][\"event start\"]"
   ]
  },
  {
   "cell_type": "code",
   "execution_count": 73,
   "metadata": {},
   "outputs": [
    {
     "data": {
      "text/html": [
       "<div>\n",
       "<style scoped>\n",
       "    .dataframe tbody tr th:only-of-type {\n",
       "        vertical-align: middle;\n",
       "    }\n",
       "\n",
       "    .dataframe tbody tr th {\n",
       "        vertical-align: top;\n",
       "    }\n",
       "\n",
       "    .dataframe thead th {\n",
       "        text-align: right;\n",
       "    }\n",
       "</style>\n",
       "<table border=\"1\" class=\"dataframe\">\n",
       "  <thead>\n",
       "    <tr style=\"text-align: right;\">\n",
       "      <th></th>\n",
       "      <th>month</th>\n",
       "      <th>days</th>\n",
       "      <th>year</th>\n",
       "      <th>event start</th>\n",
       "      <th>event end</th>\n",
       "      <th>start</th>\n",
       "      <th>end</th>\n",
       "    </tr>\n",
       "  </thead>\n",
       "  <tbody>\n",
       "    <tr>\n",
       "      <th>0</th>\n",
       "      <td>Sept</td>\n",
       "      <td>5-11</td>\n",
       "      <td>2020</td>\n",
       "      <td>5</td>\n",
       "      <td>11</td>\n",
       "      <td>2020-Sept-5</td>\n",
       "      <td>2020-Sept-11</td>\n",
       "    </tr>\n",
       "    <tr>\n",
       "      <th>1</th>\n",
       "      <td>Sept</td>\n",
       "      <td>5-11</td>\n",
       "      <td>2020</td>\n",
       "      <td>5</td>\n",
       "      <td>11</td>\n",
       "      <td>2020-Sept-5</td>\n",
       "      <td>2020-Sept-11</td>\n",
       "    </tr>\n",
       "    <tr>\n",
       "      <th>2</th>\n",
       "      <td>Nov</td>\n",
       "      <td>29</td>\n",
       "      <td>2020</td>\n",
       "      <td>29</td>\n",
       "      <td>29</td>\n",
       "      <td>2020-Nov-29</td>\n",
       "      <td>2020-Nov-29</td>\n",
       "    </tr>\n",
       "    <tr>\n",
       "      <th>3</th>\n",
       "      <td>Nov</td>\n",
       "      <td>29</td>\n",
       "      <td>2020</td>\n",
       "      <td>29</td>\n",
       "      <td>29</td>\n",
       "      <td>2020-Nov-29</td>\n",
       "      <td>2020-Nov-29</td>\n",
       "    </tr>\n",
       "    <tr>\n",
       "      <th>4</th>\n",
       "      <td>Nov</td>\n",
       "      <td>29</td>\n",
       "      <td>2020</td>\n",
       "      <td>29</td>\n",
       "      <td>29</td>\n",
       "      <td>2020-Nov-29</td>\n",
       "      <td>2020-Nov-29</td>\n",
       "    </tr>\n",
       "    <tr>\n",
       "      <th>...</th>\n",
       "      <td>...</td>\n",
       "      <td>...</td>\n",
       "      <td>...</td>\n",
       "      <td>...</td>\n",
       "      <td>...</td>\n",
       "      <td>...</td>\n",
       "      <td>...</td>\n",
       "    </tr>\n",
       "    <tr>\n",
       "      <th>519</th>\n",
       "      <td>Jan</td>\n",
       "      <td>12-21</td>\n",
       "      <td>2021</td>\n",
       "      <td>12</td>\n",
       "      <td>21</td>\n",
       "      <td>2021-Jan-12</td>\n",
       "      <td>2021-Jan-21</td>\n",
       "    </tr>\n",
       "    <tr>\n",
       "      <th>520</th>\n",
       "      <td>Jan</td>\n",
       "      <td>12-21</td>\n",
       "      <td>2021</td>\n",
       "      <td>12</td>\n",
       "      <td>21</td>\n",
       "      <td>2021-Jan-12</td>\n",
       "      <td>2021-Jan-21</td>\n",
       "    </tr>\n",
       "    <tr>\n",
       "      <th>521</th>\n",
       "      <td>Jan</td>\n",
       "      <td>12-21</td>\n",
       "      <td>2021</td>\n",
       "      <td>12</td>\n",
       "      <td>21</td>\n",
       "      <td>2021-Jan-12</td>\n",
       "      <td>2021-Jan-21</td>\n",
       "    </tr>\n",
       "    <tr>\n",
       "      <th>522</th>\n",
       "      <td>Jan</td>\n",
       "      <td>12-21</td>\n",
       "      <td>2021</td>\n",
       "      <td>12</td>\n",
       "      <td>21</td>\n",
       "      <td>2021-Jan-12</td>\n",
       "      <td>2021-Jan-21</td>\n",
       "    </tr>\n",
       "    <tr>\n",
       "      <th>523</th>\n",
       "      <td>Jan</td>\n",
       "      <td>12-21</td>\n",
       "      <td>2021</td>\n",
       "      <td>12</td>\n",
       "      <td>21</td>\n",
       "      <td>2021-Jan-12</td>\n",
       "      <td>2021-Jan-21</td>\n",
       "    </tr>\n",
       "  </tbody>\n",
       "</table>\n",
       "<p>524 rows × 7 columns</p>\n",
       "</div>"
      ],
      "text/plain": [
       "    month   days  year event start event end        start           end\n",
       "0    Sept   5-11  2020           5        11  2020-Sept-5  2020-Sept-11\n",
       "1    Sept   5-11  2020           5        11  2020-Sept-5  2020-Sept-11\n",
       "2     Nov     29  2020          29        29  2020-Nov-29   2020-Nov-29\n",
       "3     Nov     29  2020          29        29  2020-Nov-29   2020-Nov-29\n",
       "4     Nov     29  2020          29        29  2020-Nov-29   2020-Nov-29\n",
       "..    ...    ...   ...         ...       ...          ...           ...\n",
       "519   Jan  12-21  2021          12        21  2021-Jan-12   2021-Jan-21\n",
       "520   Jan  12-21  2021          12        21  2021-Jan-12   2021-Jan-21\n",
       "521   Jan  12-21  2021          12        21  2021-Jan-12   2021-Jan-21\n",
       "522   Jan  12-21  2021          12        21  2021-Jan-12   2021-Jan-21\n",
       "523   Jan  12-21  2021          12        21  2021-Jan-12   2021-Jan-21\n",
       "\n",
       "[524 rows x 7 columns]"
      ]
     },
     "execution_count": 73,
     "metadata": {},
     "output_type": "execute_result"
    }
   ],
   "source": [
    "source[date_cols]"
   ]
  },
  {
   "cell_type": "code",
   "execution_count": 76,
   "metadata": {},
   "outputs": [],
   "source": [
    "str_combine = lambda s1, s2: str(s1) + \"-\" + str(s2)"
   ]
  },
  {
   "cell_type": "code",
   "execution_count": 77,
   "metadata": {},
   "outputs": [],
   "source": [
    "source[\"start\"] = source.year.combine(source.month, str_combine).combine(source[\"event start\"], str_combine)\n",
    "source[\"end\"] = source.year.combine(source.month, str_combine).combine(source[\"event end\"], str_combine)\n",
    "date_cols += [\"start\", \"end\"]"
   ]
  },
  {
   "cell_type": "code",
   "execution_count": 78,
   "metadata": {},
   "outputs": [],
   "source": [
    "for s in [\"start\", \"end\"]:\n",
    "    source[s] = pd.to_datetime(source[s])"
   ]
  },
  {
   "cell_type": "code",
   "execution_count": 80,
   "metadata": {},
   "outputs": [
    {
     "data": {
      "text/plain": [
       "0     2020-09-05\n",
       "1     2020-09-05\n",
       "2     2020-11-29\n",
       "3     2020-11-29\n",
       "4     2020-11-29\n",
       "         ...    \n",
       "519   2021-01-12\n",
       "520   2021-01-12\n",
       "521   2021-01-12\n",
       "522   2021-01-12\n",
       "523   2021-01-12\n",
       "Name: start, Length: 524, dtype: datetime64[ns]"
      ]
     },
     "execution_count": 80,
     "metadata": {},
     "output_type": "execute_result"
    }
   ],
   "source": [
    "source[\"start\"]"
   ]
  },
  {
   "cell_type": "code",
   "execution_count": null,
   "metadata": {},
   "outputs": [],
   "source": []
  }
 ],
 "metadata": {
  "kernelspec": {
   "display_name": "Python 3",
   "language": "python",
   "name": "python3"
  },
  "language_info": {
   "codemirror_mode": {
    "name": "ipython",
    "version": 3
   },
   "file_extension": ".py",
   "mimetype": "text/x-python",
   "name": "python",
   "nbconvert_exporter": "python",
   "pygments_lexer": "ipython3",
   "version": "3.8.5"
  }
 },
 "nbformat": 4,
 "nbformat_minor": 4
}
