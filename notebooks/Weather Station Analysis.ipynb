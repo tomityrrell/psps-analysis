{
 "cells": [
  {
   "cell_type": "code",
   "execution_count": 1,
   "metadata": {},
   "outputs": [],
   "source": [
    "import numpy as np\n",
    "import pandas as pd\n",
    "import matplotlib.pyplot as plt"
   ]
  },
  {
   "cell_type": "markdown",
   "metadata": {},
   "source": [
    "Data from [https://cimis.water.ca.gov/Default.aspx](https://cimis.water.ca.gov/Default.aspx) and [https://et.water.ca.gov/Rest/Index](https://et.water.ca.gov/Rest/Index)"
   ]
  },
  {
   "cell_type": "code",
   "execution_count": 2,
   "metadata": {},
   "outputs": [],
   "source": [
    "import sys\n",
    "sys.path.append(\"../loaders/weather_station\")"
   ]
  },
  {
   "cell_type": "code",
   "execution_count": 3,
   "metadata": {},
   "outputs": [],
   "source": [
    "import weather_reports"
   ]
  },
  {
   "cell_type": "code",
   "execution_count": 4,
   "metadata": {},
   "outputs": [],
   "source": [
    "source = pd.read_csv(\"../data/source.csv\", parse_dates=True)\n",
    "source[[\"start\", \"end\"]] = source[[\"start\", \"end\"]].astype(\"datetime64[ns]\")"
   ]
  },
  {
   "cell_type": "code",
   "execution_count": 5,
   "metadata": {},
   "outputs": [
    {
     "data": {
      "text/plain": [
       "Index(['StationNbr', 'Name', 'City', 'RegionalOffice', 'County', 'ConnectDate',\n",
       "       'DisconnectDate', 'IsActive', 'IsEtoStation', 'Elevation',\n",
       "       'GroundCover', 'HmsLatitude', 'HmsLongitude', 'ZipCodes', 'SitingDesc'],\n",
       "      dtype='object')"
      ]
     },
     "execution_count": 5,
     "metadata": {},
     "output_type": "execute_result"
    }
   ],
   "source": [
    "ws = pd.read_csv(\"../data/weather/weather_stations.csv\", parse_dates=True)\n",
    "ws.columns"
   ]
  },
  {
   "cell_type": "code",
   "execution_count": 6,
   "metadata": {},
   "outputs": [
    {
     "data": {
      "text/html": [
       "<div>\n",
       "<style scoped>\n",
       "    .dataframe tbody tr th:only-of-type {\n",
       "        vertical-align: middle;\n",
       "    }\n",
       "\n",
       "    .dataframe tbody tr th {\n",
       "        vertical-align: top;\n",
       "    }\n",
       "\n",
       "    .dataframe thead th {\n",
       "        text-align: right;\n",
       "    }\n",
       "</style>\n",
       "<table border=\"1\" class=\"dataframe\">\n",
       "  <thead>\n",
       "    <tr style=\"text-align: right;\">\n",
       "      <th></th>\n",
       "      <th>StationNbr</th>\n",
       "      <th>Name</th>\n",
       "      <th>City</th>\n",
       "      <th>RegionalOffice</th>\n",
       "      <th>County</th>\n",
       "      <th>ConnectDate</th>\n",
       "      <th>DisconnectDate</th>\n",
       "      <th>IsActive</th>\n",
       "      <th>IsEtoStation</th>\n",
       "      <th>Elevation</th>\n",
       "      <th>GroundCover</th>\n",
       "      <th>HmsLatitude</th>\n",
       "      <th>HmsLongitude</th>\n",
       "      <th>ZipCodes</th>\n",
       "      <th>SitingDesc</th>\n",
       "    </tr>\n",
       "  </thead>\n",
       "  <tbody>\n",
       "    <tr>\n",
       "      <th>5</th>\n",
       "      <td>6</td>\n",
       "      <td>Davis</td>\n",
       "      <td>Davis</td>\n",
       "      <td>North Central Region Office</td>\n",
       "      <td>Yolo</td>\n",
       "      <td>7/17/1982</td>\n",
       "      <td>12/31/2050</td>\n",
       "      <td>True</td>\n",
       "      <td>True</td>\n",
       "      <td>60</td>\n",
       "      <td>Grass</td>\n",
       "      <td>38º32'8N / 38.535694</td>\n",
       "      <td>-121º46'35W / -121.776360</td>\n",
       "      <td>['95618', '95617', '95616']</td>\n",
       "      <td>NaN</td>\n",
       "    </tr>\n",
       "  </tbody>\n",
       "</table>\n",
       "</div>"
      ],
      "text/plain": [
       "   StationNbr   Name   City               RegionalOffice County ConnectDate  \\\n",
       "5           6  Davis  Davis  North Central Region Office   Yolo   7/17/1982   \n",
       "\n",
       "  DisconnectDate  IsActive  IsEtoStation  Elevation GroundCover  \\\n",
       "5     12/31/2050      True          True         60       Grass   \n",
       "\n",
       "            HmsLatitude               HmsLongitude  \\\n",
       "5  38º32'8N / 38.535694  -121º46'35W / -121.776360   \n",
       "\n",
       "                      ZipCodes  SitingDesc  \n",
       "5  ['95618', '95617', '95616']         NaN  "
      ]
     },
     "execution_count": 6,
     "metadata": {},
     "output_type": "execute_result"
    }
   ],
   "source": [
    "ws[ws.StationNbr == 6]"
   ]
  },
  {
   "cell_type": "code",
   "execution_count": 7,
   "metadata": {},
   "outputs": [],
   "source": [
    "sce_ws = source[\"Weather Station\"].unique()\n",
    "api_ws = ws.Name\n",
    "matches = {}\n",
    "for n in api_ws:\n",
    "    for w in sce_ws:\n",
    "        if n.lower() in w.lower() and n not in matches:\n",
    "            matches[n]=w"
   ]
  },
  {
   "cell_type": "code",
   "execution_count": 8,
   "metadata": {},
   "outputs": [
    {
     "data": {
      "text/plain": [
       "{'Davis': 'SCE Mount Davis',\n",
       " 'Soledad': 'SCE Soledad Canyon Rd',\n",
       " 'Santa Paula': 'SCE Santa Paula',\n",
       " 'Escondido': 'SCE Escondido Canyon',\n",
       " 'Ramona': 'SCE Ramona Expy',\n",
       " 'Moorpark': 'SCE Moorpark',\n",
       " 'Moreno Valley': 'SCE Moreno Valley Fwy',\n",
       " 'Williams': 'SCE Williams Canyon Rd',\n",
       " 'Highland': 'HIGHLAND SPRINGS RAW',\n",
       " 'Chino': 'SCE Chino Hills 3'}"
      ]
     },
     "execution_count": 8,
     "metadata": {},
     "output_type": "execute_result"
    }
   ],
   "source": [
    "matches"
   ]
  },
  {
   "cell_type": "code",
   "execution_count": 9,
   "metadata": {},
   "outputs": [],
   "source": [
    "ws_matches = ws[ws.Name.isin(matches.keys())].copy()\n",
    "ws_matches.Name = ws_matches.Name.apply(lambda s: matches[s])\n",
    "source_ws = source.merge(ws_matches, left_on=\"Weather Station\", right_on=\"Name\")"
   ]
  },
  {
   "cell_type": "code",
   "execution_count": 11,
   "metadata": {},
   "outputs": [],
   "source": [
    "ws_query = source_ws[[\"StationNbr\", \"start\", \"end\"]]\n",
    "ws_query = ws_query[~ws_query.duplicated()]"
   ]
  },
  {
   "cell_type": "code",
   "execution_count": 14,
   "metadata": {},
   "outputs": [],
   "source": [
    "# look at data the day before/after the event\n",
    "one_day = pd.Timedelta(days=1)\n",
    "one_month = pd.Timedelta(days=30)\n",
    "ws_query.start = ws_query.start - one_month\n",
    "ws_query.end = ws_query.end + one_month"
   ]
  },
  {
   "cell_type": "code",
   "execution_count": 15,
   "metadata": {},
   "outputs": [
    {
     "data": {
      "text/plain": [
       "array([['6', '2020-10-30', '2020-12-29'],\n",
       "       ['6', '2020-11-16', '2021-01-23'],\n",
       "       ['6', '2020-11-04', '2021-01-13'],\n",
       "       ['6', '2020-12-13', '2021-02-20'],\n",
       "       ['98', '2020-10-30', '2020-12-29'],\n",
       "       ['238', '2020-10-30', '2020-12-29'],\n",
       "       ['58', '2020-10-30', '2020-12-29'],\n",
       "       ['198', '2020-10-30', '2020-12-29'],\n",
       "       ['58', '2020-12-13', '2021-02-20'],\n",
       "       ['198', '2020-12-13', '2021-02-20'],\n",
       "       ['28', '2020-10-30', '2020-12-29'],\n",
       "       ['217', '2020-10-30', '2020-12-29'],\n",
       "       ['251', '2020-11-04', '2021-01-13'],\n",
       "       ['250', '2020-11-04', '2021-01-13'],\n",
       "       ['74', '2020-11-04', '2021-01-13'],\n",
       "       ['74', '2020-12-13', '2021-02-20'],\n",
       "       ['255', '2020-12-13', '2021-02-20']], dtype=object)"
      ]
     },
     "execution_count": 15,
     "metadata": {},
     "output_type": "execute_result"
    }
   ],
   "source": [
    "query = ws_query.astype(\"str\").values\n",
    "query"
   ]
  },
  {
   "cell_type": "code",
   "execution_count": 16,
   "metadata": {
    "tags": []
   },
   "outputs": [
    {
     "name": "stdout",
     "output_type": "stream",
     "text": [
      "Querying 6 2020-10-30 2020-12-29\n",
      "Querying 6 2020-11-16 2021-01-23\n",
      "Querying 6 2020-11-04 2021-01-13\n",
      "Querying 6 2020-12-13 2021-02-20\n",
      "Querying 98 2020-10-30 2020-12-29\n",
      "Querying 238 2020-10-30 2020-12-29\n",
      "Querying 58 2020-10-30 2020-12-29\n",
      "Querying 198 2020-10-30 2020-12-29\n",
      "Querying 58 2020-12-13 2021-02-20\n",
      "Querying 198 2020-12-13 2021-02-20\n",
      "Querying 28 2020-10-30 2020-12-29\n",
      "Querying 217 2020-10-30 2020-12-29\n",
      "Querying 251 2020-11-04 2021-01-13\n",
      "Querying 250 2020-11-04 2021-01-13\n",
      "Querying 74 2020-11-04 2021-01-13\n",
      "Querying 74 2020-12-13 2021-02-20\n",
      "Querying 255 2020-12-13 2021-02-20\n"
     ]
    }
   ],
   "source": [
    "# go off and use ye old query module\n",
    "wr = weather_reports.weather_station_query(query)"
   ]
  },
  {
   "cell_type": "code",
   "execution_count": 17,
   "metadata": {},
   "outputs": [
    {
     "data": {
      "text/html": [
       "<div>\n",
       "<style scoped>\n",
       "    .dataframe tbody tr th:only-of-type {\n",
       "        vertical-align: middle;\n",
       "    }\n",
       "\n",
       "    .dataframe tbody tr th {\n",
       "        vertical-align: top;\n",
       "    }\n",
       "\n",
       "    .dataframe thead th {\n",
       "        text-align: right;\n",
       "    }\n",
       "</style>\n",
       "<table border=\"1\" class=\"dataframe\">\n",
       "  <thead>\n",
       "    <tr style=\"text-align: right;\">\n",
       "      <th></th>\n",
       "      <th>Date</th>\n",
       "      <th>Julian</th>\n",
       "      <th>Hour</th>\n",
       "      <th>Station</th>\n",
       "      <th>Standard</th>\n",
       "      <th>ZipCodes</th>\n",
       "      <th>Scope</th>\n",
       "      <th>HlyAirTmp (F)</th>\n",
       "      <th>HlyDewPnt (F)</th>\n",
       "      <th>HlyEto (in)</th>\n",
       "      <th>...</th>\n",
       "      <th>HlyAsceEto (in)</th>\n",
       "      <th>HlyAsceEtr (in)</th>\n",
       "      <th>HlyPrecip (in)</th>\n",
       "      <th>HlyRelHum (%)</th>\n",
       "      <th>HlyResWind (MPH)</th>\n",
       "      <th>HlySoilTmp (F)</th>\n",
       "      <th>HlySolRad (Ly/day)</th>\n",
       "      <th>HlyVapPres (mBars)</th>\n",
       "      <th>HlyWindDir (°)</th>\n",
       "      <th>HlyWindSpd (MPH)</th>\n",
       "    </tr>\n",
       "  </thead>\n",
       "  <tbody>\n",
       "    <tr>\n",
       "      <th>0</th>\n",
       "      <td>2020-10-30</td>\n",
       "      <td>304</td>\n",
       "      <td>0100</td>\n",
       "      <td>6</td>\n",
       "      <td>english</td>\n",
       "      <td>95618, 95617, 95616</td>\n",
       "      <td>hourly</td>\n",
       "      <td>45.4</td>\n",
       "      <td>35.7</td>\n",
       "      <td>0</td>\n",
       "      <td>...</td>\n",
       "      <td>0</td>\n",
       "      <td>None</td>\n",
       "      <td>0</td>\n",
       "      <td>69</td>\n",
       "      <td>2</td>\n",
       "      <td>57.6</td>\n",
       "      <td>0</td>\n",
       "      <td>7.1</td>\n",
       "      <td>217</td>\n",
       "      <td>2.2</td>\n",
       "    </tr>\n",
       "    <tr>\n",
       "      <th>1</th>\n",
       "      <td>2020-10-30</td>\n",
       "      <td>304</td>\n",
       "      <td>0200</td>\n",
       "      <td>6</td>\n",
       "      <td>english</td>\n",
       "      <td>95618, 95617, 95616</td>\n",
       "      <td>hourly</td>\n",
       "      <td>45.1</td>\n",
       "      <td>35.9</td>\n",
       "      <td>0</td>\n",
       "      <td>...</td>\n",
       "      <td>0</td>\n",
       "      <td>None</td>\n",
       "      <td>0</td>\n",
       "      <td>70</td>\n",
       "      <td>1.5</td>\n",
       "      <td>57.2</td>\n",
       "      <td>0</td>\n",
       "      <td>7.2</td>\n",
       "      <td>251</td>\n",
       "      <td>1.7</td>\n",
       "    </tr>\n",
       "    <tr>\n",
       "      <th>2</th>\n",
       "      <td>2020-10-30</td>\n",
       "      <td>304</td>\n",
       "      <td>0300</td>\n",
       "      <td>6</td>\n",
       "      <td>english</td>\n",
       "      <td>95618, 95617, 95616</td>\n",
       "      <td>hourly</td>\n",
       "      <td>43.9</td>\n",
       "      <td>34.7</td>\n",
       "      <td>0</td>\n",
       "      <td>...</td>\n",
       "      <td>0</td>\n",
       "      <td>None</td>\n",
       "      <td>0</td>\n",
       "      <td>70</td>\n",
       "      <td>1.8</td>\n",
       "      <td>56.9</td>\n",
       "      <td>0</td>\n",
       "      <td>6.8</td>\n",
       "      <td>274</td>\n",
       "      <td>2.1</td>\n",
       "    </tr>\n",
       "    <tr>\n",
       "      <th>3</th>\n",
       "      <td>2020-10-30</td>\n",
       "      <td>304</td>\n",
       "      <td>0400</td>\n",
       "      <td>6</td>\n",
       "      <td>english</td>\n",
       "      <td>95618, 95617, 95616</td>\n",
       "      <td>hourly</td>\n",
       "      <td>43.6</td>\n",
       "      <td>34.1</td>\n",
       "      <td>0</td>\n",
       "      <td>...</td>\n",
       "      <td>0</td>\n",
       "      <td>None</td>\n",
       "      <td>0</td>\n",
       "      <td>69</td>\n",
       "      <td>1.3</td>\n",
       "      <td>56.6</td>\n",
       "      <td>0</td>\n",
       "      <td>6.6</td>\n",
       "      <td>269</td>\n",
       "      <td>1.4</td>\n",
       "    </tr>\n",
       "    <tr>\n",
       "      <th>4</th>\n",
       "      <td>2020-10-30</td>\n",
       "      <td>304</td>\n",
       "      <td>0500</td>\n",
       "      <td>6</td>\n",
       "      <td>english</td>\n",
       "      <td>95618, 95617, 95616</td>\n",
       "      <td>hourly</td>\n",
       "      <td>45</td>\n",
       "      <td>35.4</td>\n",
       "      <td>0</td>\n",
       "      <td>...</td>\n",
       "      <td>0</td>\n",
       "      <td>None</td>\n",
       "      <td>0</td>\n",
       "      <td>69</td>\n",
       "      <td>1.6</td>\n",
       "      <td>56.4</td>\n",
       "      <td>0</td>\n",
       "      <td>7</td>\n",
       "      <td>267</td>\n",
       "      <td>1.6</td>\n",
       "    </tr>\n",
       "  </tbody>\n",
       "</table>\n",
       "<p>5 rows × 21 columns</p>\n",
       "</div>"
      ],
      "text/plain": [
       "         Date Julian  Hour Station Standard             ZipCodes   Scope  \\\n",
       "0  2020-10-30    304  0100       6  english  95618, 95617, 95616  hourly   \n",
       "1  2020-10-30    304  0200       6  english  95618, 95617, 95616  hourly   \n",
       "2  2020-10-30    304  0300       6  english  95618, 95617, 95616  hourly   \n",
       "3  2020-10-30    304  0400       6  english  95618, 95617, 95616  hourly   \n",
       "4  2020-10-30    304  0500       6  english  95618, 95617, 95616  hourly   \n",
       "\n",
       "  HlyAirTmp (F) HlyDewPnt (F) HlyEto (in)  ... HlyAsceEto (in)  \\\n",
       "0          45.4          35.7           0  ...               0   \n",
       "1          45.1          35.9           0  ...               0   \n",
       "2          43.9          34.7           0  ...               0   \n",
       "3          43.6          34.1           0  ...               0   \n",
       "4            45          35.4           0  ...               0   \n",
       "\n",
       "  HlyAsceEtr (in) HlyPrecip (in) HlyRelHum (%) HlyResWind (MPH)  \\\n",
       "0            None              0            69                2   \n",
       "1            None              0            70              1.5   \n",
       "2            None              0            70              1.8   \n",
       "3            None              0            69              1.3   \n",
       "4            None              0            69              1.6   \n",
       "\n",
       "  HlySoilTmp (F) HlySolRad (Ly/day) HlyVapPres (mBars) HlyWindDir (°)  \\\n",
       "0           57.6                  0                7.1            217   \n",
       "1           57.2                  0                7.2            251   \n",
       "2           56.9                  0                6.8            274   \n",
       "3           56.6                  0                6.6            269   \n",
       "4           56.4                  0                  7            267   \n",
       "\n",
       "  HlyWindSpd (MPH)  \n",
       "0              2.2  \n",
       "1              1.7  \n",
       "2              2.1  \n",
       "3              1.4  \n",
       "4              1.6  \n",
       "\n",
       "[5 rows x 21 columns]"
      ]
     },
     "execution_count": 17,
     "metadata": {},
     "output_type": "execute_result"
    }
   ],
   "source": [
    "wr.head()"
   ]
  },
  {
   "cell_type": "code",
   "execution_count": 18,
   "metadata": {},
   "outputs": [],
   "source": [
    "import time\n",
    "wr.to_csv(\"../data/weather/weather_report_{}.csv\".format(time.time()), index=False)"
   ]
  },
  {
   "cell_type": "code",
   "execution_count": null,
   "metadata": {},
   "outputs": [],
   "source": []
  }
 ],
 "metadata": {
  "kernelspec": {
   "display_name": "Python 3",
   "language": "python",
   "name": "python3"
  },
  "language_info": {
   "codemirror_mode": {
    "name": "ipython",
    "version": 3
   },
   "file_extension": ".py",
   "mimetype": "text/x-python",
   "name": "python",
   "nbconvert_exporter": "python",
   "pygments_lexer": "ipython3",
   "version": "3.7.10"
  }
 },
 "nbformat": 4,
 "nbformat_minor": 4
}
